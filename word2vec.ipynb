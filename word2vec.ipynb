{
 "cells": [
  {
   "cell_type": "markdown",
   "metadata": {},
   "source": [
    "## Dataset download"
   ]
  },
  {
   "cell_type": "code",
   "execution_count": 18,
   "metadata": {},
   "outputs": [],
   "source": [
    "import requests\n",
    "import zipfile\n",
    "import os"
   ]
  },
  {
   "cell_type": "code",
   "execution_count": 19,
   "metadata": {},
   "outputs": [],
   "source": [
    "url = 'https://www.kaggle.com/api/v1/datasets/download/emirhanai/2024-u-s-election-sentiment-on-x'\n",
    "\n",
    "response = requests.get(url)"
   ]
  },
  {
   "cell_type": "code",
   "execution_count": 20,
   "metadata": {},
   "outputs": [
    {
     "name": "stdout",
     "output_type": "stream",
     "text": [
      "Dataset saved as 'dataset.zip'\n"
     ]
    }
   ],
   "source": [
    "if response.status_code == 200:\n",
    "    with open('dataset.zip', 'wb') as file:\n",
    "        file.write(response.content)\n",
    "    print(\"Dataset saved as 'dataset.zip'\")\n",
    "else:\n",
    "    print(f\"Error downloading dataset: {response.status_code}\")"
   ]
  },
  {
   "cell_type": "code",
   "execution_count": 21,
   "metadata": {},
   "outputs": [
    {
     "name": "stdout",
     "output_type": "stream",
     "text": [
      "Dataset unpacked as 'dataset'\n"
     ]
    }
   ],
   "source": [
    "with zipfile.ZipFile('dataset.zip', 'r') as zip_ref:\n",
    "    zip_ref.extractall('dataset')\n",
    "print(\"Dataset unpacked as 'dataset'\")"
   ]
  },
  {
   "cell_type": "code",
   "execution_count": 22,
   "metadata": {},
   "outputs": [
    {
     "name": "stdout",
     "output_type": "stream",
     "text": [
      "Dataset files: ['test.csv', 'train.csv', 'val.csv']\n"
     ]
    }
   ],
   "source": [
    "files = os.listdir('dataset')\n",
    "print(\"Dataset files:\", files)"
   ]
  },
  {
   "cell_type": "markdown",
   "metadata": {},
   "source": [
    "## Exploratory Data Analysis"
   ]
  },
  {
   "cell_type": "code",
   "execution_count": 1,
   "metadata": {},
   "outputs": [],
   "source": [
    "import pandas as pd\n",
    "import plotly.express as px"
   ]
  },
  {
   "cell_type": "code",
   "execution_count": 2,
   "metadata": {},
   "outputs": [
    {
     "name": "stdout",
     "output_type": "stream",
     "text": [
      "df_train size: 500\n",
      "df_test size: 50\n",
      "df_val size: 50\n"
     ]
    }
   ],
   "source": [
    "df_train = pd.read_csv('dataset/train.csv')\n",
    "df_test = pd.read_csv('dataset/test.csv')\n",
    "df_val = pd.read_csv('dataset/val.csv')\n",
    "\n",
    "print(f\"df_train size: {df_train.shape[0]}\")\n",
    "print(f\"df_test size: {df_test.shape[0]}\")\n",
    "print(f\"df_val size: {df_val.shape[0]}\")"
   ]
  },
  {
   "cell_type": "code",
   "execution_count": 3,
   "metadata": {},
   "outputs": [
    {
     "data": {
      "text/html": [
       "<div>\n",
       "<style scoped>\n",
       "    .dataframe tbody tr th:only-of-type {\n",
       "        vertical-align: middle;\n",
       "    }\n",
       "\n",
       "    .dataframe tbody tr th {\n",
       "        vertical-align: top;\n",
       "    }\n",
       "\n",
       "    .dataframe thead th {\n",
       "        text-align: right;\n",
       "    }\n",
       "</style>\n",
       "<table border=\"1\" class=\"dataframe\">\n",
       "  <thead>\n",
       "    <tr style=\"text-align: right;\">\n",
       "      <th></th>\n",
       "      <th>tweet_id</th>\n",
       "      <th>user_handle</th>\n",
       "      <th>timestamp</th>\n",
       "      <th>tweet_text</th>\n",
       "      <th>candidate</th>\n",
       "      <th>party</th>\n",
       "      <th>retweets</th>\n",
       "      <th>likes</th>\n",
       "      <th>sentiment</th>\n",
       "    </tr>\n",
       "  </thead>\n",
       "  <tbody>\n",
       "    <tr>\n",
       "      <th>0</th>\n",
       "      <td>1</td>\n",
       "      <td>@user123</td>\n",
       "      <td>2024-11-03 08:45:00</td>\n",
       "      <td>Excited to see Kamala Harris leading the Democ...</td>\n",
       "      <td>Kamala Harris</td>\n",
       "      <td>Democratic Party</td>\n",
       "      <td>120</td>\n",
       "      <td>450</td>\n",
       "      <td>positive</td>\n",
       "    </tr>\n",
       "    <tr>\n",
       "      <th>1</th>\n",
       "      <td>2</td>\n",
       "      <td>@politicsFan</td>\n",
       "      <td>2024-11-03 09:15:23</td>\n",
       "      <td>Donald Trump's policies are the best for our e...</td>\n",
       "      <td>Donald Trump</td>\n",
       "      <td>Republican Party</td>\n",
       "      <td>85</td>\n",
       "      <td>300</td>\n",
       "      <td>positive</td>\n",
       "    </tr>\n",
       "    <tr>\n",
       "      <th>2</th>\n",
       "      <td>3</td>\n",
       "      <td>@greenAdvocate</td>\n",
       "      <td>2024-11-03 10:05:45</td>\n",
       "      <td>Jill Stein's environmental plans are exactly w...</td>\n",
       "      <td>Jill Stein</td>\n",
       "      <td>Green Party</td>\n",
       "      <td>60</td>\n",
       "      <td>200</td>\n",
       "      <td>positive</td>\n",
       "    </tr>\n",
       "    <tr>\n",
       "      <th>3</th>\n",
       "      <td>4</td>\n",
       "      <td>@indieVoice</td>\n",
       "      <td>2024-11-03 11:20:10</td>\n",
       "      <td>Robert Kennedy offers a fresh perspective outs...</td>\n",
       "      <td>Robert Kennedy</td>\n",
       "      <td>Independent</td>\n",
       "      <td>40</td>\n",
       "      <td>150</td>\n",
       "      <td>neutral</td>\n",
       "    </tr>\n",
       "    <tr>\n",
       "      <th>4</th>\n",
       "      <td>5</td>\n",
       "      <td>@libertyLover</td>\n",
       "      <td>2024-11-03 12:35:55</td>\n",
       "      <td>Chase Oliver's libertarian stance promotes tru...</td>\n",
       "      <td>Chase Oliver</td>\n",
       "      <td>Libertarian Party</td>\n",
       "      <td>30</td>\n",
       "      <td>120</td>\n",
       "      <td>positive</td>\n",
       "    </tr>\n",
       "  </tbody>\n",
       "</table>\n",
       "</div>"
      ],
      "text/plain": [
       "   tweet_id     user_handle            timestamp  \\\n",
       "0         1        @user123  2024-11-03 08:45:00   \n",
       "1         2    @politicsFan  2024-11-03 09:15:23   \n",
       "2         3  @greenAdvocate  2024-11-03 10:05:45   \n",
       "3         4     @indieVoice  2024-11-03 11:20:10   \n",
       "4         5   @libertyLover  2024-11-03 12:35:55   \n",
       "\n",
       "                                          tweet_text       candidate  \\\n",
       "0  Excited to see Kamala Harris leading the Democ...   Kamala Harris   \n",
       "1  Donald Trump's policies are the best for our e...    Donald Trump   \n",
       "2  Jill Stein's environmental plans are exactly w...      Jill Stein   \n",
       "3  Robert Kennedy offers a fresh perspective outs...  Robert Kennedy   \n",
       "4  Chase Oliver's libertarian stance promotes tru...    Chase Oliver   \n",
       "\n",
       "               party  retweets  likes sentiment  \n",
       "0   Democratic Party       120    450  positive  \n",
       "1   Republican Party        85    300  positive  \n",
       "2        Green Party        60    200  positive  \n",
       "3        Independent        40    150   neutral  \n",
       "4  Libertarian Party        30    120  positive  "
      ]
     },
     "execution_count": 3,
     "metadata": {},
     "output_type": "execute_result"
    }
   ],
   "source": [
    "df_train.head()"
   ]
  },
  {
   "cell_type": "code",
   "execution_count": 71,
   "metadata": {},
   "outputs": [],
   "source": [
    "party_colors = {\n",
    "    \"Republican Party\": \"#BB0000\",\n",
    "    \"Democratic Party\": \"#0000BB\",\n",
    "    \"Green Party\": \"#00BB00\",\n",
    "    \"Independent\": \"#BBBBBB\",\n",
    "    \"Libertarian Party\": \"#CCCC00\"\n",
    "}"
   ]
  },
  {
   "cell_type": "code",
   "execution_count": 78,
   "metadata": {},
   "outputs": [
    {
     "data": {
      "application/vnd.plotly.v1+json": {
       "config": {
        "plotlyServerURL": "https://plot.ly"
       },
       "data": [
        {
         "alignmentgroup": "True",
         "hovertemplate": "Political Party=%{x}<br>Total Likes=%{y}<extra></extra>",
         "legendgroup": "Republican Party",
         "marker": {
          "color": "#BB0000",
          "pattern": {
           "shape": ""
          }
         },
         "name": "Republican Party",
         "offsetgroup": "Republican Party",
         "orientation": "v",
         "showlegend": true,
         "textposition": "auto",
         "type": "bar",
         "x": [
          "Republican Party"
         ],
         "xaxis": "x",
         "y": [
          43050
         ],
         "yaxis": "y"
        },
        {
         "alignmentgroup": "True",
         "hovertemplate": "Political Party=%{x}<br>Total Likes=%{y}<extra></extra>",
         "legendgroup": "Democratic Party",
         "marker": {
          "color": "#0000BB",
          "pattern": {
           "shape": ""
          }
         },
         "name": "Democratic Party",
         "offsetgroup": "Democratic Party",
         "orientation": "v",
         "showlegend": true,
         "textposition": "auto",
         "type": "bar",
         "x": [
          "Democratic Party"
         ],
         "xaxis": "x",
         "y": [
          33235
         ],
         "yaxis": "y"
        },
        {
         "alignmentgroup": "True",
         "hovertemplate": "Political Party=%{x}<br>Total Likes=%{y}<extra></extra>",
         "legendgroup": "Green Party",
         "marker": {
          "color": "#00BB00",
          "pattern": {
           "shape": ""
          }
         },
         "name": "Green Party",
         "offsetgroup": "Green Party",
         "orientation": "v",
         "showlegend": true,
         "textposition": "auto",
         "type": "bar",
         "x": [
          "Green Party"
         ],
         "xaxis": "x",
         "y": [
          22275
         ],
         "yaxis": "y"
        },
        {
         "alignmentgroup": "True",
         "hovertemplate": "Political Party=%{x}<br>Total Likes=%{y}<extra></extra>",
         "legendgroup": "Libertarian Party",
         "marker": {
          "color": "#CCCC00",
          "pattern": {
           "shape": ""
          }
         },
         "name": "Libertarian Party",
         "offsetgroup": "Libertarian Party",
         "orientation": "v",
         "showlegend": true,
         "textposition": "auto",
         "type": "bar",
         "x": [
          "Libertarian Party"
         ],
         "xaxis": "x",
         "y": [
          15820
         ],
         "yaxis": "y"
        },
        {
         "alignmentgroup": "True",
         "hovertemplate": "Political Party=%{x}<br>Total Likes=%{y}<extra></extra>",
         "legendgroup": "Independent",
         "marker": {
          "color": "#BBBBBB",
          "pattern": {
           "shape": ""
          }
         },
         "name": "Independent",
         "offsetgroup": "Independent",
         "orientation": "v",
         "showlegend": true,
         "textposition": "auto",
         "type": "bar",
         "x": [
          "Independent"
         ],
         "xaxis": "x",
         "y": [
          10080
         ],
         "yaxis": "y"
        }
       ],
       "layout": {
        "barmode": "relative",
        "legend": {
         "title": {
          "text": "Political Party"
         },
         "tracegroupgap": 0
        },
        "template": {
         "data": {
          "bar": [
           {
            "error_x": {
             "color": "#2a3f5f"
            },
            "error_y": {
             "color": "#2a3f5f"
            },
            "marker": {
             "line": {
              "color": "#E5ECF6",
              "width": 0.5
             },
             "pattern": {
              "fillmode": "overlay",
              "size": 10,
              "solidity": 0.2
             }
            },
            "type": "bar"
           }
          ],
          "barpolar": [
           {
            "marker": {
             "line": {
              "color": "#E5ECF6",
              "width": 0.5
             },
             "pattern": {
              "fillmode": "overlay",
              "size": 10,
              "solidity": 0.2
             }
            },
            "type": "barpolar"
           }
          ],
          "carpet": [
           {
            "aaxis": {
             "endlinecolor": "#2a3f5f",
             "gridcolor": "white",
             "linecolor": "white",
             "minorgridcolor": "white",
             "startlinecolor": "#2a3f5f"
            },
            "baxis": {
             "endlinecolor": "#2a3f5f",
             "gridcolor": "white",
             "linecolor": "white",
             "minorgridcolor": "white",
             "startlinecolor": "#2a3f5f"
            },
            "type": "carpet"
           }
          ],
          "choropleth": [
           {
            "colorbar": {
             "outlinewidth": 0,
             "ticks": ""
            },
            "type": "choropleth"
           }
          ],
          "contour": [
           {
            "colorbar": {
             "outlinewidth": 0,
             "ticks": ""
            },
            "colorscale": [
             [
              0,
              "#0d0887"
             ],
             [
              0.1111111111111111,
              "#46039f"
             ],
             [
              0.2222222222222222,
              "#7201a8"
             ],
             [
              0.3333333333333333,
              "#9c179e"
             ],
             [
              0.4444444444444444,
              "#bd3786"
             ],
             [
              0.5555555555555556,
              "#d8576b"
             ],
             [
              0.6666666666666666,
              "#ed7953"
             ],
             [
              0.7777777777777778,
              "#fb9f3a"
             ],
             [
              0.8888888888888888,
              "#fdca26"
             ],
             [
              1,
              "#f0f921"
             ]
            ],
            "type": "contour"
           }
          ],
          "contourcarpet": [
           {
            "colorbar": {
             "outlinewidth": 0,
             "ticks": ""
            },
            "type": "contourcarpet"
           }
          ],
          "heatmap": [
           {
            "colorbar": {
             "outlinewidth": 0,
             "ticks": ""
            },
            "colorscale": [
             [
              0,
              "#0d0887"
             ],
             [
              0.1111111111111111,
              "#46039f"
             ],
             [
              0.2222222222222222,
              "#7201a8"
             ],
             [
              0.3333333333333333,
              "#9c179e"
             ],
             [
              0.4444444444444444,
              "#bd3786"
             ],
             [
              0.5555555555555556,
              "#d8576b"
             ],
             [
              0.6666666666666666,
              "#ed7953"
             ],
             [
              0.7777777777777778,
              "#fb9f3a"
             ],
             [
              0.8888888888888888,
              "#fdca26"
             ],
             [
              1,
              "#f0f921"
             ]
            ],
            "type": "heatmap"
           }
          ],
          "heatmapgl": [
           {
            "colorbar": {
             "outlinewidth": 0,
             "ticks": ""
            },
            "colorscale": [
             [
              0,
              "#0d0887"
             ],
             [
              0.1111111111111111,
              "#46039f"
             ],
             [
              0.2222222222222222,
              "#7201a8"
             ],
             [
              0.3333333333333333,
              "#9c179e"
             ],
             [
              0.4444444444444444,
              "#bd3786"
             ],
             [
              0.5555555555555556,
              "#d8576b"
             ],
             [
              0.6666666666666666,
              "#ed7953"
             ],
             [
              0.7777777777777778,
              "#fb9f3a"
             ],
             [
              0.8888888888888888,
              "#fdca26"
             ],
             [
              1,
              "#f0f921"
             ]
            ],
            "type": "heatmapgl"
           }
          ],
          "histogram": [
           {
            "marker": {
             "pattern": {
              "fillmode": "overlay",
              "size": 10,
              "solidity": 0.2
             }
            },
            "type": "histogram"
           }
          ],
          "histogram2d": [
           {
            "colorbar": {
             "outlinewidth": 0,
             "ticks": ""
            },
            "colorscale": [
             [
              0,
              "#0d0887"
             ],
             [
              0.1111111111111111,
              "#46039f"
             ],
             [
              0.2222222222222222,
              "#7201a8"
             ],
             [
              0.3333333333333333,
              "#9c179e"
             ],
             [
              0.4444444444444444,
              "#bd3786"
             ],
             [
              0.5555555555555556,
              "#d8576b"
             ],
             [
              0.6666666666666666,
              "#ed7953"
             ],
             [
              0.7777777777777778,
              "#fb9f3a"
             ],
             [
              0.8888888888888888,
              "#fdca26"
             ],
             [
              1,
              "#f0f921"
             ]
            ],
            "type": "histogram2d"
           }
          ],
          "histogram2dcontour": [
           {
            "colorbar": {
             "outlinewidth": 0,
             "ticks": ""
            },
            "colorscale": [
             [
              0,
              "#0d0887"
             ],
             [
              0.1111111111111111,
              "#46039f"
             ],
             [
              0.2222222222222222,
              "#7201a8"
             ],
             [
              0.3333333333333333,
              "#9c179e"
             ],
             [
              0.4444444444444444,
              "#bd3786"
             ],
             [
              0.5555555555555556,
              "#d8576b"
             ],
             [
              0.6666666666666666,
              "#ed7953"
             ],
             [
              0.7777777777777778,
              "#fb9f3a"
             ],
             [
              0.8888888888888888,
              "#fdca26"
             ],
             [
              1,
              "#f0f921"
             ]
            ],
            "type": "histogram2dcontour"
           }
          ],
          "mesh3d": [
           {
            "colorbar": {
             "outlinewidth": 0,
             "ticks": ""
            },
            "type": "mesh3d"
           }
          ],
          "parcoords": [
           {
            "line": {
             "colorbar": {
              "outlinewidth": 0,
              "ticks": ""
             }
            },
            "type": "parcoords"
           }
          ],
          "pie": [
           {
            "automargin": true,
            "type": "pie"
           }
          ],
          "scatter": [
           {
            "fillpattern": {
             "fillmode": "overlay",
             "size": 10,
             "solidity": 0.2
            },
            "type": "scatter"
           }
          ],
          "scatter3d": [
           {
            "line": {
             "colorbar": {
              "outlinewidth": 0,
              "ticks": ""
             }
            },
            "marker": {
             "colorbar": {
              "outlinewidth": 0,
              "ticks": ""
             }
            },
            "type": "scatter3d"
           }
          ],
          "scattercarpet": [
           {
            "marker": {
             "colorbar": {
              "outlinewidth": 0,
              "ticks": ""
             }
            },
            "type": "scattercarpet"
           }
          ],
          "scattergeo": [
           {
            "marker": {
             "colorbar": {
              "outlinewidth": 0,
              "ticks": ""
             }
            },
            "type": "scattergeo"
           }
          ],
          "scattergl": [
           {
            "marker": {
             "colorbar": {
              "outlinewidth": 0,
              "ticks": ""
             }
            },
            "type": "scattergl"
           }
          ],
          "scattermapbox": [
           {
            "marker": {
             "colorbar": {
              "outlinewidth": 0,
              "ticks": ""
             }
            },
            "type": "scattermapbox"
           }
          ],
          "scatterpolar": [
           {
            "marker": {
             "colorbar": {
              "outlinewidth": 0,
              "ticks": ""
             }
            },
            "type": "scatterpolar"
           }
          ],
          "scatterpolargl": [
           {
            "marker": {
             "colorbar": {
              "outlinewidth": 0,
              "ticks": ""
             }
            },
            "type": "scatterpolargl"
           }
          ],
          "scatterternary": [
           {
            "marker": {
             "colorbar": {
              "outlinewidth": 0,
              "ticks": ""
             }
            },
            "type": "scatterternary"
           }
          ],
          "surface": [
           {
            "colorbar": {
             "outlinewidth": 0,
             "ticks": ""
            },
            "colorscale": [
             [
              0,
              "#0d0887"
             ],
             [
              0.1111111111111111,
              "#46039f"
             ],
             [
              0.2222222222222222,
              "#7201a8"
             ],
             [
              0.3333333333333333,
              "#9c179e"
             ],
             [
              0.4444444444444444,
              "#bd3786"
             ],
             [
              0.5555555555555556,
              "#d8576b"
             ],
             [
              0.6666666666666666,
              "#ed7953"
             ],
             [
              0.7777777777777778,
              "#fb9f3a"
             ],
             [
              0.8888888888888888,
              "#fdca26"
             ],
             [
              1,
              "#f0f921"
             ]
            ],
            "type": "surface"
           }
          ],
          "table": [
           {
            "cells": {
             "fill": {
              "color": "#EBF0F8"
             },
             "line": {
              "color": "white"
             }
            },
            "header": {
             "fill": {
              "color": "#C8D4E3"
             },
             "line": {
              "color": "white"
             }
            },
            "type": "table"
           }
          ]
         },
         "layout": {
          "annotationdefaults": {
           "arrowcolor": "#2a3f5f",
           "arrowhead": 0,
           "arrowwidth": 1
          },
          "autotypenumbers": "strict",
          "coloraxis": {
           "colorbar": {
            "outlinewidth": 0,
            "ticks": ""
           }
          },
          "colorscale": {
           "diverging": [
            [
             0,
             "#8e0152"
            ],
            [
             0.1,
             "#c51b7d"
            ],
            [
             0.2,
             "#de77ae"
            ],
            [
             0.3,
             "#f1b6da"
            ],
            [
             0.4,
             "#fde0ef"
            ],
            [
             0.5,
             "#f7f7f7"
            ],
            [
             0.6,
             "#e6f5d0"
            ],
            [
             0.7,
             "#b8e186"
            ],
            [
             0.8,
             "#7fbc41"
            ],
            [
             0.9,
             "#4d9221"
            ],
            [
             1,
             "#276419"
            ]
           ],
           "sequential": [
            [
             0,
             "#0d0887"
            ],
            [
             0.1111111111111111,
             "#46039f"
            ],
            [
             0.2222222222222222,
             "#7201a8"
            ],
            [
             0.3333333333333333,
             "#9c179e"
            ],
            [
             0.4444444444444444,
             "#bd3786"
            ],
            [
             0.5555555555555556,
             "#d8576b"
            ],
            [
             0.6666666666666666,
             "#ed7953"
            ],
            [
             0.7777777777777778,
             "#fb9f3a"
            ],
            [
             0.8888888888888888,
             "#fdca26"
            ],
            [
             1,
             "#f0f921"
            ]
           ],
           "sequentialminus": [
            [
             0,
             "#0d0887"
            ],
            [
             0.1111111111111111,
             "#46039f"
            ],
            [
             0.2222222222222222,
             "#7201a8"
            ],
            [
             0.3333333333333333,
             "#9c179e"
            ],
            [
             0.4444444444444444,
             "#bd3786"
            ],
            [
             0.5555555555555556,
             "#d8576b"
            ],
            [
             0.6666666666666666,
             "#ed7953"
            ],
            [
             0.7777777777777778,
             "#fb9f3a"
            ],
            [
             0.8888888888888888,
             "#fdca26"
            ],
            [
             1,
             "#f0f921"
            ]
           ]
          },
          "colorway": [
           "#636efa",
           "#EF553B",
           "#00cc96",
           "#ab63fa",
           "#FFA15A",
           "#19d3f3",
           "#FF6692",
           "#B6E880",
           "#FF97FF",
           "#FECB52"
          ],
          "font": {
           "color": "#2a3f5f"
          },
          "geo": {
           "bgcolor": "white",
           "lakecolor": "white",
           "landcolor": "#E5ECF6",
           "showlakes": true,
           "showland": true,
           "subunitcolor": "white"
          },
          "hoverlabel": {
           "align": "left"
          },
          "hovermode": "closest",
          "mapbox": {
           "style": "light"
          },
          "paper_bgcolor": "white",
          "plot_bgcolor": "#E5ECF6",
          "polar": {
           "angularaxis": {
            "gridcolor": "white",
            "linecolor": "white",
            "ticks": ""
           },
           "bgcolor": "#E5ECF6",
           "radialaxis": {
            "gridcolor": "white",
            "linecolor": "white",
            "ticks": ""
           }
          },
          "scene": {
           "xaxis": {
            "backgroundcolor": "#E5ECF6",
            "gridcolor": "white",
            "gridwidth": 2,
            "linecolor": "white",
            "showbackground": true,
            "ticks": "",
            "zerolinecolor": "white"
           },
           "yaxis": {
            "backgroundcolor": "#E5ECF6",
            "gridcolor": "white",
            "gridwidth": 2,
            "linecolor": "white",
            "showbackground": true,
            "ticks": "",
            "zerolinecolor": "white"
           },
           "zaxis": {
            "backgroundcolor": "#E5ECF6",
            "gridcolor": "white",
            "gridwidth": 2,
            "linecolor": "white",
            "showbackground": true,
            "ticks": "",
            "zerolinecolor": "white"
           }
          },
          "shapedefaults": {
           "line": {
            "color": "#2a3f5f"
           }
          },
          "ternary": {
           "aaxis": {
            "gridcolor": "white",
            "linecolor": "white",
            "ticks": ""
           },
           "baxis": {
            "gridcolor": "white",
            "linecolor": "white",
            "ticks": ""
           },
           "bgcolor": "#E5ECF6",
           "caxis": {
            "gridcolor": "white",
            "linecolor": "white",
            "ticks": ""
           }
          },
          "title": {
           "x": 0.05
          },
          "xaxis": {
           "automargin": true,
           "gridcolor": "white",
           "linecolor": "white",
           "ticks": "",
           "title": {
            "standoff": 15
           },
           "zerolinecolor": "white",
           "zerolinewidth": 2
          },
          "yaxis": {
           "automargin": true,
           "gridcolor": "white",
           "linecolor": "white",
           "ticks": "",
           "title": {
            "standoff": 15
           },
           "zerolinecolor": "white",
           "zerolinewidth": 2
          }
         }
        },
        "title": {
         "text": "Total Likes per Party"
        },
        "xaxis": {
         "anchor": "y",
         "categoryarray": [
          "Republican Party",
          "Democratic Party",
          "Green Party",
          "Libertarian Party",
          "Independent"
         ],
         "categoryorder": "total descending",
         "domain": [
          0,
          1
         ],
         "title": {
          "text": "Political Party"
         }
        },
        "yaxis": {
         "anchor": "x",
         "domain": [
          0,
          1
         ],
         "title": {
          "text": "Total Likes"
         }
        }
       }
      }
     },
     "metadata": {},
     "output_type": "display_data"
    }
   ],
   "source": [
    "# Aggregate and sort the data\n",
    "grouped_data = df_train.groupby('party', as_index=False)['likes'].sum()\n",
    "grouped_data = grouped_data.sort_values(by='likes', ascending=False)\n",
    "\n",
    "# Create the bar plot\n",
    "fig = px.bar(\n",
    "    grouped_data,\n",
    "    x='party',\n",
    "    y='likes',\n",
    "    color='party',\n",
    "    title=\"Total Likes per Party\",\n",
    "    labels={'party': 'Political Party', 'likes': 'Total Likes'},\n",
    "    color_discrete_map=party_colors\n",
    ")\n",
    "\n",
    "fig.update_layout(xaxis=dict(categoryorder='total descending'))\n",
    "fig.show()\n"
   ]
  },
  {
   "cell_type": "code",
   "execution_count": 79,
   "metadata": {},
   "outputs": [
    {
     "data": {
      "application/vnd.plotly.v1+json": {
       "config": {
        "plotlyServerURL": "https://plot.ly"
       },
       "data": [
        {
         "alignmentgroup": "True",
         "hovertemplate": "Political Party=%{x}<br>Retweet Count=%{y}<extra></extra>",
         "legendgroup": "Democratic Party",
         "marker": {
          "color": "#0000BB"
         },
         "name": "Democratic Party",
         "notched": false,
         "offsetgroup": "Democratic Party",
         "orientation": "v",
         "showlegend": true,
         "type": "box",
         "x": [
          "Democratic Party",
          "Democratic Party",
          "Democratic Party",
          "Democratic Party",
          "Democratic Party",
          "Democratic Party",
          "Democratic Party",
          "Democratic Party",
          "Democratic Party",
          "Democratic Party",
          "Democratic Party",
          "Democratic Party",
          "Democratic Party",
          "Democratic Party",
          "Democratic Party",
          "Democratic Party",
          "Democratic Party",
          "Democratic Party",
          "Democratic Party",
          "Democratic Party",
          "Democratic Party",
          "Democratic Party",
          "Democratic Party",
          "Democratic Party",
          "Democratic Party",
          "Democratic Party",
          "Democratic Party",
          "Democratic Party",
          "Democratic Party",
          "Democratic Party",
          "Democratic Party",
          "Democratic Party",
          "Democratic Party",
          "Democratic Party",
          "Democratic Party",
          "Democratic Party",
          "Democratic Party",
          "Democratic Party",
          "Democratic Party",
          "Democratic Party",
          "Democratic Party",
          "Democratic Party",
          "Democratic Party",
          "Democratic Party",
          "Democratic Party",
          "Democratic Party",
          "Democratic Party",
          "Democratic Party",
          "Democratic Party",
          "Democratic Party",
          "Democratic Party",
          "Democratic Party",
          "Democratic Party",
          "Democratic Party",
          "Democratic Party",
          "Democratic Party",
          "Democratic Party",
          "Democratic Party",
          "Democratic Party",
          "Democratic Party",
          "Democratic Party",
          "Democratic Party",
          "Democratic Party",
          "Democratic Party",
          "Democratic Party",
          "Democratic Party",
          "Democratic Party",
          "Democratic Party",
          "Democratic Party",
          "Democratic Party",
          "Democratic Party",
          "Democratic Party",
          "Democratic Party",
          "Democratic Party",
          "Democratic Party",
          "Democratic Party",
          "Democratic Party",
          "Democratic Party",
          "Democratic Party",
          "Democratic Party",
          "Democratic Party",
          "Democratic Party",
          "Democratic Party",
          "Democratic Party",
          "Democratic Party",
          "Democratic Party",
          "Democratic Party",
          "Democratic Party",
          "Democratic Party",
          "Democratic Party",
          "Democratic Party",
          "Democratic Party",
          "Democratic Party",
          "Democratic Party",
          "Democratic Party",
          "Democratic Party",
          "Democratic Party",
          "Democratic Party",
          "Democratic Party",
          "Democratic Party"
         ],
         "x0": " ",
         "xaxis": "x",
         "y": [
          120,
          95,
          80,
          90,
          85,
          75,
          80,
          95,
          85,
          90,
          80,
          85,
          95,
          85,
          90,
          80,
          80,
          95,
          85,
          90,
          85,
          90,
          80,
          85,
          85,
          75,
          80,
          95,
          85,
          90,
          80,
          85,
          95,
          85,
          90,
          80,
          80,
          95,
          85,
          90,
          85,
          90,
          85,
          85,
          85,
          75,
          80,
          95,
          85,
          90,
          80,
          85,
          95,
          85,
          90,
          80,
          80,
          95,
          85,
          90,
          80,
          95,
          85,
          90,
          80,
          85,
          95,
          85,
          90,
          80,
          85,
          95,
          85,
          90,
          80,
          85,
          95,
          85,
          90,
          80,
          85,
          90,
          75,
          80,
          95,
          85,
          90,
          80,
          85,
          95,
          85,
          90,
          80,
          85,
          95,
          85,
          90,
          80,
          85,
          95
         ],
         "y0": " ",
         "yaxis": "y"
        },
        {
         "alignmentgroup": "True",
         "hovertemplate": "Political Party=%{x}<br>Retweet Count=%{y}<extra></extra>",
         "legendgroup": "Republican Party",
         "marker": {
          "color": "#BB0000"
         },
         "name": "Republican Party",
         "notched": false,
         "offsetgroup": "Republican Party",
         "orientation": "v",
         "showlegend": true,
         "type": "box",
         "x": [
          "Republican Party",
          "Republican Party",
          "Republican Party",
          "Republican Party",
          "Republican Party",
          "Republican Party",
          "Republican Party",
          "Republican Party",
          "Republican Party",
          "Republican Party",
          "Republican Party",
          "Republican Party",
          "Republican Party",
          "Republican Party",
          "Republican Party",
          "Republican Party",
          "Republican Party",
          "Republican Party",
          "Republican Party",
          "Republican Party",
          "Republican Party",
          "Republican Party",
          "Republican Party",
          "Republican Party",
          "Republican Party",
          "Republican Party",
          "Republican Party",
          "Republican Party",
          "Republican Party",
          "Republican Party",
          "Republican Party",
          "Republican Party",
          "Republican Party",
          "Republican Party",
          "Republican Party",
          "Republican Party",
          "Republican Party",
          "Republican Party",
          "Republican Party",
          "Republican Party",
          "Republican Party",
          "Republican Party",
          "Republican Party",
          "Republican Party",
          "Republican Party",
          "Republican Party",
          "Republican Party",
          "Republican Party",
          "Republican Party",
          "Republican Party",
          "Republican Party",
          "Republican Party",
          "Republican Party",
          "Republican Party",
          "Republican Party",
          "Republican Party",
          "Republican Party",
          "Republican Party",
          "Republican Party",
          "Republican Party",
          "Republican Party",
          "Republican Party",
          "Republican Party",
          "Republican Party",
          "Republican Party",
          "Republican Party",
          "Republican Party",
          "Republican Party",
          "Republican Party",
          "Republican Party",
          "Republican Party",
          "Republican Party",
          "Republican Party",
          "Republican Party",
          "Republican Party",
          "Republican Party",
          "Republican Party",
          "Republican Party",
          "Republican Party",
          "Republican Party",
          "Republican Party",
          "Republican Party",
          "Republican Party",
          "Republican Party",
          "Republican Party",
          "Republican Party",
          "Republican Party",
          "Republican Party",
          "Republican Party",
          "Republican Party",
          "Republican Party",
          "Republican Party",
          "Republican Party",
          "Republican Party",
          "Republican Party",
          "Republican Party",
          "Republican Party",
          "Republican Party",
          "Republican Party",
          "Republican Party"
         ],
         "x0": " ",
         "xaxis": "x",
         "y": [
          85,
          110,
          95,
          100,
          105,
          115,
          90,
          100,
          110,
          95,
          90,
          95,
          100,
          110,
          95,
          90,
          90,
          100,
          110,
          95,
          95,
          100,
          90,
          100,
          105,
          115,
          90,
          100,
          110,
          95,
          90,
          95,
          100,
          110,
          95,
          90,
          90,
          100,
          110,
          95,
          95,
          100,
          90,
          100,
          105,
          115,
          90,
          100,
          110,
          95,
          90,
          95,
          100,
          110,
          95,
          90,
          90,
          100,
          110,
          95,
          90,
          100,
          110,
          95,
          90,
          95,
          100,
          110,
          95,
          90,
          95,
          100,
          110,
          95,
          90,
          95,
          100,
          110,
          95,
          90,
          100,
          95,
          115,
          90,
          100,
          110,
          95,
          90,
          95,
          100,
          110,
          95,
          90,
          95,
          100,
          110,
          95,
          90,
          95,
          100
         ],
         "y0": " ",
         "yaxis": "y"
        },
        {
         "alignmentgroup": "True",
         "hovertemplate": "Political Party=%{x}<br>Retweet Count=%{y}<extra></extra>",
         "legendgroup": "Green Party",
         "marker": {
          "color": "#00BB00"
         },
         "name": "Green Party",
         "notched": false,
         "offsetgroup": "Green Party",
         "orientation": "v",
         "showlegend": true,
         "type": "box",
         "x": [
          "Green Party",
          "Green Party",
          "Green Party",
          "Green Party",
          "Green Party",
          "Green Party",
          "Green Party",
          "Green Party",
          "Green Party",
          "Green Party",
          "Green Party",
          "Green Party",
          "Green Party",
          "Green Party",
          "Green Party",
          "Green Party",
          "Green Party",
          "Green Party",
          "Green Party",
          "Green Party",
          "Green Party",
          "Green Party",
          "Green Party",
          "Green Party",
          "Green Party",
          "Green Party",
          "Green Party",
          "Green Party",
          "Green Party",
          "Green Party",
          "Green Party",
          "Green Party",
          "Green Party",
          "Green Party",
          "Green Party",
          "Green Party",
          "Green Party",
          "Green Party",
          "Green Party",
          "Green Party",
          "Green Party",
          "Green Party",
          "Green Party",
          "Green Party",
          "Green Party",
          "Green Party",
          "Green Party",
          "Green Party",
          "Green Party",
          "Green Party",
          "Green Party",
          "Green Party",
          "Green Party",
          "Green Party",
          "Green Party",
          "Green Party",
          "Green Party",
          "Green Party",
          "Green Party",
          "Green Party",
          "Green Party",
          "Green Party",
          "Green Party",
          "Green Party",
          "Green Party",
          "Green Party",
          "Green Party",
          "Green Party",
          "Green Party",
          "Green Party",
          "Green Party",
          "Green Party",
          "Green Party",
          "Green Party",
          "Green Party",
          "Green Party",
          "Green Party",
          "Green Party",
          "Green Party",
          "Green Party",
          "Green Party",
          "Green Party",
          "Green Party",
          "Green Party",
          "Green Party",
          "Green Party",
          "Green Party",
          "Green Party",
          "Green Party",
          "Green Party",
          "Green Party",
          "Green Party",
          "Green Party",
          "Green Party",
          "Green Party",
          "Green Party",
          "Green Party",
          "Green Party",
          "Green Party",
          "Green Party"
         ],
         "x0": " ",
         "xaxis": "x",
         "y": [
          60,
          70,
          65,
          55,
          60,
          70,
          65,
          75,
          60,
          70,
          65,
          70,
          75,
          60,
          70,
          65,
          65,
          75,
          60,
          70,
          70,
          75,
          65,
          60,
          60,
          70,
          65,
          75,
          60,
          70,
          65,
          70,
          75,
          60,
          70,
          65,
          65,
          75,
          60,
          70,
          70,
          75,
          65,
          60,
          60,
          70,
          65,
          75,
          60,
          70,
          65,
          70,
          75,
          60,
          70,
          65,
          65,
          75,
          60,
          70,
          65,
          75,
          60,
          70,
          65,
          70,
          75,
          60,
          70,
          65,
          70,
          75,
          60,
          70,
          65,
          70,
          75,
          60,
          70,
          65,
          60,
          65,
          70,
          65,
          75,
          60,
          70,
          65,
          70,
          75,
          60,
          70,
          65,
          70,
          75,
          60,
          70,
          65,
          70,
          75
         ],
         "y0": " ",
         "yaxis": "y"
        },
        {
         "alignmentgroup": "True",
         "hovertemplate": "Political Party=%{x}<br>Retweet Count=%{y}<extra></extra>",
         "legendgroup": "Independent",
         "marker": {
          "color": "#BBBBBB"
         },
         "name": "Independent",
         "notched": false,
         "offsetgroup": "Independent",
         "orientation": "v",
         "showlegend": true,
         "type": "box",
         "x": [
          "Independent",
          "Independent",
          "Independent",
          "Independent",
          "Independent",
          "Independent",
          "Independent",
          "Independent",
          "Independent",
          "Independent",
          "Independent",
          "Independent",
          "Independent",
          "Independent",
          "Independent",
          "Independent",
          "Independent",
          "Independent",
          "Independent",
          "Independent",
          "Independent",
          "Independent",
          "Independent",
          "Independent",
          "Independent",
          "Independent",
          "Independent",
          "Independent",
          "Independent",
          "Independent",
          "Independent",
          "Independent",
          "Independent",
          "Independent",
          "Independent",
          "Independent",
          "Independent",
          "Independent",
          "Independent",
          "Independent",
          "Independent",
          "Independent",
          "Independent",
          "Independent",
          "Independent",
          "Independent",
          "Independent",
          "Independent",
          "Independent",
          "Independent",
          "Independent",
          "Independent",
          "Independent",
          "Independent",
          "Independent",
          "Independent",
          "Independent",
          "Independent",
          "Independent",
          "Independent",
          "Independent",
          "Independent",
          "Independent",
          "Independent",
          "Independent",
          "Independent",
          "Independent",
          "Independent",
          "Independent",
          "Independent",
          "Independent",
          "Independent",
          "Independent",
          "Independent",
          "Independent",
          "Independent",
          "Independent",
          "Independent",
          "Independent",
          "Independent",
          "Independent",
          "Independent",
          "Independent",
          "Independent",
          "Independent",
          "Independent",
          "Independent",
          "Independent",
          "Independent",
          "Independent",
          "Independent",
          "Independent",
          "Independent",
          "Independent",
          "Independent",
          "Independent",
          "Independent",
          "Independent",
          "Independent",
          "Independent"
         ],
         "x0": " ",
         "xaxis": "x",
         "y": [
          40,
          25,
          35,
          30,
          20,
          28,
          22,
          18,
          25,
          30,
          28,
          22,
          18,
          25,
          30,
          28,
          22,
          18,
          25,
          30,
          30,
          25,
          22,
          28,
          20,
          28,
          22,
          18,
          25,
          30,
          28,
          22,
          18,
          25,
          30,
          28,
          22,
          18,
          25,
          30,
          30,
          25,
          22,
          28,
          20,
          28,
          22,
          18,
          25,
          30,
          28,
          22,
          18,
          25,
          30,
          28,
          22,
          18,
          25,
          30,
          22,
          18,
          25,
          30,
          28,
          22,
          18,
          25,
          30,
          28,
          22,
          18,
          25,
          30,
          28,
          22,
          18,
          25,
          30,
          28,
          30,
          22,
          28,
          22,
          18,
          25,
          30,
          28,
          22,
          18,
          25,
          30,
          28,
          22,
          18,
          25,
          30,
          28,
          22,
          18
         ],
         "y0": " ",
         "yaxis": "y"
        },
        {
         "alignmentgroup": "True",
         "hovertemplate": "Political Party=%{x}<br>Retweet Count=%{y}<extra></extra>",
         "legendgroup": "Libertarian Party",
         "marker": {
          "color": "#CCCC00"
         },
         "name": "Libertarian Party",
         "notched": false,
         "offsetgroup": "Libertarian Party",
         "orientation": "v",
         "showlegend": true,
         "type": "box",
         "x": [
          "Libertarian Party",
          "Libertarian Party",
          "Libertarian Party",
          "Libertarian Party",
          "Libertarian Party",
          "Libertarian Party",
          "Libertarian Party",
          "Libertarian Party",
          "Libertarian Party",
          "Libertarian Party",
          "Libertarian Party",
          "Libertarian Party",
          "Libertarian Party",
          "Libertarian Party",
          "Libertarian Party",
          "Libertarian Party",
          "Libertarian Party",
          "Libertarian Party",
          "Libertarian Party",
          "Libertarian Party",
          "Libertarian Party",
          "Libertarian Party",
          "Libertarian Party",
          "Libertarian Party",
          "Libertarian Party",
          "Libertarian Party",
          "Libertarian Party",
          "Libertarian Party",
          "Libertarian Party",
          "Libertarian Party",
          "Libertarian Party",
          "Libertarian Party",
          "Libertarian Party",
          "Libertarian Party",
          "Libertarian Party",
          "Libertarian Party",
          "Libertarian Party",
          "Libertarian Party",
          "Libertarian Party",
          "Libertarian Party",
          "Libertarian Party",
          "Libertarian Party",
          "Libertarian Party",
          "Libertarian Party",
          "Libertarian Party",
          "Libertarian Party",
          "Libertarian Party",
          "Libertarian Party",
          "Libertarian Party",
          "Libertarian Party",
          "Libertarian Party",
          "Libertarian Party",
          "Libertarian Party",
          "Libertarian Party",
          "Libertarian Party",
          "Libertarian Party",
          "Libertarian Party",
          "Libertarian Party",
          "Libertarian Party",
          "Libertarian Party",
          "Libertarian Party",
          "Libertarian Party",
          "Libertarian Party",
          "Libertarian Party",
          "Libertarian Party",
          "Libertarian Party",
          "Libertarian Party",
          "Libertarian Party",
          "Libertarian Party",
          "Libertarian Party",
          "Libertarian Party",
          "Libertarian Party",
          "Libertarian Party",
          "Libertarian Party",
          "Libertarian Party",
          "Libertarian Party",
          "Libertarian Party",
          "Libertarian Party",
          "Libertarian Party",
          "Libertarian Party",
          "Libertarian Party",
          "Libertarian Party",
          "Libertarian Party",
          "Libertarian Party",
          "Libertarian Party",
          "Libertarian Party",
          "Libertarian Party",
          "Libertarian Party",
          "Libertarian Party",
          "Libertarian Party",
          "Libertarian Party",
          "Libertarian Party",
          "Libertarian Party",
          "Libertarian Party",
          "Libertarian Party",
          "Libertarian Party",
          "Libertarian Party",
          "Libertarian Party",
          "Libertarian Party",
          "Libertarian Party"
         ],
         "x0": " ",
         "xaxis": "x",
         "y": [
          30,
          50,
          45,
          40,
          35,
          50,
          45,
          40,
          35,
          50,
          50,
          45,
          40,
          35,
          50,
          50,
          45,
          40,
          35,
          50,
          50,
          45,
          40,
          50,
          35,
          50,
          45,
          40,
          35,
          50,
          50,
          45,
          40,
          35,
          50,
          50,
          45,
          40,
          35,
          50,
          50,
          45,
          40,
          50,
          35,
          50,
          45,
          40,
          35,
          50,
          50,
          45,
          40,
          35,
          50,
          50,
          45,
          40,
          35,
          50,
          45,
          40,
          35,
          50,
          50,
          45,
          40,
          35,
          50,
          50,
          45,
          40,
          35,
          50,
          50,
          45,
          40,
          35,
          50,
          50,
          50,
          45,
          50,
          45,
          40,
          35,
          50,
          50,
          45,
          40,
          35,
          50,
          50,
          45,
          40,
          35,
          50,
          50,
          45,
          40
         ],
         "y0": " ",
         "yaxis": "y"
        }
       ],
       "layout": {
        "boxmode": "overlay",
        "legend": {
         "title": {
          "text": "Political Party"
         },
         "tracegroupgap": 0
        },
        "template": {
         "data": {
          "bar": [
           {
            "error_x": {
             "color": "#2a3f5f"
            },
            "error_y": {
             "color": "#2a3f5f"
            },
            "marker": {
             "line": {
              "color": "#E5ECF6",
              "width": 0.5
             },
             "pattern": {
              "fillmode": "overlay",
              "size": 10,
              "solidity": 0.2
             }
            },
            "type": "bar"
           }
          ],
          "barpolar": [
           {
            "marker": {
             "line": {
              "color": "#E5ECF6",
              "width": 0.5
             },
             "pattern": {
              "fillmode": "overlay",
              "size": 10,
              "solidity": 0.2
             }
            },
            "type": "barpolar"
           }
          ],
          "carpet": [
           {
            "aaxis": {
             "endlinecolor": "#2a3f5f",
             "gridcolor": "white",
             "linecolor": "white",
             "minorgridcolor": "white",
             "startlinecolor": "#2a3f5f"
            },
            "baxis": {
             "endlinecolor": "#2a3f5f",
             "gridcolor": "white",
             "linecolor": "white",
             "minorgridcolor": "white",
             "startlinecolor": "#2a3f5f"
            },
            "type": "carpet"
           }
          ],
          "choropleth": [
           {
            "colorbar": {
             "outlinewidth": 0,
             "ticks": ""
            },
            "type": "choropleth"
           }
          ],
          "contour": [
           {
            "colorbar": {
             "outlinewidth": 0,
             "ticks": ""
            },
            "colorscale": [
             [
              0,
              "#0d0887"
             ],
             [
              0.1111111111111111,
              "#46039f"
             ],
             [
              0.2222222222222222,
              "#7201a8"
             ],
             [
              0.3333333333333333,
              "#9c179e"
             ],
             [
              0.4444444444444444,
              "#bd3786"
             ],
             [
              0.5555555555555556,
              "#d8576b"
             ],
             [
              0.6666666666666666,
              "#ed7953"
             ],
             [
              0.7777777777777778,
              "#fb9f3a"
             ],
             [
              0.8888888888888888,
              "#fdca26"
             ],
             [
              1,
              "#f0f921"
             ]
            ],
            "type": "contour"
           }
          ],
          "contourcarpet": [
           {
            "colorbar": {
             "outlinewidth": 0,
             "ticks": ""
            },
            "type": "contourcarpet"
           }
          ],
          "heatmap": [
           {
            "colorbar": {
             "outlinewidth": 0,
             "ticks": ""
            },
            "colorscale": [
             [
              0,
              "#0d0887"
             ],
             [
              0.1111111111111111,
              "#46039f"
             ],
             [
              0.2222222222222222,
              "#7201a8"
             ],
             [
              0.3333333333333333,
              "#9c179e"
             ],
             [
              0.4444444444444444,
              "#bd3786"
             ],
             [
              0.5555555555555556,
              "#d8576b"
             ],
             [
              0.6666666666666666,
              "#ed7953"
             ],
             [
              0.7777777777777778,
              "#fb9f3a"
             ],
             [
              0.8888888888888888,
              "#fdca26"
             ],
             [
              1,
              "#f0f921"
             ]
            ],
            "type": "heatmap"
           }
          ],
          "heatmapgl": [
           {
            "colorbar": {
             "outlinewidth": 0,
             "ticks": ""
            },
            "colorscale": [
             [
              0,
              "#0d0887"
             ],
             [
              0.1111111111111111,
              "#46039f"
             ],
             [
              0.2222222222222222,
              "#7201a8"
             ],
             [
              0.3333333333333333,
              "#9c179e"
             ],
             [
              0.4444444444444444,
              "#bd3786"
             ],
             [
              0.5555555555555556,
              "#d8576b"
             ],
             [
              0.6666666666666666,
              "#ed7953"
             ],
             [
              0.7777777777777778,
              "#fb9f3a"
             ],
             [
              0.8888888888888888,
              "#fdca26"
             ],
             [
              1,
              "#f0f921"
             ]
            ],
            "type": "heatmapgl"
           }
          ],
          "histogram": [
           {
            "marker": {
             "pattern": {
              "fillmode": "overlay",
              "size": 10,
              "solidity": 0.2
             }
            },
            "type": "histogram"
           }
          ],
          "histogram2d": [
           {
            "colorbar": {
             "outlinewidth": 0,
             "ticks": ""
            },
            "colorscale": [
             [
              0,
              "#0d0887"
             ],
             [
              0.1111111111111111,
              "#46039f"
             ],
             [
              0.2222222222222222,
              "#7201a8"
             ],
             [
              0.3333333333333333,
              "#9c179e"
             ],
             [
              0.4444444444444444,
              "#bd3786"
             ],
             [
              0.5555555555555556,
              "#d8576b"
             ],
             [
              0.6666666666666666,
              "#ed7953"
             ],
             [
              0.7777777777777778,
              "#fb9f3a"
             ],
             [
              0.8888888888888888,
              "#fdca26"
             ],
             [
              1,
              "#f0f921"
             ]
            ],
            "type": "histogram2d"
           }
          ],
          "histogram2dcontour": [
           {
            "colorbar": {
             "outlinewidth": 0,
             "ticks": ""
            },
            "colorscale": [
             [
              0,
              "#0d0887"
             ],
             [
              0.1111111111111111,
              "#46039f"
             ],
             [
              0.2222222222222222,
              "#7201a8"
             ],
             [
              0.3333333333333333,
              "#9c179e"
             ],
             [
              0.4444444444444444,
              "#bd3786"
             ],
             [
              0.5555555555555556,
              "#d8576b"
             ],
             [
              0.6666666666666666,
              "#ed7953"
             ],
             [
              0.7777777777777778,
              "#fb9f3a"
             ],
             [
              0.8888888888888888,
              "#fdca26"
             ],
             [
              1,
              "#f0f921"
             ]
            ],
            "type": "histogram2dcontour"
           }
          ],
          "mesh3d": [
           {
            "colorbar": {
             "outlinewidth": 0,
             "ticks": ""
            },
            "type": "mesh3d"
           }
          ],
          "parcoords": [
           {
            "line": {
             "colorbar": {
              "outlinewidth": 0,
              "ticks": ""
             }
            },
            "type": "parcoords"
           }
          ],
          "pie": [
           {
            "automargin": true,
            "type": "pie"
           }
          ],
          "scatter": [
           {
            "fillpattern": {
             "fillmode": "overlay",
             "size": 10,
             "solidity": 0.2
            },
            "type": "scatter"
           }
          ],
          "scatter3d": [
           {
            "line": {
             "colorbar": {
              "outlinewidth": 0,
              "ticks": ""
             }
            },
            "marker": {
             "colorbar": {
              "outlinewidth": 0,
              "ticks": ""
             }
            },
            "type": "scatter3d"
           }
          ],
          "scattercarpet": [
           {
            "marker": {
             "colorbar": {
              "outlinewidth": 0,
              "ticks": ""
             }
            },
            "type": "scattercarpet"
           }
          ],
          "scattergeo": [
           {
            "marker": {
             "colorbar": {
              "outlinewidth": 0,
              "ticks": ""
             }
            },
            "type": "scattergeo"
           }
          ],
          "scattergl": [
           {
            "marker": {
             "colorbar": {
              "outlinewidth": 0,
              "ticks": ""
             }
            },
            "type": "scattergl"
           }
          ],
          "scattermapbox": [
           {
            "marker": {
             "colorbar": {
              "outlinewidth": 0,
              "ticks": ""
             }
            },
            "type": "scattermapbox"
           }
          ],
          "scatterpolar": [
           {
            "marker": {
             "colorbar": {
              "outlinewidth": 0,
              "ticks": ""
             }
            },
            "type": "scatterpolar"
           }
          ],
          "scatterpolargl": [
           {
            "marker": {
             "colorbar": {
              "outlinewidth": 0,
              "ticks": ""
             }
            },
            "type": "scatterpolargl"
           }
          ],
          "scatterternary": [
           {
            "marker": {
             "colorbar": {
              "outlinewidth": 0,
              "ticks": ""
             }
            },
            "type": "scatterternary"
           }
          ],
          "surface": [
           {
            "colorbar": {
             "outlinewidth": 0,
             "ticks": ""
            },
            "colorscale": [
             [
              0,
              "#0d0887"
             ],
             [
              0.1111111111111111,
              "#46039f"
             ],
             [
              0.2222222222222222,
              "#7201a8"
             ],
             [
              0.3333333333333333,
              "#9c179e"
             ],
             [
              0.4444444444444444,
              "#bd3786"
             ],
             [
              0.5555555555555556,
              "#d8576b"
             ],
             [
              0.6666666666666666,
              "#ed7953"
             ],
             [
              0.7777777777777778,
              "#fb9f3a"
             ],
             [
              0.8888888888888888,
              "#fdca26"
             ],
             [
              1,
              "#f0f921"
             ]
            ],
            "type": "surface"
           }
          ],
          "table": [
           {
            "cells": {
             "fill": {
              "color": "#EBF0F8"
             },
             "line": {
              "color": "white"
             }
            },
            "header": {
             "fill": {
              "color": "#C8D4E3"
             },
             "line": {
              "color": "white"
             }
            },
            "type": "table"
           }
          ]
         },
         "layout": {
          "annotationdefaults": {
           "arrowcolor": "#2a3f5f",
           "arrowhead": 0,
           "arrowwidth": 1
          },
          "autotypenumbers": "strict",
          "coloraxis": {
           "colorbar": {
            "outlinewidth": 0,
            "ticks": ""
           }
          },
          "colorscale": {
           "diverging": [
            [
             0,
             "#8e0152"
            ],
            [
             0.1,
             "#c51b7d"
            ],
            [
             0.2,
             "#de77ae"
            ],
            [
             0.3,
             "#f1b6da"
            ],
            [
             0.4,
             "#fde0ef"
            ],
            [
             0.5,
             "#f7f7f7"
            ],
            [
             0.6,
             "#e6f5d0"
            ],
            [
             0.7,
             "#b8e186"
            ],
            [
             0.8,
             "#7fbc41"
            ],
            [
             0.9,
             "#4d9221"
            ],
            [
             1,
             "#276419"
            ]
           ],
           "sequential": [
            [
             0,
             "#0d0887"
            ],
            [
             0.1111111111111111,
             "#46039f"
            ],
            [
             0.2222222222222222,
             "#7201a8"
            ],
            [
             0.3333333333333333,
             "#9c179e"
            ],
            [
             0.4444444444444444,
             "#bd3786"
            ],
            [
             0.5555555555555556,
             "#d8576b"
            ],
            [
             0.6666666666666666,
             "#ed7953"
            ],
            [
             0.7777777777777778,
             "#fb9f3a"
            ],
            [
             0.8888888888888888,
             "#fdca26"
            ],
            [
             1,
             "#f0f921"
            ]
           ],
           "sequentialminus": [
            [
             0,
             "#0d0887"
            ],
            [
             0.1111111111111111,
             "#46039f"
            ],
            [
             0.2222222222222222,
             "#7201a8"
            ],
            [
             0.3333333333333333,
             "#9c179e"
            ],
            [
             0.4444444444444444,
             "#bd3786"
            ],
            [
             0.5555555555555556,
             "#d8576b"
            ],
            [
             0.6666666666666666,
             "#ed7953"
            ],
            [
             0.7777777777777778,
             "#fb9f3a"
            ],
            [
             0.8888888888888888,
             "#fdca26"
            ],
            [
             1,
             "#f0f921"
            ]
           ]
          },
          "colorway": [
           "#636efa",
           "#EF553B",
           "#00cc96",
           "#ab63fa",
           "#FFA15A",
           "#19d3f3",
           "#FF6692",
           "#B6E880",
           "#FF97FF",
           "#FECB52"
          ],
          "font": {
           "color": "#2a3f5f"
          },
          "geo": {
           "bgcolor": "white",
           "lakecolor": "white",
           "landcolor": "#E5ECF6",
           "showlakes": true,
           "showland": true,
           "subunitcolor": "white"
          },
          "hoverlabel": {
           "align": "left"
          },
          "hovermode": "closest",
          "mapbox": {
           "style": "light"
          },
          "paper_bgcolor": "white",
          "plot_bgcolor": "#E5ECF6",
          "polar": {
           "angularaxis": {
            "gridcolor": "white",
            "linecolor": "white",
            "ticks": ""
           },
           "bgcolor": "#E5ECF6",
           "radialaxis": {
            "gridcolor": "white",
            "linecolor": "white",
            "ticks": ""
           }
          },
          "scene": {
           "xaxis": {
            "backgroundcolor": "#E5ECF6",
            "gridcolor": "white",
            "gridwidth": 2,
            "linecolor": "white",
            "showbackground": true,
            "ticks": "",
            "zerolinecolor": "white"
           },
           "yaxis": {
            "backgroundcolor": "#E5ECF6",
            "gridcolor": "white",
            "gridwidth": 2,
            "linecolor": "white",
            "showbackground": true,
            "ticks": "",
            "zerolinecolor": "white"
           },
           "zaxis": {
            "backgroundcolor": "#E5ECF6",
            "gridcolor": "white",
            "gridwidth": 2,
            "linecolor": "white",
            "showbackground": true,
            "ticks": "",
            "zerolinecolor": "white"
           }
          },
          "shapedefaults": {
           "line": {
            "color": "#2a3f5f"
           }
          },
          "ternary": {
           "aaxis": {
            "gridcolor": "white",
            "linecolor": "white",
            "ticks": ""
           },
           "baxis": {
            "gridcolor": "white",
            "linecolor": "white",
            "ticks": ""
           },
           "bgcolor": "#E5ECF6",
           "caxis": {
            "gridcolor": "white",
            "linecolor": "white",
            "ticks": ""
           }
          },
          "title": {
           "x": 0.05
          },
          "xaxis": {
           "automargin": true,
           "gridcolor": "white",
           "linecolor": "white",
           "ticks": "",
           "title": {
            "standoff": 15
           },
           "zerolinecolor": "white",
           "zerolinewidth": 2
          },
          "yaxis": {
           "automargin": true,
           "gridcolor": "white",
           "linecolor": "white",
           "ticks": "",
           "title": {
            "standoff": 15
           },
           "zerolinecolor": "white",
           "zerolinewidth": 2
          }
         }
        },
        "title": {
         "text": "Retweet Distribution per Party"
        },
        "xaxis": {
         "anchor": "y",
         "categoryarray": [
          "Republican Party",
          "Democratic Party",
          "Green Party",
          "Libertarian Party",
          "Independent"
         ],
         "categoryorder": "array",
         "domain": [
          0,
          1
         ],
         "title": {
          "text": "Political Party"
         }
        },
        "yaxis": {
         "anchor": "x",
         "domain": [
          0,
          1
         ],
         "title": {
          "text": "Retweet Count"
         }
        }
       }
      }
     },
     "metadata": {},
     "output_type": "display_data"
    }
   ],
   "source": [
    "# Create the box plot directly from df_train\n",
    "fig = px.box(\n",
    "    df_train,\n",
    "    x='party',\n",
    "    y='retweets',\n",
    "    color='party',\n",
    "    title=\"Retweet Distribution per Party\",\n",
    "    labels={'party': 'Political Party', 'retweets': 'Retweet Count'},\n",
    "    color_discrete_map=party_colors\n",
    ")\n",
    "\n",
    "fig.update_layout(\n",
    "    xaxis=dict(categoryorder='array', categoryarray=df_train.groupby('party')['retweets'].mean().sort_values(ascending=False).index)\n",
    ")\n",
    "\n",
    "fig.show()"
   ]
  },
  {
   "cell_type": "markdown",
   "metadata": {},
   "source": [
    "## Text Preprocessing"
   ]
  },
  {
   "cell_type": "code",
   "execution_count": 118,
   "metadata": {},
   "outputs": [
    {
     "name": "stderr",
     "output_type": "stream",
     "text": [
      "[nltk_data] Downloading package punkt_tab to /home/jose/nltk_data...\n",
      "[nltk_data]   Package punkt_tab is already up-to-date!\n",
      "[nltk_data] Downloading package stopwords to /home/jose/nltk_data...\n",
      "[nltk_data]   Package stopwords is already up-to-date!\n",
      "[nltk_data] Downloading package wordnet to /home/jose/nltk_data...\n",
      "[nltk_data]   Package wordnet is already up-to-date!\n"
     ]
    },
    {
     "data": {
      "text/plain": [
       "True"
      ]
     },
     "execution_count": 118,
     "metadata": {},
     "output_type": "execute_result"
    }
   ],
   "source": [
    "import nltk\n",
    "import string\n",
    "import re\n",
    "\n",
    "nltk.download('punkt_tab')\n",
    "nltk.download('stopwords')\n",
    "nltk.download('wordnet')"
   ]
  },
  {
   "cell_type": "code",
   "execution_count": 121,
   "metadata": {},
   "outputs": [
    {
     "name": "stdout",
     "output_type": "stream",
     "text": [
      "Natural language processing is a field of artificial intelligence that deals with the interaction between computers and human (natural) language. Check out this article for more information: https://en.wikipedia.org/wiki/Natural_language_processing\n",
      "['natural', 'language', 'processing', 'field', 'artificial', 'intelligence', 'deal', 'interaction', 'computer', 'human', 'natural', 'language', 'check', 'article', 'information']\n"
     ]
    }
   ],
   "source": [
    "def preprocess(input):\n",
    "    # Whitespace removal\n",
    "    text = input.strip()          # Leading and trailing\n",
    "    text = \" \".join(text.split()) # Remove multiplied whitespaces\n",
    "\n",
    "    # URL removal\n",
    "    pattern = r\"(http|ftp|https)://([\\w_-]+(?:(?:\\.[\\w_-]+)+))([\\w.,@?^=%&:/~+#-]*[\\w@?^=%&/~+#-])?\"\n",
    "    text = re.sub(pattern, \"\", text)\n",
    "\n",
    "    # Tokenization (separating words into a list of tokens)\n",
    "    tokens = nltk.word_tokenize(text)\n",
    "\n",
    "    # Lowercasing (removing Uppercase letters)\n",
    "    lowercased_tokens = [token.lower() for token in tokens]\n",
    "\n",
    "    # Filtering punctuation\n",
    "    filtered_tokens = [token for token in lowercased_tokens if token not in string.punctuation]\n",
    "\n",
    "    # Stopword removal (removing words with little value such as 'the' 'of' etc.)\n",
    "    stopwords = nltk.corpus.stopwords.words(\"english\") + ['\\'s']\n",
    "    filtered_tokens = [token for token in filtered_tokens if token.lower() not in stopwords]\n",
    "\n",
    "    # Common candidate name normalization\n",
    "    candidates = {\n",
    "         \"donald\": \"trump\",\n",
    "         \"kamala\": \"harris\",\n",
    "         \"jill\":   \"stein\",\n",
    "         \"robert\": \"kennedy\",\n",
    "         \"chase\":  \"oliver\"\n",
    "    }\n",
    "    filtered_tokens = list(map(lambda x: candidates[x] if x in candidates.keys() else x, filtered_tokens))\n",
    "\n",
    "    # Lemmatization (reducing words to their lemma form)\n",
    "    lemmatizer = nltk.stem.WordNetLemmatizer()\n",
    "    processed_tokens = [lemmatizer.lemmatize(token) for token in filtered_tokens]\n",
    "    return processed_tokens\n",
    "\n",
    "example = \"Natural language processing is a field of artificial intelligence that deals with the interaction between computers and human (natural) language. Check out this article for more information: https://en.wikipedia.org/wiki/Natural_language_processing\"\n",
    "print(example)\n",
    "print(preprocess(example))"
   ]
  },
  {
   "cell_type": "code",
   "execution_count": 122,
   "metadata": {},
   "outputs": [
    {
     "data": {
      "text/plain": [
       "0      [excited, see, harris, harris, leading, democr...\n",
       "1                  [trump, trump, policy, best, economy]\n",
       "2      [stein, stein, environmental, plan, exactly, n...\n",
       "3      [kennedy, kennedy, offer, fresh, perspective, ...\n",
       "4      [oliver, oliver, libertarian, stance, promotes...\n",
       "                             ...                        \n",
       "495    [harris, harris, symbol, progressive, leadership]\n",
       "496    [trump, economic, strategy, showing, mixed, re...\n",
       "497    [stein, stein, solar, project, leading, way, r...\n",
       "498    [kennedy, kennedy, offer, pragmatic, solution,...\n",
       "499    [oliver, oliver, expanding, base, among, liber...\n",
       "Name: tweet_text, Length: 500, dtype: object"
      ]
     },
     "execution_count": 122,
     "metadata": {},
     "output_type": "execute_result"
    }
   ],
   "source": [
    "processed_texts = df_train['tweet_text'].apply(lambda x: preprocess(x))\n",
    "processed_texts"
   ]
  },
  {
   "cell_type": "code",
   "execution_count": null,
   "metadata": {},
   "outputs": [],
   "source": []
  }
 ],
 "metadata": {
  "kernelspec": {
   "display_name": ".venv",
   "language": "python",
   "name": "python3"
  },
  "language_info": {
   "codemirror_mode": {
    "name": "ipython",
    "version": 3
   },
   "file_extension": ".py",
   "mimetype": "text/x-python",
   "name": "python",
   "nbconvert_exporter": "python",
   "pygments_lexer": "ipython3",
   "version": "3.12.3"
  }
 },
 "nbformat": 4,
 "nbformat_minor": 2
}
