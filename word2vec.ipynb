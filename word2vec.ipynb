{
 "cells": [
  {
   "cell_type": "markdown",
   "metadata": {},
   "source": [
    "# Word2Vec fine-tuning project\n",
    "\n",
    "### Description\n",
    "This project is meant to demonstrate a simple usage of the word2vec tool for creation of word embeddings using the Gensim library. As it will be shown, the word2vec can be used to create word embeddings in an efficient manner, whilst still having comparable results with Neural Networks.\n",
    "\n",
    "This post was based on the research paper [\"Efficient Estimation of Word Representations in Vector Space\"](https://arxiv.org/pdf/1301.3781)\n",
    "\n",
    "### Table of contents\n",
    "1. [Dataset Download](#dataset-download)\n",
    "2. [Exploratory Data Analysis](#exploratory-data-analysis)\n",
    "3. [Text Preprocessing](#text-preprocessing)\n",
    "4. [Fine-tuning](#word2vec-fine-tuning)\n",
    "5. [Data Visualization](#data-visualization)"
   ]
  },
  {
   "cell_type": "markdown",
   "metadata": {},
   "source": [
    "## Dataset download"
   ]
  },
  {
   "cell_type": "code",
   "execution_count": 10,
   "metadata": {},
   "outputs": [],
   "source": [
    "import requests\n",
    "import zipfile\n",
    "import os"
   ]
  },
  {
   "cell_type": "code",
   "execution_count": 11,
   "metadata": {},
   "outputs": [],
   "source": [
    "url = 'https://www.kaggle.com/api/v1/datasets/download/emirhanai/2024-u-s-election-sentiment-on-x'\n",
    "\n",
    "response = requests.get(url)"
   ]
  },
  {
   "cell_type": "code",
   "execution_count": 12,
   "metadata": {},
   "outputs": [
    {
     "name": "stdout",
     "output_type": "stream",
     "text": [
      "Dataset saved as 'dataset.zip'\n"
     ]
    }
   ],
   "source": [
    "if response.status_code == 200:\n",
    "    with open('dataset.zip', 'wb') as file:\n",
    "        file.write(response.content)\n",
    "    print(\"Dataset saved as 'dataset.zip'\")\n",
    "else:\n",
    "    print(f\"Error downloading dataset: {response.status_code}\")"
   ]
  },
  {
   "cell_type": "code",
   "execution_count": 13,
   "metadata": {},
   "outputs": [
    {
     "name": "stdout",
     "output_type": "stream",
     "text": [
      "Dataset unpacked as 'dataset'\n"
     ]
    }
   ],
   "source": [
    "with zipfile.ZipFile('dataset.zip', 'r') as zip_ref:\n",
    "    zip_ref.extractall('dataset')\n",
    "print(\"Dataset unpacked as 'dataset'\")"
   ]
  },
  {
   "cell_type": "code",
   "execution_count": 14,
   "metadata": {},
   "outputs": [
    {
     "name": "stdout",
     "output_type": "stream",
     "text": [
      "Dataset files: ['test.csv', 'train.csv', 'val.csv']\n"
     ]
    }
   ],
   "source": [
    "files = os.listdir('dataset')\n",
    "print(\"Dataset files:\", files)"
   ]
  },
  {
   "cell_type": "markdown",
   "metadata": {},
   "source": [
    "## Exploratory Data Analysis\n",
    "\n",
    "[Back to top](#word2vec-fine-tuning-project)"
   ]
  },
  {
   "cell_type": "code",
   "execution_count": 15,
   "metadata": {},
   "outputs": [],
   "source": [
    "import pandas as pd\n",
    "import plotly.express as px"
   ]
  },
  {
   "cell_type": "code",
   "execution_count": 16,
   "metadata": {},
   "outputs": [
    {
     "name": "stdout",
     "output_type": "stream",
     "text": [
      "df size: 600\n"
     ]
    }
   ],
   "source": [
    "df_train = pd.read_csv('dataset/train.csv')\n",
    "df_test = pd.read_csv('dataset/test.csv')\n",
    "df_val = pd.read_csv('dataset/val.csv')\n",
    "\n",
    "# For this task, we won't be needing testing and validation dataframes separated\n",
    "df = pd.concat([df_train,df_test,df_val], ignore_index=True, verify_integrity=True)\n",
    "\n",
    "print(f\"df size: {df.shape[0]}\")"
   ]
  },
  {
   "cell_type": "code",
   "execution_count": 17,
   "metadata": {},
   "outputs": [
    {
     "data": {
      "text/html": [
       "<div>\n",
       "<style scoped>\n",
       "    .dataframe tbody tr th:only-of-type {\n",
       "        vertical-align: middle;\n",
       "    }\n",
       "\n",
       "    .dataframe tbody tr th {\n",
       "        vertical-align: top;\n",
       "    }\n",
       "\n",
       "    .dataframe thead th {\n",
       "        text-align: right;\n",
       "    }\n",
       "</style>\n",
       "<table border=\"1\" class=\"dataframe\">\n",
       "  <thead>\n",
       "    <tr style=\"text-align: right;\">\n",
       "      <th></th>\n",
       "      <th>tweet_id</th>\n",
       "      <th>user_handle</th>\n",
       "      <th>timestamp</th>\n",
       "      <th>tweet_text</th>\n",
       "      <th>candidate</th>\n",
       "      <th>party</th>\n",
       "      <th>retweets</th>\n",
       "      <th>likes</th>\n",
       "      <th>sentiment</th>\n",
       "    </tr>\n",
       "  </thead>\n",
       "  <tbody>\n",
       "    <tr>\n",
       "      <th>0</th>\n",
       "      <td>1</td>\n",
       "      <td>@user123</td>\n",
       "      <td>2024-11-03 08:45:00</td>\n",
       "      <td>Excited to see Kamala Harris leading the Democ...</td>\n",
       "      <td>Kamala Harris</td>\n",
       "      <td>Democratic Party</td>\n",
       "      <td>120</td>\n",
       "      <td>450</td>\n",
       "      <td>positive</td>\n",
       "    </tr>\n",
       "    <tr>\n",
       "      <th>1</th>\n",
       "      <td>2</td>\n",
       "      <td>@politicsFan</td>\n",
       "      <td>2024-11-03 09:15:23</td>\n",
       "      <td>Donald Trump's policies are the best for our e...</td>\n",
       "      <td>Donald Trump</td>\n",
       "      <td>Republican Party</td>\n",
       "      <td>85</td>\n",
       "      <td>300</td>\n",
       "      <td>positive</td>\n",
       "    </tr>\n",
       "    <tr>\n",
       "      <th>2</th>\n",
       "      <td>3</td>\n",
       "      <td>@greenAdvocate</td>\n",
       "      <td>2024-11-03 10:05:45</td>\n",
       "      <td>Jill Stein's environmental plans are exactly w...</td>\n",
       "      <td>Jill Stein</td>\n",
       "      <td>Green Party</td>\n",
       "      <td>60</td>\n",
       "      <td>200</td>\n",
       "      <td>positive</td>\n",
       "    </tr>\n",
       "    <tr>\n",
       "      <th>3</th>\n",
       "      <td>4</td>\n",
       "      <td>@indieVoice</td>\n",
       "      <td>2024-11-03 11:20:10</td>\n",
       "      <td>Robert Kennedy offers a fresh perspective outs...</td>\n",
       "      <td>Robert Kennedy</td>\n",
       "      <td>Independent</td>\n",
       "      <td>40</td>\n",
       "      <td>150</td>\n",
       "      <td>neutral</td>\n",
       "    </tr>\n",
       "    <tr>\n",
       "      <th>4</th>\n",
       "      <td>5</td>\n",
       "      <td>@libertyLover</td>\n",
       "      <td>2024-11-03 12:35:55</td>\n",
       "      <td>Chase Oliver's libertarian stance promotes tru...</td>\n",
       "      <td>Chase Oliver</td>\n",
       "      <td>Libertarian Party</td>\n",
       "      <td>30</td>\n",
       "      <td>120</td>\n",
       "      <td>positive</td>\n",
       "    </tr>\n",
       "  </tbody>\n",
       "</table>\n",
       "</div>"
      ],
      "text/plain": [
       "   tweet_id     user_handle            timestamp  \\\n",
       "0         1        @user123  2024-11-03 08:45:00   \n",
       "1         2    @politicsFan  2024-11-03 09:15:23   \n",
       "2         3  @greenAdvocate  2024-11-03 10:05:45   \n",
       "3         4     @indieVoice  2024-11-03 11:20:10   \n",
       "4         5   @libertyLover  2024-11-03 12:35:55   \n",
       "\n",
       "                                          tweet_text       candidate  \\\n",
       "0  Excited to see Kamala Harris leading the Democ...   Kamala Harris   \n",
       "1  Donald Trump's policies are the best for our e...    Donald Trump   \n",
       "2  Jill Stein's environmental plans are exactly w...      Jill Stein   \n",
       "3  Robert Kennedy offers a fresh perspective outs...  Robert Kennedy   \n",
       "4  Chase Oliver's libertarian stance promotes tru...    Chase Oliver   \n",
       "\n",
       "               party  retweets  likes sentiment  \n",
       "0   Democratic Party       120    450  positive  \n",
       "1   Republican Party        85    300  positive  \n",
       "2        Green Party        60    200  positive  \n",
       "3        Independent        40    150   neutral  \n",
       "4  Libertarian Party        30    120  positive  "
      ]
     },
     "execution_count": 17,
     "metadata": {},
     "output_type": "execute_result"
    }
   ],
   "source": [
    "df.head()"
   ]
  },
  {
   "cell_type": "code",
   "execution_count": 18,
   "metadata": {},
   "outputs": [],
   "source": [
    "party_colors = {\n",
    "    \"Republican Party\": \"#BB0000\",\n",
    "    \"Democratic Party\": \"#0000BB\",\n",
    "    \"Green Party\": \"#00BB00\",\n",
    "    \"Independent\": \"#BBBBBB\",\n",
    "    \"Libertarian Party\": \"#CCCC00\"\n",
    "}"
   ]
  },
  {
   "cell_type": "code",
   "execution_count": 19,
   "metadata": {},
   "outputs": [
    {
     "data": {
      "application/vnd.plotly.v1+json": {
       "config": {
        "plotlyServerURL": "https://plot.ly"
       },
       "data": [
        {
         "alignmentgroup": "True",
         "hovertemplate": "Political Party=%{x}<br>Total Likes=%{y}<extra></extra>",
         "legendgroup": "Republican Party",
         "marker": {
          "color": "#BB0000",
          "pattern": {
           "shape": ""
          }
         },
         "name": "Republican Party",
         "offsetgroup": "Republican Party",
         "orientation": "v",
         "showlegend": true,
         "textposition": "auto",
         "type": "bar",
         "x": [
          "Republican Party"
         ],
         "xaxis": "x",
         "y": [
          51730
         ],
         "yaxis": "y"
        },
        {
         "alignmentgroup": "True",
         "hovertemplate": "Political Party=%{x}<br>Total Likes=%{y}<extra></extra>",
         "legendgroup": "Democratic Party",
         "marker": {
          "color": "#0000BB",
          "pattern": {
           "shape": ""
          }
         },
         "name": "Democratic Party",
         "offsetgroup": "Democratic Party",
         "orientation": "v",
         "showlegend": true,
         "textposition": "auto",
         "type": "bar",
         "x": [
          "Democratic Party"
         ],
         "xaxis": "x",
         "y": [
          39805
         ],
         "yaxis": "y"
        },
        {
         "alignmentgroup": "True",
         "hovertemplate": "Political Party=%{x}<br>Total Likes=%{y}<extra></extra>",
         "legendgroup": "Green Party",
         "marker": {
          "color": "#00BB00",
          "pattern": {
           "shape": ""
          }
         },
         "name": "Green Party",
         "offsetgroup": "Green Party",
         "orientation": "v",
         "showlegend": true,
         "textposition": "auto",
         "type": "bar",
         "x": [
          "Green Party"
         ],
         "xaxis": "x",
         "y": [
          26695
         ],
         "yaxis": "y"
        },
        {
         "alignmentgroup": "True",
         "hovertemplate": "Political Party=%{x}<br>Total Likes=%{y}<extra></extra>",
         "legendgroup": "Libertarian Party",
         "marker": {
          "color": "#CCCC00",
          "pattern": {
           "shape": ""
          }
         },
         "name": "Libertarian Party",
         "offsetgroup": "Libertarian Party",
         "orientation": "v",
         "showlegend": true,
         "textposition": "auto",
         "type": "bar",
         "x": [
          "Libertarian Party"
         ],
         "xaxis": "x",
         "y": [
          18990
         ],
         "yaxis": "y"
        },
        {
         "alignmentgroup": "True",
         "hovertemplate": "Political Party=%{x}<br>Total Likes=%{y}<extra></extra>",
         "legendgroup": "Independent",
         "marker": {
          "color": "#BBBBBB",
          "pattern": {
           "shape": ""
          }
         },
         "name": "Independent",
         "offsetgroup": "Independent",
         "orientation": "v",
         "showlegend": true,
         "textposition": "auto",
         "type": "bar",
         "x": [
          "Independent"
         ],
         "xaxis": "x",
         "y": [
          12080
         ],
         "yaxis": "y"
        }
       ],
       "layout": {
        "barmode": "relative",
        "legend": {
         "title": {
          "text": "Political Party"
         },
         "tracegroupgap": 0
        },
        "template": {
         "data": {
          "bar": [
           {
            "error_x": {
             "color": "#2a3f5f"
            },
            "error_y": {
             "color": "#2a3f5f"
            },
            "marker": {
             "line": {
              "color": "#E5ECF6",
              "width": 0.5
             },
             "pattern": {
              "fillmode": "overlay",
              "size": 10,
              "solidity": 0.2
             }
            },
            "type": "bar"
           }
          ],
          "barpolar": [
           {
            "marker": {
             "line": {
              "color": "#E5ECF6",
              "width": 0.5
             },
             "pattern": {
              "fillmode": "overlay",
              "size": 10,
              "solidity": 0.2
             }
            },
            "type": "barpolar"
           }
          ],
          "carpet": [
           {
            "aaxis": {
             "endlinecolor": "#2a3f5f",
             "gridcolor": "white",
             "linecolor": "white",
             "minorgridcolor": "white",
             "startlinecolor": "#2a3f5f"
            },
            "baxis": {
             "endlinecolor": "#2a3f5f",
             "gridcolor": "white",
             "linecolor": "white",
             "minorgridcolor": "white",
             "startlinecolor": "#2a3f5f"
            },
            "type": "carpet"
           }
          ],
          "choropleth": [
           {
            "colorbar": {
             "outlinewidth": 0,
             "ticks": ""
            },
            "type": "choropleth"
           }
          ],
          "contour": [
           {
            "colorbar": {
             "outlinewidth": 0,
             "ticks": ""
            },
            "colorscale": [
             [
              0,
              "#0d0887"
             ],
             [
              0.1111111111111111,
              "#46039f"
             ],
             [
              0.2222222222222222,
              "#7201a8"
             ],
             [
              0.3333333333333333,
              "#9c179e"
             ],
             [
              0.4444444444444444,
              "#bd3786"
             ],
             [
              0.5555555555555556,
              "#d8576b"
             ],
             [
              0.6666666666666666,
              "#ed7953"
             ],
             [
              0.7777777777777778,
              "#fb9f3a"
             ],
             [
              0.8888888888888888,
              "#fdca26"
             ],
             [
              1,
              "#f0f921"
             ]
            ],
            "type": "contour"
           }
          ],
          "contourcarpet": [
           {
            "colorbar": {
             "outlinewidth": 0,
             "ticks": ""
            },
            "type": "contourcarpet"
           }
          ],
          "heatmap": [
           {
            "colorbar": {
             "outlinewidth": 0,
             "ticks": ""
            },
            "colorscale": [
             [
              0,
              "#0d0887"
             ],
             [
              0.1111111111111111,
              "#46039f"
             ],
             [
              0.2222222222222222,
              "#7201a8"
             ],
             [
              0.3333333333333333,
              "#9c179e"
             ],
             [
              0.4444444444444444,
              "#bd3786"
             ],
             [
              0.5555555555555556,
              "#d8576b"
             ],
             [
              0.6666666666666666,
              "#ed7953"
             ],
             [
              0.7777777777777778,
              "#fb9f3a"
             ],
             [
              0.8888888888888888,
              "#fdca26"
             ],
             [
              1,
              "#f0f921"
             ]
            ],
            "type": "heatmap"
           }
          ],
          "heatmapgl": [
           {
            "colorbar": {
             "outlinewidth": 0,
             "ticks": ""
            },
            "colorscale": [
             [
              0,
              "#0d0887"
             ],
             [
              0.1111111111111111,
              "#46039f"
             ],
             [
              0.2222222222222222,
              "#7201a8"
             ],
             [
              0.3333333333333333,
              "#9c179e"
             ],
             [
              0.4444444444444444,
              "#bd3786"
             ],
             [
              0.5555555555555556,
              "#d8576b"
             ],
             [
              0.6666666666666666,
              "#ed7953"
             ],
             [
              0.7777777777777778,
              "#fb9f3a"
             ],
             [
              0.8888888888888888,
              "#fdca26"
             ],
             [
              1,
              "#f0f921"
             ]
            ],
            "type": "heatmapgl"
           }
          ],
          "histogram": [
           {
            "marker": {
             "pattern": {
              "fillmode": "overlay",
              "size": 10,
              "solidity": 0.2
             }
            },
            "type": "histogram"
           }
          ],
          "histogram2d": [
           {
            "colorbar": {
             "outlinewidth": 0,
             "ticks": ""
            },
            "colorscale": [
             [
              0,
              "#0d0887"
             ],
             [
              0.1111111111111111,
              "#46039f"
             ],
             [
              0.2222222222222222,
              "#7201a8"
             ],
             [
              0.3333333333333333,
              "#9c179e"
             ],
             [
              0.4444444444444444,
              "#bd3786"
             ],
             [
              0.5555555555555556,
              "#d8576b"
             ],
             [
              0.6666666666666666,
              "#ed7953"
             ],
             [
              0.7777777777777778,
              "#fb9f3a"
             ],
             [
              0.8888888888888888,
              "#fdca26"
             ],
             [
              1,
              "#f0f921"
             ]
            ],
            "type": "histogram2d"
           }
          ],
          "histogram2dcontour": [
           {
            "colorbar": {
             "outlinewidth": 0,
             "ticks": ""
            },
            "colorscale": [
             [
              0,
              "#0d0887"
             ],
             [
              0.1111111111111111,
              "#46039f"
             ],
             [
              0.2222222222222222,
              "#7201a8"
             ],
             [
              0.3333333333333333,
              "#9c179e"
             ],
             [
              0.4444444444444444,
              "#bd3786"
             ],
             [
              0.5555555555555556,
              "#d8576b"
             ],
             [
              0.6666666666666666,
              "#ed7953"
             ],
             [
              0.7777777777777778,
              "#fb9f3a"
             ],
             [
              0.8888888888888888,
              "#fdca26"
             ],
             [
              1,
              "#f0f921"
             ]
            ],
            "type": "histogram2dcontour"
           }
          ],
          "mesh3d": [
           {
            "colorbar": {
             "outlinewidth": 0,
             "ticks": ""
            },
            "type": "mesh3d"
           }
          ],
          "parcoords": [
           {
            "line": {
             "colorbar": {
              "outlinewidth": 0,
              "ticks": ""
             }
            },
            "type": "parcoords"
           }
          ],
          "pie": [
           {
            "automargin": true,
            "type": "pie"
           }
          ],
          "scatter": [
           {
            "fillpattern": {
             "fillmode": "overlay",
             "size": 10,
             "solidity": 0.2
            },
            "type": "scatter"
           }
          ],
          "scatter3d": [
           {
            "line": {
             "colorbar": {
              "outlinewidth": 0,
              "ticks": ""
             }
            },
            "marker": {
             "colorbar": {
              "outlinewidth": 0,
              "ticks": ""
             }
            },
            "type": "scatter3d"
           }
          ],
          "scattercarpet": [
           {
            "marker": {
             "colorbar": {
              "outlinewidth": 0,
              "ticks": ""
             }
            },
            "type": "scattercarpet"
           }
          ],
          "scattergeo": [
           {
            "marker": {
             "colorbar": {
              "outlinewidth": 0,
              "ticks": ""
             }
            },
            "type": "scattergeo"
           }
          ],
          "scattergl": [
           {
            "marker": {
             "colorbar": {
              "outlinewidth": 0,
              "ticks": ""
             }
            },
            "type": "scattergl"
           }
          ],
          "scattermapbox": [
           {
            "marker": {
             "colorbar": {
              "outlinewidth": 0,
              "ticks": ""
             }
            },
            "type": "scattermapbox"
           }
          ],
          "scatterpolar": [
           {
            "marker": {
             "colorbar": {
              "outlinewidth": 0,
              "ticks": ""
             }
            },
            "type": "scatterpolar"
           }
          ],
          "scatterpolargl": [
           {
            "marker": {
             "colorbar": {
              "outlinewidth": 0,
              "ticks": ""
             }
            },
            "type": "scatterpolargl"
           }
          ],
          "scatterternary": [
           {
            "marker": {
             "colorbar": {
              "outlinewidth": 0,
              "ticks": ""
             }
            },
            "type": "scatterternary"
           }
          ],
          "surface": [
           {
            "colorbar": {
             "outlinewidth": 0,
             "ticks": ""
            },
            "colorscale": [
             [
              0,
              "#0d0887"
             ],
             [
              0.1111111111111111,
              "#46039f"
             ],
             [
              0.2222222222222222,
              "#7201a8"
             ],
             [
              0.3333333333333333,
              "#9c179e"
             ],
             [
              0.4444444444444444,
              "#bd3786"
             ],
             [
              0.5555555555555556,
              "#d8576b"
             ],
             [
              0.6666666666666666,
              "#ed7953"
             ],
             [
              0.7777777777777778,
              "#fb9f3a"
             ],
             [
              0.8888888888888888,
              "#fdca26"
             ],
             [
              1,
              "#f0f921"
             ]
            ],
            "type": "surface"
           }
          ],
          "table": [
           {
            "cells": {
             "fill": {
              "color": "#EBF0F8"
             },
             "line": {
              "color": "white"
             }
            },
            "header": {
             "fill": {
              "color": "#C8D4E3"
             },
             "line": {
              "color": "white"
             }
            },
            "type": "table"
           }
          ]
         },
         "layout": {
          "annotationdefaults": {
           "arrowcolor": "#2a3f5f",
           "arrowhead": 0,
           "arrowwidth": 1
          },
          "autotypenumbers": "strict",
          "coloraxis": {
           "colorbar": {
            "outlinewidth": 0,
            "ticks": ""
           }
          },
          "colorscale": {
           "diverging": [
            [
             0,
             "#8e0152"
            ],
            [
             0.1,
             "#c51b7d"
            ],
            [
             0.2,
             "#de77ae"
            ],
            [
             0.3,
             "#f1b6da"
            ],
            [
             0.4,
             "#fde0ef"
            ],
            [
             0.5,
             "#f7f7f7"
            ],
            [
             0.6,
             "#e6f5d0"
            ],
            [
             0.7,
             "#b8e186"
            ],
            [
             0.8,
             "#7fbc41"
            ],
            [
             0.9,
             "#4d9221"
            ],
            [
             1,
             "#276419"
            ]
           ],
           "sequential": [
            [
             0,
             "#0d0887"
            ],
            [
             0.1111111111111111,
             "#46039f"
            ],
            [
             0.2222222222222222,
             "#7201a8"
            ],
            [
             0.3333333333333333,
             "#9c179e"
            ],
            [
             0.4444444444444444,
             "#bd3786"
            ],
            [
             0.5555555555555556,
             "#d8576b"
            ],
            [
             0.6666666666666666,
             "#ed7953"
            ],
            [
             0.7777777777777778,
             "#fb9f3a"
            ],
            [
             0.8888888888888888,
             "#fdca26"
            ],
            [
             1,
             "#f0f921"
            ]
           ],
           "sequentialminus": [
            [
             0,
             "#0d0887"
            ],
            [
             0.1111111111111111,
             "#46039f"
            ],
            [
             0.2222222222222222,
             "#7201a8"
            ],
            [
             0.3333333333333333,
             "#9c179e"
            ],
            [
             0.4444444444444444,
             "#bd3786"
            ],
            [
             0.5555555555555556,
             "#d8576b"
            ],
            [
             0.6666666666666666,
             "#ed7953"
            ],
            [
             0.7777777777777778,
             "#fb9f3a"
            ],
            [
             0.8888888888888888,
             "#fdca26"
            ],
            [
             1,
             "#f0f921"
            ]
           ]
          },
          "colorway": [
           "#636efa",
           "#EF553B",
           "#00cc96",
           "#ab63fa",
           "#FFA15A",
           "#19d3f3",
           "#FF6692",
           "#B6E880",
           "#FF97FF",
           "#FECB52"
          ],
          "font": {
           "color": "#2a3f5f"
          },
          "geo": {
           "bgcolor": "white",
           "lakecolor": "white",
           "landcolor": "#E5ECF6",
           "showlakes": true,
           "showland": true,
           "subunitcolor": "white"
          },
          "hoverlabel": {
           "align": "left"
          },
          "hovermode": "closest",
          "mapbox": {
           "style": "light"
          },
          "paper_bgcolor": "white",
          "plot_bgcolor": "#E5ECF6",
          "polar": {
           "angularaxis": {
            "gridcolor": "white",
            "linecolor": "white",
            "ticks": ""
           },
           "bgcolor": "#E5ECF6",
           "radialaxis": {
            "gridcolor": "white",
            "linecolor": "white",
            "ticks": ""
           }
          },
          "scene": {
           "xaxis": {
            "backgroundcolor": "#E5ECF6",
            "gridcolor": "white",
            "gridwidth": 2,
            "linecolor": "white",
            "showbackground": true,
            "ticks": "",
            "zerolinecolor": "white"
           },
           "yaxis": {
            "backgroundcolor": "#E5ECF6",
            "gridcolor": "white",
            "gridwidth": 2,
            "linecolor": "white",
            "showbackground": true,
            "ticks": "",
            "zerolinecolor": "white"
           },
           "zaxis": {
            "backgroundcolor": "#E5ECF6",
            "gridcolor": "white",
            "gridwidth": 2,
            "linecolor": "white",
            "showbackground": true,
            "ticks": "",
            "zerolinecolor": "white"
           }
          },
          "shapedefaults": {
           "line": {
            "color": "#2a3f5f"
           }
          },
          "ternary": {
           "aaxis": {
            "gridcolor": "white",
            "linecolor": "white",
            "ticks": ""
           },
           "baxis": {
            "gridcolor": "white",
            "linecolor": "white",
            "ticks": ""
           },
           "bgcolor": "#E5ECF6",
           "caxis": {
            "gridcolor": "white",
            "linecolor": "white",
            "ticks": ""
           }
          },
          "title": {
           "x": 0.05
          },
          "xaxis": {
           "automargin": true,
           "gridcolor": "white",
           "linecolor": "white",
           "ticks": "",
           "title": {
            "standoff": 15
           },
           "zerolinecolor": "white",
           "zerolinewidth": 2
          },
          "yaxis": {
           "automargin": true,
           "gridcolor": "white",
           "linecolor": "white",
           "ticks": "",
           "title": {
            "standoff": 15
           },
           "zerolinecolor": "white",
           "zerolinewidth": 2
          }
         }
        },
        "title": {
         "text": "Total Likes per Party"
        },
        "xaxis": {
         "anchor": "y",
         "categoryarray": [
          "Republican Party",
          "Democratic Party",
          "Green Party",
          "Libertarian Party",
          "Independent"
         ],
         "categoryorder": "total descending",
         "domain": [
          0,
          1
         ],
         "title": {
          "text": "Political Party"
         }
        },
        "yaxis": {
         "anchor": "x",
         "domain": [
          0,
          1
         ],
         "title": {
          "text": "Total Likes"
         }
        }
       }
      }
     },
     "metadata": {},
     "output_type": "display_data"
    }
   ],
   "source": [
    "# Aggregate and sort the data\n",
    "grouped_data = df.groupby('party', as_index=False)['likes'].sum()\n",
    "grouped_data = grouped_data.sort_values(by='likes', ascending=False)\n",
    "\n",
    "# Create the bar plot\n",
    "fig = px.bar(\n",
    "    grouped_data,\n",
    "    x='party',\n",
    "    y='likes',\n",
    "    color='party',\n",
    "    title=\"Total Likes per Party\",\n",
    "    labels={'party': 'Political Party', 'likes': 'Total Likes'},\n",
    "    color_discrete_map=party_colors\n",
    ")\n",
    "\n",
    "fig.update_layout(xaxis=dict(categoryorder='total descending'))\n",
    "fig.show()\n"
   ]
  },
  {
   "cell_type": "code",
   "execution_count": 20,
   "metadata": {},
   "outputs": [
    {
     "data": {
      "application/vnd.plotly.v1+json": {
       "config": {
        "plotlyServerURL": "https://plot.ly"
       },
       "data": [
        {
         "alignmentgroup": "True",
         "hovertemplate": "Political Party=%{x}<br>Retweet Count=%{y}<extra></extra>",
         "legendgroup": "Democratic Party",
         "marker": {
          "color": "#0000BB"
         },
         "name": "Democratic Party",
         "notched": false,
         "offsetgroup": "Democratic Party",
         "orientation": "v",
         "showlegend": true,
         "type": "box",
         "x": [
          "Democratic Party",
          "Democratic Party",
          "Democratic Party",
          "Democratic Party",
          "Democratic Party",
          "Democratic Party",
          "Democratic Party",
          "Democratic Party",
          "Democratic Party",
          "Democratic Party",
          "Democratic Party",
          "Democratic Party",
          "Democratic Party",
          "Democratic Party",
          "Democratic Party",
          "Democratic Party",
          "Democratic Party",
          "Democratic Party",
          "Democratic Party",
          "Democratic Party",
          "Democratic Party",
          "Democratic Party",
          "Democratic Party",
          "Democratic Party",
          "Democratic Party",
          "Democratic Party",
          "Democratic Party",
          "Democratic Party",
          "Democratic Party",
          "Democratic Party",
          "Democratic Party",
          "Democratic Party",
          "Democratic Party",
          "Democratic Party",
          "Democratic Party",
          "Democratic Party",
          "Democratic Party",
          "Democratic Party",
          "Democratic Party",
          "Democratic Party",
          "Democratic Party",
          "Democratic Party",
          "Democratic Party",
          "Democratic Party",
          "Democratic Party",
          "Democratic Party",
          "Democratic Party",
          "Democratic Party",
          "Democratic Party",
          "Democratic Party",
          "Democratic Party",
          "Democratic Party",
          "Democratic Party",
          "Democratic Party",
          "Democratic Party",
          "Democratic Party",
          "Democratic Party",
          "Democratic Party",
          "Democratic Party",
          "Democratic Party",
          "Democratic Party",
          "Democratic Party",
          "Democratic Party",
          "Democratic Party",
          "Democratic Party",
          "Democratic Party",
          "Democratic Party",
          "Democratic Party",
          "Democratic Party",
          "Democratic Party",
          "Democratic Party",
          "Democratic Party",
          "Democratic Party",
          "Democratic Party",
          "Democratic Party",
          "Democratic Party",
          "Democratic Party",
          "Democratic Party",
          "Democratic Party",
          "Democratic Party",
          "Democratic Party",
          "Democratic Party",
          "Democratic Party",
          "Democratic Party",
          "Democratic Party",
          "Democratic Party",
          "Democratic Party",
          "Democratic Party",
          "Democratic Party",
          "Democratic Party",
          "Democratic Party",
          "Democratic Party",
          "Democratic Party",
          "Democratic Party",
          "Democratic Party",
          "Democratic Party",
          "Democratic Party",
          "Democratic Party",
          "Democratic Party",
          "Democratic Party",
          "Democratic Party",
          "Democratic Party",
          "Democratic Party",
          "Democratic Party",
          "Democratic Party",
          "Democratic Party",
          "Democratic Party",
          "Democratic Party",
          "Democratic Party",
          "Democratic Party",
          "Democratic Party",
          "Democratic Party",
          "Democratic Party",
          "Democratic Party",
          "Democratic Party",
          "Democratic Party",
          "Democratic Party",
          "Democratic Party",
          "Democratic Party",
          "Democratic Party"
         ],
         "x0": " ",
         "xaxis": "x",
         "y": [
          120,
          95,
          80,
          90,
          85,
          75,
          80,
          95,
          85,
          90,
          80,
          85,
          95,
          85,
          90,
          80,
          80,
          95,
          85,
          90,
          85,
          90,
          80,
          85,
          85,
          75,
          80,
          95,
          85,
          90,
          80,
          85,
          95,
          85,
          90,
          80,
          80,
          95,
          85,
          90,
          85,
          90,
          85,
          85,
          85,
          75,
          80,
          95,
          85,
          90,
          80,
          85,
          95,
          85,
          90,
          80,
          80,
          95,
          85,
          90,
          80,
          95,
          85,
          90,
          80,
          85,
          95,
          85,
          90,
          80,
          85,
          95,
          85,
          90,
          80,
          85,
          95,
          85,
          90,
          80,
          85,
          90,
          75,
          80,
          95,
          85,
          90,
          80,
          85,
          95,
          85,
          90,
          80,
          85,
          95,
          85,
          90,
          80,
          85,
          95,
          85,
          90,
          75,
          80,
          95,
          85,
          90,
          80,
          85,
          95,
          85,
          90,
          75,
          80,
          95,
          85,
          90,
          80,
          85,
          95
         ],
         "y0": " ",
         "yaxis": "y"
        },
        {
         "alignmentgroup": "True",
         "hovertemplate": "Political Party=%{x}<br>Retweet Count=%{y}<extra></extra>",
         "legendgroup": "Republican Party",
         "marker": {
          "color": "#BB0000"
         },
         "name": "Republican Party",
         "notched": false,
         "offsetgroup": "Republican Party",
         "orientation": "v",
         "showlegend": true,
         "type": "box",
         "x": [
          "Republican Party",
          "Republican Party",
          "Republican Party",
          "Republican Party",
          "Republican Party",
          "Republican Party",
          "Republican Party",
          "Republican Party",
          "Republican Party",
          "Republican Party",
          "Republican Party",
          "Republican Party",
          "Republican Party",
          "Republican Party",
          "Republican Party",
          "Republican Party",
          "Republican Party",
          "Republican Party",
          "Republican Party",
          "Republican Party",
          "Republican Party",
          "Republican Party",
          "Republican Party",
          "Republican Party",
          "Republican Party",
          "Republican Party",
          "Republican Party",
          "Republican Party",
          "Republican Party",
          "Republican Party",
          "Republican Party",
          "Republican Party",
          "Republican Party",
          "Republican Party",
          "Republican Party",
          "Republican Party",
          "Republican Party",
          "Republican Party",
          "Republican Party",
          "Republican Party",
          "Republican Party",
          "Republican Party",
          "Republican Party",
          "Republican Party",
          "Republican Party",
          "Republican Party",
          "Republican Party",
          "Republican Party",
          "Republican Party",
          "Republican Party",
          "Republican Party",
          "Republican Party",
          "Republican Party",
          "Republican Party",
          "Republican Party",
          "Republican Party",
          "Republican Party",
          "Republican Party",
          "Republican Party",
          "Republican Party",
          "Republican Party",
          "Republican Party",
          "Republican Party",
          "Republican Party",
          "Republican Party",
          "Republican Party",
          "Republican Party",
          "Republican Party",
          "Republican Party",
          "Republican Party",
          "Republican Party",
          "Republican Party",
          "Republican Party",
          "Republican Party",
          "Republican Party",
          "Republican Party",
          "Republican Party",
          "Republican Party",
          "Republican Party",
          "Republican Party",
          "Republican Party",
          "Republican Party",
          "Republican Party",
          "Republican Party",
          "Republican Party",
          "Republican Party",
          "Republican Party",
          "Republican Party",
          "Republican Party",
          "Republican Party",
          "Republican Party",
          "Republican Party",
          "Republican Party",
          "Republican Party",
          "Republican Party",
          "Republican Party",
          "Republican Party",
          "Republican Party",
          "Republican Party",
          "Republican Party",
          "Republican Party",
          "Republican Party",
          "Republican Party",
          "Republican Party",
          "Republican Party",
          "Republican Party",
          "Republican Party",
          "Republican Party",
          "Republican Party",
          "Republican Party",
          "Republican Party",
          "Republican Party",
          "Republican Party",
          "Republican Party",
          "Republican Party",
          "Republican Party",
          "Republican Party",
          "Republican Party",
          "Republican Party",
          "Republican Party"
         ],
         "x0": " ",
         "xaxis": "x",
         "y": [
          85,
          110,
          95,
          100,
          105,
          115,
          90,
          100,
          110,
          95,
          90,
          95,
          100,
          110,
          95,
          90,
          90,
          100,
          110,
          95,
          95,
          100,
          90,
          100,
          105,
          115,
          90,
          100,
          110,
          95,
          90,
          95,
          100,
          110,
          95,
          90,
          90,
          100,
          110,
          95,
          95,
          100,
          90,
          100,
          105,
          115,
          90,
          100,
          110,
          95,
          90,
          95,
          100,
          110,
          95,
          90,
          90,
          100,
          110,
          95,
          90,
          100,
          110,
          95,
          90,
          95,
          100,
          110,
          95,
          90,
          95,
          100,
          110,
          95,
          90,
          95,
          100,
          110,
          95,
          90,
          100,
          95,
          115,
          90,
          100,
          110,
          95,
          90,
          95,
          100,
          110,
          95,
          90,
          95,
          100,
          110,
          95,
          90,
          95,
          100,
          100,
          95,
          115,
          90,
          100,
          110,
          95,
          90,
          95,
          100,
          100,
          95,
          115,
          90,
          100,
          110,
          95,
          90,
          95,
          100
         ],
         "y0": " ",
         "yaxis": "y"
        },
        {
         "alignmentgroup": "True",
         "hovertemplate": "Political Party=%{x}<br>Retweet Count=%{y}<extra></extra>",
         "legendgroup": "Green Party",
         "marker": {
          "color": "#00BB00"
         },
         "name": "Green Party",
         "notched": false,
         "offsetgroup": "Green Party",
         "orientation": "v",
         "showlegend": true,
         "type": "box",
         "x": [
          "Green Party",
          "Green Party",
          "Green Party",
          "Green Party",
          "Green Party",
          "Green Party",
          "Green Party",
          "Green Party",
          "Green Party",
          "Green Party",
          "Green Party",
          "Green Party",
          "Green Party",
          "Green Party",
          "Green Party",
          "Green Party",
          "Green Party",
          "Green Party",
          "Green Party",
          "Green Party",
          "Green Party",
          "Green Party",
          "Green Party",
          "Green Party",
          "Green Party",
          "Green Party",
          "Green Party",
          "Green Party",
          "Green Party",
          "Green Party",
          "Green Party",
          "Green Party",
          "Green Party",
          "Green Party",
          "Green Party",
          "Green Party",
          "Green Party",
          "Green Party",
          "Green Party",
          "Green Party",
          "Green Party",
          "Green Party",
          "Green Party",
          "Green Party",
          "Green Party",
          "Green Party",
          "Green Party",
          "Green Party",
          "Green Party",
          "Green Party",
          "Green Party",
          "Green Party",
          "Green Party",
          "Green Party",
          "Green Party",
          "Green Party",
          "Green Party",
          "Green Party",
          "Green Party",
          "Green Party",
          "Green Party",
          "Green Party",
          "Green Party",
          "Green Party",
          "Green Party",
          "Green Party",
          "Green Party",
          "Green Party",
          "Green Party",
          "Green Party",
          "Green Party",
          "Green Party",
          "Green Party",
          "Green Party",
          "Green Party",
          "Green Party",
          "Green Party",
          "Green Party",
          "Green Party",
          "Green Party",
          "Green Party",
          "Green Party",
          "Green Party",
          "Green Party",
          "Green Party",
          "Green Party",
          "Green Party",
          "Green Party",
          "Green Party",
          "Green Party",
          "Green Party",
          "Green Party",
          "Green Party",
          "Green Party",
          "Green Party",
          "Green Party",
          "Green Party",
          "Green Party",
          "Green Party",
          "Green Party",
          "Green Party",
          "Green Party",
          "Green Party",
          "Green Party",
          "Green Party",
          "Green Party",
          "Green Party",
          "Green Party",
          "Green Party",
          "Green Party",
          "Green Party",
          "Green Party",
          "Green Party",
          "Green Party",
          "Green Party",
          "Green Party",
          "Green Party",
          "Green Party",
          "Green Party",
          "Green Party"
         ],
         "x0": " ",
         "xaxis": "x",
         "y": [
          60,
          70,
          65,
          55,
          60,
          70,
          65,
          75,
          60,
          70,
          65,
          70,
          75,
          60,
          70,
          65,
          65,
          75,
          60,
          70,
          70,
          75,
          65,
          60,
          60,
          70,
          65,
          75,
          60,
          70,
          65,
          70,
          75,
          60,
          70,
          65,
          65,
          75,
          60,
          70,
          70,
          75,
          65,
          60,
          60,
          70,
          65,
          75,
          60,
          70,
          65,
          70,
          75,
          60,
          70,
          65,
          65,
          75,
          60,
          70,
          65,
          75,
          60,
          70,
          65,
          70,
          75,
          60,
          70,
          65,
          70,
          75,
          60,
          70,
          65,
          70,
          75,
          60,
          70,
          65,
          60,
          65,
          70,
          65,
          75,
          60,
          70,
          65,
          70,
          75,
          60,
          70,
          65,
          70,
          75,
          60,
          70,
          65,
          70,
          75,
          60,
          65,
          70,
          65,
          75,
          60,
          70,
          65,
          70,
          75,
          60,
          65,
          70,
          65,
          75,
          60,
          70,
          65,
          70,
          75
         ],
         "y0": " ",
         "yaxis": "y"
        },
        {
         "alignmentgroup": "True",
         "hovertemplate": "Political Party=%{x}<br>Retweet Count=%{y}<extra></extra>",
         "legendgroup": "Independent",
         "marker": {
          "color": "#BBBBBB"
         },
         "name": "Independent",
         "notched": false,
         "offsetgroup": "Independent",
         "orientation": "v",
         "showlegend": true,
         "type": "box",
         "x": [
          "Independent",
          "Independent",
          "Independent",
          "Independent",
          "Independent",
          "Independent",
          "Independent",
          "Independent",
          "Independent",
          "Independent",
          "Independent",
          "Independent",
          "Independent",
          "Independent",
          "Independent",
          "Independent",
          "Independent",
          "Independent",
          "Independent",
          "Independent",
          "Independent",
          "Independent",
          "Independent",
          "Independent",
          "Independent",
          "Independent",
          "Independent",
          "Independent",
          "Independent",
          "Independent",
          "Independent",
          "Independent",
          "Independent",
          "Independent",
          "Independent",
          "Independent",
          "Independent",
          "Independent",
          "Independent",
          "Independent",
          "Independent",
          "Independent",
          "Independent",
          "Independent",
          "Independent",
          "Independent",
          "Independent",
          "Independent",
          "Independent",
          "Independent",
          "Independent",
          "Independent",
          "Independent",
          "Independent",
          "Independent",
          "Independent",
          "Independent",
          "Independent",
          "Independent",
          "Independent",
          "Independent",
          "Independent",
          "Independent",
          "Independent",
          "Independent",
          "Independent",
          "Independent",
          "Independent",
          "Independent",
          "Independent",
          "Independent",
          "Independent",
          "Independent",
          "Independent",
          "Independent",
          "Independent",
          "Independent",
          "Independent",
          "Independent",
          "Independent",
          "Independent",
          "Independent",
          "Independent",
          "Independent",
          "Independent",
          "Independent",
          "Independent",
          "Independent",
          "Independent",
          "Independent",
          "Independent",
          "Independent",
          "Independent",
          "Independent",
          "Independent",
          "Independent",
          "Independent",
          "Independent",
          "Independent",
          "Independent",
          "Independent",
          "Independent",
          "Independent",
          "Independent",
          "Independent",
          "Independent",
          "Independent",
          "Independent",
          "Independent",
          "Independent",
          "Independent",
          "Independent",
          "Independent",
          "Independent",
          "Independent",
          "Independent",
          "Independent",
          "Independent",
          "Independent",
          "Independent"
         ],
         "x0": " ",
         "xaxis": "x",
         "y": [
          40,
          25,
          35,
          30,
          20,
          28,
          22,
          18,
          25,
          30,
          28,
          22,
          18,
          25,
          30,
          28,
          22,
          18,
          25,
          30,
          30,
          25,
          22,
          28,
          20,
          28,
          22,
          18,
          25,
          30,
          28,
          22,
          18,
          25,
          30,
          28,
          22,
          18,
          25,
          30,
          30,
          25,
          22,
          28,
          20,
          28,
          22,
          18,
          25,
          30,
          28,
          22,
          18,
          25,
          30,
          28,
          22,
          18,
          25,
          30,
          22,
          18,
          25,
          30,
          28,
          22,
          18,
          25,
          30,
          28,
          22,
          18,
          25,
          30,
          28,
          22,
          18,
          25,
          30,
          28,
          30,
          22,
          28,
          22,
          18,
          25,
          30,
          28,
          22,
          18,
          25,
          30,
          28,
          22,
          18,
          25,
          30,
          28,
          22,
          18,
          30,
          22,
          28,
          22,
          18,
          25,
          30,
          28,
          22,
          18,
          30,
          22,
          28,
          22,
          18,
          25,
          30,
          28,
          22,
          18
         ],
         "y0": " ",
         "yaxis": "y"
        },
        {
         "alignmentgroup": "True",
         "hovertemplate": "Political Party=%{x}<br>Retweet Count=%{y}<extra></extra>",
         "legendgroup": "Libertarian Party",
         "marker": {
          "color": "#CCCC00"
         },
         "name": "Libertarian Party",
         "notched": false,
         "offsetgroup": "Libertarian Party",
         "orientation": "v",
         "showlegend": true,
         "type": "box",
         "x": [
          "Libertarian Party",
          "Libertarian Party",
          "Libertarian Party",
          "Libertarian Party",
          "Libertarian Party",
          "Libertarian Party",
          "Libertarian Party",
          "Libertarian Party",
          "Libertarian Party",
          "Libertarian Party",
          "Libertarian Party",
          "Libertarian Party",
          "Libertarian Party",
          "Libertarian Party",
          "Libertarian Party",
          "Libertarian Party",
          "Libertarian Party",
          "Libertarian Party",
          "Libertarian Party",
          "Libertarian Party",
          "Libertarian Party",
          "Libertarian Party",
          "Libertarian Party",
          "Libertarian Party",
          "Libertarian Party",
          "Libertarian Party",
          "Libertarian Party",
          "Libertarian Party",
          "Libertarian Party",
          "Libertarian Party",
          "Libertarian Party",
          "Libertarian Party",
          "Libertarian Party",
          "Libertarian Party",
          "Libertarian Party",
          "Libertarian Party",
          "Libertarian Party",
          "Libertarian Party",
          "Libertarian Party",
          "Libertarian Party",
          "Libertarian Party",
          "Libertarian Party",
          "Libertarian Party",
          "Libertarian Party",
          "Libertarian Party",
          "Libertarian Party",
          "Libertarian Party",
          "Libertarian Party",
          "Libertarian Party",
          "Libertarian Party",
          "Libertarian Party",
          "Libertarian Party",
          "Libertarian Party",
          "Libertarian Party",
          "Libertarian Party",
          "Libertarian Party",
          "Libertarian Party",
          "Libertarian Party",
          "Libertarian Party",
          "Libertarian Party",
          "Libertarian Party",
          "Libertarian Party",
          "Libertarian Party",
          "Libertarian Party",
          "Libertarian Party",
          "Libertarian Party",
          "Libertarian Party",
          "Libertarian Party",
          "Libertarian Party",
          "Libertarian Party",
          "Libertarian Party",
          "Libertarian Party",
          "Libertarian Party",
          "Libertarian Party",
          "Libertarian Party",
          "Libertarian Party",
          "Libertarian Party",
          "Libertarian Party",
          "Libertarian Party",
          "Libertarian Party",
          "Libertarian Party",
          "Libertarian Party",
          "Libertarian Party",
          "Libertarian Party",
          "Libertarian Party",
          "Libertarian Party",
          "Libertarian Party",
          "Libertarian Party",
          "Libertarian Party",
          "Libertarian Party",
          "Libertarian Party",
          "Libertarian Party",
          "Libertarian Party",
          "Libertarian Party",
          "Libertarian Party",
          "Libertarian Party",
          "Libertarian Party",
          "Libertarian Party",
          "Libertarian Party",
          "Libertarian Party",
          "Libertarian Party",
          "Libertarian Party",
          "Libertarian Party",
          "Libertarian Party",
          "Libertarian Party",
          "Libertarian Party",
          "Libertarian Party",
          "Libertarian Party",
          "Libertarian Party",
          "Libertarian Party",
          "Libertarian Party",
          "Libertarian Party",
          "Libertarian Party",
          "Libertarian Party",
          "Libertarian Party",
          "Libertarian Party",
          "Libertarian Party",
          "Libertarian Party",
          "Libertarian Party",
          "Libertarian Party"
         ],
         "x0": " ",
         "xaxis": "x",
         "y": [
          30,
          50,
          45,
          40,
          35,
          50,
          45,
          40,
          35,
          50,
          50,
          45,
          40,
          35,
          50,
          50,
          45,
          40,
          35,
          50,
          50,
          45,
          40,
          50,
          35,
          50,
          45,
          40,
          35,
          50,
          50,
          45,
          40,
          35,
          50,
          50,
          45,
          40,
          35,
          50,
          50,
          45,
          40,
          50,
          35,
          50,
          45,
          40,
          35,
          50,
          50,
          45,
          40,
          35,
          50,
          50,
          45,
          40,
          35,
          50,
          45,
          40,
          35,
          50,
          50,
          45,
          40,
          35,
          50,
          50,
          45,
          40,
          35,
          50,
          50,
          45,
          40,
          35,
          50,
          50,
          50,
          45,
          50,
          45,
          40,
          35,
          50,
          50,
          45,
          40,
          35,
          50,
          50,
          45,
          40,
          35,
          50,
          50,
          45,
          40,
          50,
          45,
          50,
          45,
          40,
          35,
          50,
          50,
          45,
          40,
          50,
          45,
          50,
          45,
          40,
          35,
          50,
          50,
          45,
          40
         ],
         "y0": " ",
         "yaxis": "y"
        }
       ],
       "layout": {
        "boxmode": "overlay",
        "legend": {
         "title": {
          "text": "Political Party"
         },
         "tracegroupgap": 0
        },
        "template": {
         "data": {
          "bar": [
           {
            "error_x": {
             "color": "#2a3f5f"
            },
            "error_y": {
             "color": "#2a3f5f"
            },
            "marker": {
             "line": {
              "color": "#E5ECF6",
              "width": 0.5
             },
             "pattern": {
              "fillmode": "overlay",
              "size": 10,
              "solidity": 0.2
             }
            },
            "type": "bar"
           }
          ],
          "barpolar": [
           {
            "marker": {
             "line": {
              "color": "#E5ECF6",
              "width": 0.5
             },
             "pattern": {
              "fillmode": "overlay",
              "size": 10,
              "solidity": 0.2
             }
            },
            "type": "barpolar"
           }
          ],
          "carpet": [
           {
            "aaxis": {
             "endlinecolor": "#2a3f5f",
             "gridcolor": "white",
             "linecolor": "white",
             "minorgridcolor": "white",
             "startlinecolor": "#2a3f5f"
            },
            "baxis": {
             "endlinecolor": "#2a3f5f",
             "gridcolor": "white",
             "linecolor": "white",
             "minorgridcolor": "white",
             "startlinecolor": "#2a3f5f"
            },
            "type": "carpet"
           }
          ],
          "choropleth": [
           {
            "colorbar": {
             "outlinewidth": 0,
             "ticks": ""
            },
            "type": "choropleth"
           }
          ],
          "contour": [
           {
            "colorbar": {
             "outlinewidth": 0,
             "ticks": ""
            },
            "colorscale": [
             [
              0,
              "#0d0887"
             ],
             [
              0.1111111111111111,
              "#46039f"
             ],
             [
              0.2222222222222222,
              "#7201a8"
             ],
             [
              0.3333333333333333,
              "#9c179e"
             ],
             [
              0.4444444444444444,
              "#bd3786"
             ],
             [
              0.5555555555555556,
              "#d8576b"
             ],
             [
              0.6666666666666666,
              "#ed7953"
             ],
             [
              0.7777777777777778,
              "#fb9f3a"
             ],
             [
              0.8888888888888888,
              "#fdca26"
             ],
             [
              1,
              "#f0f921"
             ]
            ],
            "type": "contour"
           }
          ],
          "contourcarpet": [
           {
            "colorbar": {
             "outlinewidth": 0,
             "ticks": ""
            },
            "type": "contourcarpet"
           }
          ],
          "heatmap": [
           {
            "colorbar": {
             "outlinewidth": 0,
             "ticks": ""
            },
            "colorscale": [
             [
              0,
              "#0d0887"
             ],
             [
              0.1111111111111111,
              "#46039f"
             ],
             [
              0.2222222222222222,
              "#7201a8"
             ],
             [
              0.3333333333333333,
              "#9c179e"
             ],
             [
              0.4444444444444444,
              "#bd3786"
             ],
             [
              0.5555555555555556,
              "#d8576b"
             ],
             [
              0.6666666666666666,
              "#ed7953"
             ],
             [
              0.7777777777777778,
              "#fb9f3a"
             ],
             [
              0.8888888888888888,
              "#fdca26"
             ],
             [
              1,
              "#f0f921"
             ]
            ],
            "type": "heatmap"
           }
          ],
          "heatmapgl": [
           {
            "colorbar": {
             "outlinewidth": 0,
             "ticks": ""
            },
            "colorscale": [
             [
              0,
              "#0d0887"
             ],
             [
              0.1111111111111111,
              "#46039f"
             ],
             [
              0.2222222222222222,
              "#7201a8"
             ],
             [
              0.3333333333333333,
              "#9c179e"
             ],
             [
              0.4444444444444444,
              "#bd3786"
             ],
             [
              0.5555555555555556,
              "#d8576b"
             ],
             [
              0.6666666666666666,
              "#ed7953"
             ],
             [
              0.7777777777777778,
              "#fb9f3a"
             ],
             [
              0.8888888888888888,
              "#fdca26"
             ],
             [
              1,
              "#f0f921"
             ]
            ],
            "type": "heatmapgl"
           }
          ],
          "histogram": [
           {
            "marker": {
             "pattern": {
              "fillmode": "overlay",
              "size": 10,
              "solidity": 0.2
             }
            },
            "type": "histogram"
           }
          ],
          "histogram2d": [
           {
            "colorbar": {
             "outlinewidth": 0,
             "ticks": ""
            },
            "colorscale": [
             [
              0,
              "#0d0887"
             ],
             [
              0.1111111111111111,
              "#46039f"
             ],
             [
              0.2222222222222222,
              "#7201a8"
             ],
             [
              0.3333333333333333,
              "#9c179e"
             ],
             [
              0.4444444444444444,
              "#bd3786"
             ],
             [
              0.5555555555555556,
              "#d8576b"
             ],
             [
              0.6666666666666666,
              "#ed7953"
             ],
             [
              0.7777777777777778,
              "#fb9f3a"
             ],
             [
              0.8888888888888888,
              "#fdca26"
             ],
             [
              1,
              "#f0f921"
             ]
            ],
            "type": "histogram2d"
           }
          ],
          "histogram2dcontour": [
           {
            "colorbar": {
             "outlinewidth": 0,
             "ticks": ""
            },
            "colorscale": [
             [
              0,
              "#0d0887"
             ],
             [
              0.1111111111111111,
              "#46039f"
             ],
             [
              0.2222222222222222,
              "#7201a8"
             ],
             [
              0.3333333333333333,
              "#9c179e"
             ],
             [
              0.4444444444444444,
              "#bd3786"
             ],
             [
              0.5555555555555556,
              "#d8576b"
             ],
             [
              0.6666666666666666,
              "#ed7953"
             ],
             [
              0.7777777777777778,
              "#fb9f3a"
             ],
             [
              0.8888888888888888,
              "#fdca26"
             ],
             [
              1,
              "#f0f921"
             ]
            ],
            "type": "histogram2dcontour"
           }
          ],
          "mesh3d": [
           {
            "colorbar": {
             "outlinewidth": 0,
             "ticks": ""
            },
            "type": "mesh3d"
           }
          ],
          "parcoords": [
           {
            "line": {
             "colorbar": {
              "outlinewidth": 0,
              "ticks": ""
             }
            },
            "type": "parcoords"
           }
          ],
          "pie": [
           {
            "automargin": true,
            "type": "pie"
           }
          ],
          "scatter": [
           {
            "fillpattern": {
             "fillmode": "overlay",
             "size": 10,
             "solidity": 0.2
            },
            "type": "scatter"
           }
          ],
          "scatter3d": [
           {
            "line": {
             "colorbar": {
              "outlinewidth": 0,
              "ticks": ""
             }
            },
            "marker": {
             "colorbar": {
              "outlinewidth": 0,
              "ticks": ""
             }
            },
            "type": "scatter3d"
           }
          ],
          "scattercarpet": [
           {
            "marker": {
             "colorbar": {
              "outlinewidth": 0,
              "ticks": ""
             }
            },
            "type": "scattercarpet"
           }
          ],
          "scattergeo": [
           {
            "marker": {
             "colorbar": {
              "outlinewidth": 0,
              "ticks": ""
             }
            },
            "type": "scattergeo"
           }
          ],
          "scattergl": [
           {
            "marker": {
             "colorbar": {
              "outlinewidth": 0,
              "ticks": ""
             }
            },
            "type": "scattergl"
           }
          ],
          "scattermapbox": [
           {
            "marker": {
             "colorbar": {
              "outlinewidth": 0,
              "ticks": ""
             }
            },
            "type": "scattermapbox"
           }
          ],
          "scatterpolar": [
           {
            "marker": {
             "colorbar": {
              "outlinewidth": 0,
              "ticks": ""
             }
            },
            "type": "scatterpolar"
           }
          ],
          "scatterpolargl": [
           {
            "marker": {
             "colorbar": {
              "outlinewidth": 0,
              "ticks": ""
             }
            },
            "type": "scatterpolargl"
           }
          ],
          "scatterternary": [
           {
            "marker": {
             "colorbar": {
              "outlinewidth": 0,
              "ticks": ""
             }
            },
            "type": "scatterternary"
           }
          ],
          "surface": [
           {
            "colorbar": {
             "outlinewidth": 0,
             "ticks": ""
            },
            "colorscale": [
             [
              0,
              "#0d0887"
             ],
             [
              0.1111111111111111,
              "#46039f"
             ],
             [
              0.2222222222222222,
              "#7201a8"
             ],
             [
              0.3333333333333333,
              "#9c179e"
             ],
             [
              0.4444444444444444,
              "#bd3786"
             ],
             [
              0.5555555555555556,
              "#d8576b"
             ],
             [
              0.6666666666666666,
              "#ed7953"
             ],
             [
              0.7777777777777778,
              "#fb9f3a"
             ],
             [
              0.8888888888888888,
              "#fdca26"
             ],
             [
              1,
              "#f0f921"
             ]
            ],
            "type": "surface"
           }
          ],
          "table": [
           {
            "cells": {
             "fill": {
              "color": "#EBF0F8"
             },
             "line": {
              "color": "white"
             }
            },
            "header": {
             "fill": {
              "color": "#C8D4E3"
             },
             "line": {
              "color": "white"
             }
            },
            "type": "table"
           }
          ]
         },
         "layout": {
          "annotationdefaults": {
           "arrowcolor": "#2a3f5f",
           "arrowhead": 0,
           "arrowwidth": 1
          },
          "autotypenumbers": "strict",
          "coloraxis": {
           "colorbar": {
            "outlinewidth": 0,
            "ticks": ""
           }
          },
          "colorscale": {
           "diverging": [
            [
             0,
             "#8e0152"
            ],
            [
             0.1,
             "#c51b7d"
            ],
            [
             0.2,
             "#de77ae"
            ],
            [
             0.3,
             "#f1b6da"
            ],
            [
             0.4,
             "#fde0ef"
            ],
            [
             0.5,
             "#f7f7f7"
            ],
            [
             0.6,
             "#e6f5d0"
            ],
            [
             0.7,
             "#b8e186"
            ],
            [
             0.8,
             "#7fbc41"
            ],
            [
             0.9,
             "#4d9221"
            ],
            [
             1,
             "#276419"
            ]
           ],
           "sequential": [
            [
             0,
             "#0d0887"
            ],
            [
             0.1111111111111111,
             "#46039f"
            ],
            [
             0.2222222222222222,
             "#7201a8"
            ],
            [
             0.3333333333333333,
             "#9c179e"
            ],
            [
             0.4444444444444444,
             "#bd3786"
            ],
            [
             0.5555555555555556,
             "#d8576b"
            ],
            [
             0.6666666666666666,
             "#ed7953"
            ],
            [
             0.7777777777777778,
             "#fb9f3a"
            ],
            [
             0.8888888888888888,
             "#fdca26"
            ],
            [
             1,
             "#f0f921"
            ]
           ],
           "sequentialminus": [
            [
             0,
             "#0d0887"
            ],
            [
             0.1111111111111111,
             "#46039f"
            ],
            [
             0.2222222222222222,
             "#7201a8"
            ],
            [
             0.3333333333333333,
             "#9c179e"
            ],
            [
             0.4444444444444444,
             "#bd3786"
            ],
            [
             0.5555555555555556,
             "#d8576b"
            ],
            [
             0.6666666666666666,
             "#ed7953"
            ],
            [
             0.7777777777777778,
             "#fb9f3a"
            ],
            [
             0.8888888888888888,
             "#fdca26"
            ],
            [
             1,
             "#f0f921"
            ]
           ]
          },
          "colorway": [
           "#636efa",
           "#EF553B",
           "#00cc96",
           "#ab63fa",
           "#FFA15A",
           "#19d3f3",
           "#FF6692",
           "#B6E880",
           "#FF97FF",
           "#FECB52"
          ],
          "font": {
           "color": "#2a3f5f"
          },
          "geo": {
           "bgcolor": "white",
           "lakecolor": "white",
           "landcolor": "#E5ECF6",
           "showlakes": true,
           "showland": true,
           "subunitcolor": "white"
          },
          "hoverlabel": {
           "align": "left"
          },
          "hovermode": "closest",
          "mapbox": {
           "style": "light"
          },
          "paper_bgcolor": "white",
          "plot_bgcolor": "#E5ECF6",
          "polar": {
           "angularaxis": {
            "gridcolor": "white",
            "linecolor": "white",
            "ticks": ""
           },
           "bgcolor": "#E5ECF6",
           "radialaxis": {
            "gridcolor": "white",
            "linecolor": "white",
            "ticks": ""
           }
          },
          "scene": {
           "xaxis": {
            "backgroundcolor": "#E5ECF6",
            "gridcolor": "white",
            "gridwidth": 2,
            "linecolor": "white",
            "showbackground": true,
            "ticks": "",
            "zerolinecolor": "white"
           },
           "yaxis": {
            "backgroundcolor": "#E5ECF6",
            "gridcolor": "white",
            "gridwidth": 2,
            "linecolor": "white",
            "showbackground": true,
            "ticks": "",
            "zerolinecolor": "white"
           },
           "zaxis": {
            "backgroundcolor": "#E5ECF6",
            "gridcolor": "white",
            "gridwidth": 2,
            "linecolor": "white",
            "showbackground": true,
            "ticks": "",
            "zerolinecolor": "white"
           }
          },
          "shapedefaults": {
           "line": {
            "color": "#2a3f5f"
           }
          },
          "ternary": {
           "aaxis": {
            "gridcolor": "white",
            "linecolor": "white",
            "ticks": ""
           },
           "baxis": {
            "gridcolor": "white",
            "linecolor": "white",
            "ticks": ""
           },
           "bgcolor": "#E5ECF6",
           "caxis": {
            "gridcolor": "white",
            "linecolor": "white",
            "ticks": ""
           }
          },
          "title": {
           "x": 0.05
          },
          "xaxis": {
           "automargin": true,
           "gridcolor": "white",
           "linecolor": "white",
           "ticks": "",
           "title": {
            "standoff": 15
           },
           "zerolinecolor": "white",
           "zerolinewidth": 2
          },
          "yaxis": {
           "automargin": true,
           "gridcolor": "white",
           "linecolor": "white",
           "ticks": "",
           "title": {
            "standoff": 15
           },
           "zerolinecolor": "white",
           "zerolinewidth": 2
          }
         }
        },
        "title": {
         "text": "Retweet Distribution per Party"
        },
        "xaxis": {
         "anchor": "y",
         "categoryarray": [
          "Republican Party",
          "Democratic Party",
          "Green Party",
          "Libertarian Party",
          "Independent"
         ],
         "categoryorder": "array",
         "domain": [
          0,
          1
         ],
         "title": {
          "text": "Political Party"
         }
        },
        "yaxis": {
         "anchor": "x",
         "domain": [
          0,
          1
         ],
         "title": {
          "text": "Retweet Count"
         }
        }
       }
      }
     },
     "metadata": {},
     "output_type": "display_data"
    }
   ],
   "source": [
    "# Create the box plot directly from df_train\n",
    "fig = px.box(\n",
    "    df,\n",
    "    x='party',\n",
    "    y='retweets',\n",
    "    color='party',\n",
    "    title=\"Retweet Distribution per Party\",\n",
    "    labels={'party': 'Political Party', 'retweets': 'Retweet Count'},\n",
    "    color_discrete_map=party_colors\n",
    ")\n",
    "\n",
    "fig.update_layout(\n",
    "    xaxis=dict(categoryorder='array', categoryarray=df_train.groupby('party')['retweets'].mean().sort_values(ascending=False).index)\n",
    ")\n",
    "\n",
    "fig.show()"
   ]
  },
  {
   "cell_type": "markdown",
   "metadata": {},
   "source": [
    "## Text Preprocessing\n",
    "\n",
    "[Back to top](#word2vec-fine-tuning-project)"
   ]
  },
  {
   "cell_type": "code",
   "execution_count": 21,
   "metadata": {},
   "outputs": [
    {
     "name": "stderr",
     "output_type": "stream",
     "text": [
      "[nltk_data] Downloading package punkt_tab to /home/jose/nltk_data...\n",
      "[nltk_data]   Package punkt_tab is already up-to-date!\n",
      "[nltk_data] Downloading package stopwords to /home/jose/nltk_data...\n",
      "[nltk_data]   Package stopwords is already up-to-date!\n",
      "[nltk_data] Downloading package wordnet to /home/jose/nltk_data...\n",
      "[nltk_data]   Package wordnet is already up-to-date!\n"
     ]
    },
    {
     "data": {
      "text/plain": [
       "True"
      ]
     },
     "execution_count": 21,
     "metadata": {},
     "output_type": "execute_result"
    }
   ],
   "source": [
    "import nltk\n",
    "import string\n",
    "import re\n",
    "\n",
    "nltk.download('punkt_tab')\n",
    "nltk.download('stopwords')\n",
    "nltk.download('wordnet')"
   ]
  },
  {
   "cell_type": "code",
   "execution_count": 22,
   "metadata": {},
   "outputs": [
    {
     "name": "stdout",
     "output_type": "stream",
     "text": [
      "Natural language processing is a field of artificial intelligence that deals with the interaction between computers and human (natural) language. Check out this article for more information: https://en.wikipedia.org/wiki/Natural_language_processing\n",
      "['natural', 'language', 'processing', 'field', 'artificial', 'intelligence', 'deal', 'interaction', 'computer', 'human', 'natural', 'language', 'check', 'article', 'information']\n"
     ]
    }
   ],
   "source": [
    "def preprocess(input):\n",
    "    # Whitespace removal\n",
    "    text = input.strip()          # Leading and trailing\n",
    "    text = \" \".join(text.split()) # Remove multiplied whitespaces\n",
    "\n",
    "    # Lowercasing\n",
    "    text = text.lower()\n",
    "\n",
    "    # Candidate name normalization (easier done before tokenization)\n",
    "    candidates = {\n",
    "         \"donald trump\": \"trump\",\n",
    "         \"kamala harris\": \"harris\",\n",
    "         \"jill stein\":   \"stein\",\n",
    "         \"robert kennedy\": \"kennedy\",\n",
    "         \"chase oliver\":  \"oliver\"\n",
    "    }\n",
    "    for fullname in candidates.keys():\n",
    "        text = re.sub(fullname, candidates[fullname], text)\n",
    "\n",
    "    # URL removal\n",
    "    pattern = r\"(http|ftp|https)://([\\w_-]+(?:(?:\\.[\\w_-]+)+))([\\w.,@?^=%&:/~+#-]*[\\w@?^=%&/~+#-])?\"\n",
    "    text = re.sub(pattern, \"\", text)\n",
    "\n",
    "    # Tokenization (separating words into a list of tokens)\n",
    "    tokens = nltk.word_tokenize(text)\n",
    "\n",
    "    # Filtering punctuation\n",
    "    filtered_tokens = [token for token in tokens if token not in string.punctuation]\n",
    "\n",
    "    # Stopword removal (removing words with little value such as 'the' 'of' etc.)\n",
    "    stopwords = nltk.corpus.stopwords.words(\"english\") + ['\\'s']\n",
    "    filtered_tokens = [token for token in filtered_tokens if token.lower() not in stopwords]\n",
    "\n",
    "    # Lemmatization (reducing words to their lemma form)\n",
    "    lemmatizer = nltk.stem.WordNetLemmatizer()\n",
    "    processed_tokens = [lemmatizer.lemmatize(token) for token in filtered_tokens]\n",
    "    return processed_tokens\n",
    "\n",
    "example = \"Natural language processing is a field of artificial intelligence that deals with the interaction between computers and human (natural) language. Check out this article for more information: https://en.wikipedia.org/wiki/Natural_language_processing\"\n",
    "print(example)\n",
    "print(preprocess(example))"
   ]
  },
  {
   "cell_type": "code",
   "execution_count": 23,
   "metadata": {},
   "outputs": [
    {
     "data": {
      "text/plain": [
       "0      [excited, see, harris, leading, democratic, ch...\n",
       "1                         [trump, policy, best, economy]\n",
       "2            [stein, environmental, plan, exactly, need]\n",
       "3      [kennedy, offer, fresh, perspective, outside, ...\n",
       "4      [oliver, libertarian, stance, promotes, true, ...\n",
       "                             ...                        \n",
       "595            [harris, symbol, progressive, leadership]\n",
       "596    [trump, economic, strategy, showing, mixed, re...\n",
       "597    [stein, solar, project, leading, way, renewabl...\n",
       "598    [kennedy, offer, pragmatic, solution, outside,...\n",
       "599    [oliver, expanding, base, among, libertarian, ...\n",
       "Name: tweet_text, Length: 600, dtype: object"
      ]
     },
     "execution_count": 23,
     "metadata": {},
     "output_type": "execute_result"
    }
   ],
   "source": [
    "processed_texts = df['tweet_text'].apply(lambda x: preprocess(x))\n",
    "processed_texts"
   ]
  },
  {
   "cell_type": "markdown",
   "metadata": {},
   "source": [
    "## Word2Vec Fine-tuning\n",
    "\n",
    "[Back to top](#word2vec-fine-tuning-project)"
   ]
  },
  {
   "cell_type": "code",
   "execution_count": 24,
   "metadata": {},
   "outputs": [],
   "source": [
    "from collections import defaultdict # For word_freq\n",
    "\n",
    "import multiprocessing\n",
    "from gensim.models import Word2Vec\n",
    "import logging\n",
    "from time import time  # To time our operations\n",
    "\n",
    "logging.basicConfig(format='%(asctime)s : %(levelname)s : %(message)s', level=logging.INFO)"
   ]
  },
  {
   "cell_type": "code",
   "execution_count": 25,
   "metadata": {},
   "outputs": [
    {
     "name": "stdout",
     "output_type": "stream",
     "text": [
      "Unique words: 368\n"
     ]
    }
   ],
   "source": [
    "word_freq = defaultdict(int)\n",
    "for sent in processed_texts:\n",
    "    for word in sent:\n",
    "        word_freq[word] += 1\n",
    "print(f\"Unique words: {len(word_freq)}\")"
   ]
  },
  {
   "cell_type": "code",
   "execution_count": 26,
   "metadata": {},
   "outputs": [
    {
     "name": "stdout",
     "output_type": "stream",
     "text": [
      "Most frequent words\n",
      "harris: 120\n",
      "trump: 120\n",
      "stein: 120\n",
      "kennedy: 120\n",
      "oliver: 120\n",
      "policy: 119\n",
      "new: 56\n"
     ]
    }
   ],
   "source": [
    "most_freq_words = sorted(word_freq, key=word_freq.get, reverse=True)[:7]\n",
    "\n",
    "print(f\"Most frequent words\")\n",
    "for word in most_freq_words:\n",
    "    print(f\"{word}: {word_freq[word]}\")"
   ]
  },
  {
   "cell_type": "code",
   "execution_count": 35,
   "metadata": {},
   "outputs": [
    {
     "name": "stderr",
     "output_type": "stream",
     "text": [
      "2024-12-28 18:00:01,361 : INFO : Word2Vec lifecycle event {'params': 'Word2Vec<vocab=0, vector_size=50, alpha=0.03>', 'datetime': '2024-12-28T18:00:01.361580', 'gensim': '4.3.3', 'python': '3.12.3 (main, Nov  6 2024, 18:32:19) [GCC 13.2.0]', 'platform': 'Linux-6.8.0-51-generic-x86_64-with-glibc2.39', 'event': 'created'}\n"
     ]
    }
   ],
   "source": [
    "# Configuring the model's parameters\n",
    "cores = multiprocessing.cpu_count()     # Count the number of cores\n",
    "\n",
    "vector_size = 50 # vector_size should increase as training data does [https://arxiv.org/pdf/1301.3781]\n",
    "\n",
    "w2v_model = Word2Vec(min_count=20,      # Ignores all words with total absolute frequency lower than this.\n",
    "                     window=4,          # Maximum distance between the current and predicted word within a sentence.\n",
    "                     vector_size=vector_size,   # Dimensionality of the feature vectors.\n",
    "                     sample=6e-5,       # The threshold for configuring which higher-frequency words are randomly downsampled.\n",
    "                     alpha=0.03,        # Initial learning rate.\n",
    "                     min_alpha=0.0007,  # Learning rate will linearly drop to min_alpha as training progresses.\n",
    "                     negative=20,       # If > 0, negative sampling will be used, the int for negative specifies how many \"noise words\" should be drown.\n",
    "                     workers=cores-1)   # Worker threads to train the model."
   ]
  },
  {
   "cell_type": "code",
   "execution_count": 36,
   "metadata": {},
   "outputs": [
    {
     "name": "stderr",
     "output_type": "stream",
     "text": [
      "2024-12-28 18:00:01,734 : INFO : collecting all words and their counts\n",
      "2024-12-28 18:00:01,735 : INFO : PROGRESS: at sentence #0, processed 0 words, keeping 0 word types\n",
      "2024-12-28 18:00:01,736 : INFO : PROGRESS: at sentence #30, processed 163 words, keeping 113 word types\n",
      "2024-12-28 18:00:01,736 : INFO : PROGRESS: at sentence #60, processed 334 words, keeping 194 word types\n",
      "2024-12-28 18:00:01,737 : INFO : PROGRESS: at sentence #90, processed 508 words, keeping 208 word types\n",
      "2024-12-28 18:00:01,737 : INFO : PROGRESS: at sentence #120, processed 671 words, keeping 242 word types\n",
      "2024-12-28 18:00:01,737 : INFO : PROGRESS: at sentence #150, processed 860 words, keeping 292 word types\n",
      "2024-12-28 18:00:01,738 : INFO : PROGRESS: at sentence #180, processed 1041 words, keeping 334 word types\n",
      "2024-12-28 18:00:01,738 : INFO : PROGRESS: at sentence #210, processed 1222 words, keeping 359 word types\n",
      "2024-12-28 18:00:01,738 : INFO : PROGRESS: at sentence #240, processed 1408 words, keeping 362 word types\n",
      "2024-12-28 18:00:01,738 : INFO : PROGRESS: at sentence #270, processed 1593 words, keeping 362 word types\n",
      "2024-12-28 18:00:01,739 : INFO : PROGRESS: at sentence #300, processed 1776 words, keeping 362 word types\n",
      "2024-12-28 18:00:01,739 : INFO : PROGRESS: at sentence #330, processed 1963 words, keeping 362 word types\n",
      "2024-12-28 18:00:01,739 : INFO : PROGRESS: at sentence #360, processed 2147 words, keeping 362 word types\n",
      "2024-12-28 18:00:01,739 : INFO : PROGRESS: at sentence #390, processed 2330 words, keeping 362 word types\n",
      "2024-12-28 18:00:01,739 : INFO : PROGRESS: at sentence #420, processed 2518 words, keeping 368 word types\n",
      "2024-12-28 18:00:01,740 : INFO : PROGRESS: at sentence #450, processed 2703 words, keeping 368 word types\n",
      "2024-12-28 18:00:01,740 : INFO : PROGRESS: at sentence #480, processed 2886 words, keeping 368 word types\n",
      "2024-12-28 18:00:01,740 : INFO : PROGRESS: at sentence #510, processed 3071 words, keeping 368 word types\n",
      "2024-12-28 18:00:01,740 : INFO : PROGRESS: at sentence #540, processed 3259 words, keeping 368 word types\n",
      "2024-12-28 18:00:01,740 : INFO : PROGRESS: at sentence #570, processed 3442 words, keeping 368 word types\n",
      "2024-12-28 18:00:01,740 : INFO : collected 368 word types from a corpus of 3627 raw words and 600 sentences\n",
      "2024-12-28 18:00:01,740 : INFO : Creating a fresh vocabulary\n",
      "2024-12-28 18:00:01,741 : INFO : Word2Vec lifecycle event {'msg': 'effective_min_count=20 retains 38 unique words (10.33% of original 368, drops 330)', 'datetime': '2024-12-28T18:00:01.741216', 'gensim': '4.3.3', 'python': '3.12.3 (main, Nov  6 2024, 18:32:19) [GCC 13.2.0]', 'platform': 'Linux-6.8.0-51-generic-x86_64-with-glibc2.39', 'event': 'prepare_vocab'}\n",
      "2024-12-28 18:00:01,741 : INFO : Word2Vec lifecycle event {'msg': 'effective_min_count=20 leaves 1692 word corpus (46.65% of original 3627, drops 1935)', 'datetime': '2024-12-28T18:00:01.741381', 'gensim': '4.3.3', 'python': '3.12.3 (main, Nov  6 2024, 18:32:19) [GCC 13.2.0]', 'platform': 'Linux-6.8.0-51-generic-x86_64-with-glibc2.39', 'event': 'prepare_vocab'}\n",
      "2024-12-28 18:00:01,741 : INFO : deleting the raw counts dictionary of 368 items\n",
      "2024-12-28 18:00:01,741 : INFO : sample=6e-05 downsamples 38 most-common words\n",
      "2024-12-28 18:00:01,741 : INFO : Word2Vec lifecycle event {'msg': 'downsampling leaves estimated 80.3146764851151 word corpus (4.7%% of prior 1692)', 'datetime': '2024-12-28T18:00:01.741912', 'gensim': '4.3.3', 'python': '3.12.3 (main, Nov  6 2024, 18:32:19) [GCC 13.2.0]', 'platform': 'Linux-6.8.0-51-generic-x86_64-with-glibc2.39', 'event': 'prepare_vocab'}\n",
      "2024-12-28 18:00:01,742 : INFO : estimated required memory for 38 words and 50 dimensions: 34200 bytes\n",
      "2024-12-28 18:00:01,742 : INFO : resetting layer weights\n",
      "2024-12-28 18:00:01,742 : INFO : Word2Vec lifecycle event {'update': False, 'trim_rule': 'None', 'datetime': '2024-12-28T18:00:01.742662', 'gensim': '4.3.3', 'python': '3.12.3 (main, Nov  6 2024, 18:32:19) [GCC 13.2.0]', 'platform': 'Linux-6.8.0-51-generic-x86_64-with-glibc2.39', 'event': 'build_vocab'}\n"
     ]
    },
    {
     "name": "stdout",
     "output_type": "stream",
     "text": [
      "Time to build vocab: 0.0 mins\n"
     ]
    }
   ],
   "source": [
    "# Building the vocabulary table\n",
    "t = time()\n",
    "\n",
    "w2v_model.build_vocab(processed_texts, progress_per=30)\n",
    "\n",
    "print('Time to build vocab: {} mins'.format(round((time() - t) / 60, 2)))"
   ]
  },
  {
   "cell_type": "code",
   "execution_count": 37,
   "metadata": {},
   "outputs": [
    {
     "name": "stderr",
     "output_type": "stream",
     "text": [
      "2024-12-28 18:00:02,697 : INFO : Word2Vec lifecycle event {'msg': 'training model with 19 workers on 38 vocabulary and 50 features, using sg=0 hs=0 sample=6e-05 negative=20 window=4 shrink_windows=True', 'datetime': '2024-12-28T18:00:02.697009', 'gensim': '4.3.3', 'python': '3.12.3 (main, Nov  6 2024, 18:32:19) [GCC 13.2.0]', 'platform': 'Linux-6.8.0-51-generic-x86_64-with-glibc2.39', 'event': 'train'}\n",
      "2024-12-28 18:00:02,701 : INFO : EPOCH 0: training on 3627 raw words (64 effective words) took 0.0s, 51530 effective words/s\n",
      "2024-12-28 18:00:02,705 : INFO : EPOCH 1: training on 3627 raw words (83 effective words) took 0.0s, 72247 effective words/s\n",
      "2024-12-28 18:00:02,710 : INFO : EPOCH 2: training on 3627 raw words (86 effective words) took 0.0s, 315357 effective words/s\n",
      "2024-12-28 18:00:02,710 : INFO : Word2Vec lifecycle event {'msg': 'training on 10881 raw words (233 effective words) took 0.0s, 18043 effective words/s', 'datetime': '2024-12-28T18:00:02.710726', 'gensim': '4.3.3', 'python': '3.12.3 (main, Nov  6 2024, 18:32:19) [GCC 13.2.0]', 'platform': 'Linux-6.8.0-51-generic-x86_64-with-glibc2.39', 'event': 'train'}\n"
     ]
    },
    {
     "name": "stdout",
     "output_type": "stream",
     "text": [
      "Time to train the model: 0.0 mins\n"
     ]
    }
   ],
   "source": [
    "# Training the model\n",
    "t = time()\n",
    "\n",
    "w2v_model.train(processed_texts, total_examples=w2v_model.corpus_count, epochs=3, report_delay=1)\n",
    "\n",
    "print('Time to train the model: {} mins'.format(round((time() - t) / 60, 2)))"
   ]
  },
  {
   "cell_type": "code",
   "execution_count": 38,
   "metadata": {},
   "outputs": [
    {
     "data": {
      "text/plain": [
       "[('leading', 0.37599775195121765),\n",
       " ('latest', 0.22983933985233307),\n",
       " ('energy', 0.22080369293689728),\n",
       " ('individual', 0.21913261711597443),\n",
       " ('libertarian', 0.19480209052562714),\n",
       " ('independent', 0.16086997091770172),\n",
       " ('solution', 0.1487838476896286),\n",
       " ('oliver', 0.12577636539936066),\n",
       " ('education', 0.11054280400276184),\n",
       " ('issue', 0.09323759377002716)]"
      ]
     },
     "execution_count": 38,
     "metadata": {},
     "output_type": "execute_result"
    }
   ],
   "source": [
    "# Words most associated with Trump\n",
    "w2v_model.wv.most_similar(positive=[\"trump\"])"
   ]
  },
  {
   "cell_type": "code",
   "execution_count": 39,
   "metadata": {},
   "outputs": [
    {
     "data": {
      "text/plain": [
       "[('solution', 0.269701212644577),\n",
       " ('education', 0.24052664637565613),\n",
       " ('advocate', 0.21081115305423737),\n",
       " ('diverse', 0.18617048859596252),\n",
       " ('healthcare', 0.16715364158153534),\n",
       " ('gaining', 0.16122256219387054),\n",
       " ('economic', 0.1497458964586258),\n",
       " ('among', 0.1463119387626648),\n",
       " ('initiative', 0.1323530226945877),\n",
       " ('stein', 0.12762555480003357)]"
      ]
     },
     "execution_count": 39,
     "metadata": {},
     "output_type": "execute_result"
    }
   ],
   "source": [
    "# Words most associated with Harris\n",
    "w2v_model.wv.most_similar(positive=[\"harris\"])"
   ]
  },
  {
   "cell_type": "code",
   "execution_count": 55,
   "metadata": {},
   "outputs": [
    {
     "name": "stderr",
     "output_type": "stream",
     "text": [
      "2024-12-28 18:03:44,818 : WARNING : vectors for words {'economy'} are not present in the model, ignoring these words\n"
     ]
    },
    {
     "name": "stdout",
     "output_type": "stream",
     "text": [
      "[Trump,Harris,Oliver] = harris\n",
      "[Oliver,Stein,Trump] = trump\n",
      "[Oliver,Stein,Trump] = education\n"
     ]
    }
   ],
   "source": [
    "# Odd one out\n",
    "print(f\"[Trump,Harris,Oliver] = {w2v_model.wv.doesnt_match(['trump', 'harris', 'oliver'])}\")\n",
    "print(f\"[Oliver,Stein,Trump] = {w2v_model.wv.doesnt_match(['oliver', 'stein', 'trump'])}\")\n",
    "print(f\"[Economy,Education,Tax] = {w2v_model.wv.doesnt_match(['economy', 'education', 'tax'])}\")"
   ]
  },
  {
   "cell_type": "code",
   "execution_count": 41,
   "metadata": {},
   "outputs": [
    {
     "data": {
      "text/plain": [
       "[('gaining', 0.288592129945755),\n",
       " ('freedom', 0.23809373378753662),\n",
       " ('support', 0.22510948777198792),\n",
       " ('initiative', 0.22240379452705383),\n",
       " ('healthcare', 0.19982220232486725),\n",
       " ('among', 0.19050924479961395),\n",
       " ('tax', 0.1694035679101944),\n",
       " ('advocate', 0.14407287538051605),\n",
       " ('diverse', 0.14275474846363068),\n",
       " ('economic', 0.11687185615301132)]"
      ]
     },
     "execution_count": 41,
     "metadata": {},
     "output_type": "execute_result"
    }
   ],
   "source": [
    "# Most common words when tweeting about Harris that are also not said when tweeting about Trump\n",
    "w2v_model.wv.most_similar(positive=[\"harris\"], negative=[\"trump\"], topn=10)"
   ]
  },
  {
   "cell_type": "code",
   "execution_count": 42,
   "metadata": {},
   "outputs": [
    {
     "data": {
      "text/plain": [
       "[('trade', 0.2792196273803711),\n",
       " ('leading', 0.25624996423721313),\n",
       " ('libertarian', 0.24009783565998077),\n",
       " ('oliver', 0.17464560270309448),\n",
       " ('city', 0.14476251602172852),\n",
       " ('energy', 0.14260192215442657),\n",
       " ('latest', 0.1223384216427803),\n",
       " ('independent', 0.10840028524398804),\n",
       " ('individual', 0.10302483290433884),\n",
       " ('new', 0.09602224826812744)]"
      ]
     },
     "execution_count": 42,
     "metadata": {},
     "output_type": "execute_result"
    }
   ],
   "source": [
    "# Most common words when tweeting about Trump that are also not said when tweeting about Harris\n",
    "w2v_model.wv.most_similar(positive=[\"trump\"], negative=[\"harris\"], topn=10)"
   ]
  },
  {
   "cell_type": "markdown",
   "metadata": {},
   "source": [
    "## Data Visualization\n",
    "\n",
    "How to view word embeddings using t-SNE (plotly)\n",
    "\n",
    "[Back to top](#word2vec-fine-tuning-project)"
   ]
  },
  {
   "cell_type": "code",
   "execution_count": 64,
   "metadata": {},
   "outputs": [],
   "source": [
    "from sklearn.manifold import TSNE\n",
    "import plotly.express as px\n",
    "import numpy as np"
   ]
  },
  {
   "cell_type": "code",
   "execution_count": 82,
   "metadata": {},
   "outputs": [],
   "source": [
    "def get_similar_words(word):\n",
    "    similar_words = w2v_model.wv.most_similar(positive=[word])\n",
    "    # Extract just the words (first element of each tuple)\n",
    "    words = [word for word, _ in similar_words]\n",
    "    return words"
   ]
  },
  {
   "cell_type": "code",
   "execution_count": 87,
   "metadata": {},
   "outputs": [],
   "source": [
    "def display_similar_embeddings(word):\n",
    "\n",
    "    similar_words = get_similar_words(word) + [word]\n",
    "    embeddings = np.array([w2v_model.wv[word] for word in similar_words])\n",
    "\n",
    "    tsne = TSNE(n_components=3, random_state=0, perplexity=2)\n",
    "    projections = tsne.fit_transform(embeddings)\n",
    "\n",
    "    df = pd.DataFrame(projections, columns=['x', 'y', 'z'])\n",
    "    df['word'] = similar_words  # Add the words as a column\n",
    "\n",
    "    fig = px.scatter_3d(\n",
    "        df, x='x', y='y', z='z',\n",
    "        text='word',  # Add words as hover text\n",
    "        title=\"Word2Vec Embedding Visualization\",\n",
    "        labels={'x': 'Dimension 1', 'y': 'Dimension 2', 'z': 'Dimension 3'}\n",
    "    )\n",
    "\n",
    "    fig.update_traces(marker=dict(size=8))\n",
    "\n",
    "    fig.show()"
   ]
  },
  {
   "cell_type": "code",
   "execution_count": 88,
   "metadata": {},
   "outputs": [
    {
     "data": {
      "application/vnd.plotly.v1+json": {
       "config": {
        "plotlyServerURL": "https://plot.ly"
       },
       "data": [
        {
         "hovertemplate": "Dimension 1=%{x}<br>Dimension 2=%{y}<br>Dimension 3=%{z}<br>word=%{text}<extra></extra>",
         "legendgroup": "",
         "marker": {
          "color": "#636efa",
          "size": 8,
          "symbol": "circle"
         },
         "mode": "markers+text",
         "name": "",
         "scene": "scene",
         "showlegend": false,
         "text": [
          "solution",
          "education",
          "advocate",
          "diverse",
          "healthcare",
          "gaining",
          "economic",
          "among",
          "initiative",
          "stein",
          "harris"
         ],
         "type": "scatter3d",
         "x": [
          -273.62322998046875,
          -135.90411376953125,
          -102.8463134765625,
          -107.93099212646484,
          55.702117919921875,
          92.27404022216797,
          114.43921661376953,
          118.22725677490234,
          85.2410659790039,
          -133.4025421142578,
          285.5017395019531
         ],
         "y": [
          118.12873077392578,
          -5.825989246368408,
          18.79521942138672,
          -176.17115783691406,
          -105.56586456298828,
          32.553794860839844,
          -221.7797393798828,
          -26.540285110473633,
          139.73202514648438,
          36.758995056152344,
          -88.62630462646484
         ],
         "z": [
          18.54161262512207,
          -63.62371063232422,
          -221.7470703125,
          55.589012145996094,
          312.8445129394531,
          -2.3128910064697266,
          -20.929636001586914,
          110.244873046875,
          -115.02594757080078,
          177.85385131835938,
          -83.7013168334961
         ]
        }
       ],
       "layout": {
        "legend": {
         "tracegroupgap": 0
        },
        "scene": {
         "domain": {
          "x": [
           0,
           1
          ],
          "y": [
           0,
           1
          ]
         },
         "xaxis": {
          "title": {
           "text": "Dimension 1"
          }
         },
         "yaxis": {
          "title": {
           "text": "Dimension 2"
          }
         },
         "zaxis": {
          "title": {
           "text": "Dimension 3"
          }
         }
        },
        "template": {
         "data": {
          "bar": [
           {
            "error_x": {
             "color": "#2a3f5f"
            },
            "error_y": {
             "color": "#2a3f5f"
            },
            "marker": {
             "line": {
              "color": "#E5ECF6",
              "width": 0.5
             },
             "pattern": {
              "fillmode": "overlay",
              "size": 10,
              "solidity": 0.2
             }
            },
            "type": "bar"
           }
          ],
          "barpolar": [
           {
            "marker": {
             "line": {
              "color": "#E5ECF6",
              "width": 0.5
             },
             "pattern": {
              "fillmode": "overlay",
              "size": 10,
              "solidity": 0.2
             }
            },
            "type": "barpolar"
           }
          ],
          "carpet": [
           {
            "aaxis": {
             "endlinecolor": "#2a3f5f",
             "gridcolor": "white",
             "linecolor": "white",
             "minorgridcolor": "white",
             "startlinecolor": "#2a3f5f"
            },
            "baxis": {
             "endlinecolor": "#2a3f5f",
             "gridcolor": "white",
             "linecolor": "white",
             "minorgridcolor": "white",
             "startlinecolor": "#2a3f5f"
            },
            "type": "carpet"
           }
          ],
          "choropleth": [
           {
            "colorbar": {
             "outlinewidth": 0,
             "ticks": ""
            },
            "type": "choropleth"
           }
          ],
          "contour": [
           {
            "colorbar": {
             "outlinewidth": 0,
             "ticks": ""
            },
            "colorscale": [
             [
              0,
              "#0d0887"
             ],
             [
              0.1111111111111111,
              "#46039f"
             ],
             [
              0.2222222222222222,
              "#7201a8"
             ],
             [
              0.3333333333333333,
              "#9c179e"
             ],
             [
              0.4444444444444444,
              "#bd3786"
             ],
             [
              0.5555555555555556,
              "#d8576b"
             ],
             [
              0.6666666666666666,
              "#ed7953"
             ],
             [
              0.7777777777777778,
              "#fb9f3a"
             ],
             [
              0.8888888888888888,
              "#fdca26"
             ],
             [
              1,
              "#f0f921"
             ]
            ],
            "type": "contour"
           }
          ],
          "contourcarpet": [
           {
            "colorbar": {
             "outlinewidth": 0,
             "ticks": ""
            },
            "type": "contourcarpet"
           }
          ],
          "heatmap": [
           {
            "colorbar": {
             "outlinewidth": 0,
             "ticks": ""
            },
            "colorscale": [
             [
              0,
              "#0d0887"
             ],
             [
              0.1111111111111111,
              "#46039f"
             ],
             [
              0.2222222222222222,
              "#7201a8"
             ],
             [
              0.3333333333333333,
              "#9c179e"
             ],
             [
              0.4444444444444444,
              "#bd3786"
             ],
             [
              0.5555555555555556,
              "#d8576b"
             ],
             [
              0.6666666666666666,
              "#ed7953"
             ],
             [
              0.7777777777777778,
              "#fb9f3a"
             ],
             [
              0.8888888888888888,
              "#fdca26"
             ],
             [
              1,
              "#f0f921"
             ]
            ],
            "type": "heatmap"
           }
          ],
          "heatmapgl": [
           {
            "colorbar": {
             "outlinewidth": 0,
             "ticks": ""
            },
            "colorscale": [
             [
              0,
              "#0d0887"
             ],
             [
              0.1111111111111111,
              "#46039f"
             ],
             [
              0.2222222222222222,
              "#7201a8"
             ],
             [
              0.3333333333333333,
              "#9c179e"
             ],
             [
              0.4444444444444444,
              "#bd3786"
             ],
             [
              0.5555555555555556,
              "#d8576b"
             ],
             [
              0.6666666666666666,
              "#ed7953"
             ],
             [
              0.7777777777777778,
              "#fb9f3a"
             ],
             [
              0.8888888888888888,
              "#fdca26"
             ],
             [
              1,
              "#f0f921"
             ]
            ],
            "type": "heatmapgl"
           }
          ],
          "histogram": [
           {
            "marker": {
             "pattern": {
              "fillmode": "overlay",
              "size": 10,
              "solidity": 0.2
             }
            },
            "type": "histogram"
           }
          ],
          "histogram2d": [
           {
            "colorbar": {
             "outlinewidth": 0,
             "ticks": ""
            },
            "colorscale": [
             [
              0,
              "#0d0887"
             ],
             [
              0.1111111111111111,
              "#46039f"
             ],
             [
              0.2222222222222222,
              "#7201a8"
             ],
             [
              0.3333333333333333,
              "#9c179e"
             ],
             [
              0.4444444444444444,
              "#bd3786"
             ],
             [
              0.5555555555555556,
              "#d8576b"
             ],
             [
              0.6666666666666666,
              "#ed7953"
             ],
             [
              0.7777777777777778,
              "#fb9f3a"
             ],
             [
              0.8888888888888888,
              "#fdca26"
             ],
             [
              1,
              "#f0f921"
             ]
            ],
            "type": "histogram2d"
           }
          ],
          "histogram2dcontour": [
           {
            "colorbar": {
             "outlinewidth": 0,
             "ticks": ""
            },
            "colorscale": [
             [
              0,
              "#0d0887"
             ],
             [
              0.1111111111111111,
              "#46039f"
             ],
             [
              0.2222222222222222,
              "#7201a8"
             ],
             [
              0.3333333333333333,
              "#9c179e"
             ],
             [
              0.4444444444444444,
              "#bd3786"
             ],
             [
              0.5555555555555556,
              "#d8576b"
             ],
             [
              0.6666666666666666,
              "#ed7953"
             ],
             [
              0.7777777777777778,
              "#fb9f3a"
             ],
             [
              0.8888888888888888,
              "#fdca26"
             ],
             [
              1,
              "#f0f921"
             ]
            ],
            "type": "histogram2dcontour"
           }
          ],
          "mesh3d": [
           {
            "colorbar": {
             "outlinewidth": 0,
             "ticks": ""
            },
            "type": "mesh3d"
           }
          ],
          "parcoords": [
           {
            "line": {
             "colorbar": {
              "outlinewidth": 0,
              "ticks": ""
             }
            },
            "type": "parcoords"
           }
          ],
          "pie": [
           {
            "automargin": true,
            "type": "pie"
           }
          ],
          "scatter": [
           {
            "fillpattern": {
             "fillmode": "overlay",
             "size": 10,
             "solidity": 0.2
            },
            "type": "scatter"
           }
          ],
          "scatter3d": [
           {
            "line": {
             "colorbar": {
              "outlinewidth": 0,
              "ticks": ""
             }
            },
            "marker": {
             "colorbar": {
              "outlinewidth": 0,
              "ticks": ""
             }
            },
            "type": "scatter3d"
           }
          ],
          "scattercarpet": [
           {
            "marker": {
             "colorbar": {
              "outlinewidth": 0,
              "ticks": ""
             }
            },
            "type": "scattercarpet"
           }
          ],
          "scattergeo": [
           {
            "marker": {
             "colorbar": {
              "outlinewidth": 0,
              "ticks": ""
             }
            },
            "type": "scattergeo"
           }
          ],
          "scattergl": [
           {
            "marker": {
             "colorbar": {
              "outlinewidth": 0,
              "ticks": ""
             }
            },
            "type": "scattergl"
           }
          ],
          "scattermapbox": [
           {
            "marker": {
             "colorbar": {
              "outlinewidth": 0,
              "ticks": ""
             }
            },
            "type": "scattermapbox"
           }
          ],
          "scatterpolar": [
           {
            "marker": {
             "colorbar": {
              "outlinewidth": 0,
              "ticks": ""
             }
            },
            "type": "scatterpolar"
           }
          ],
          "scatterpolargl": [
           {
            "marker": {
             "colorbar": {
              "outlinewidth": 0,
              "ticks": ""
             }
            },
            "type": "scatterpolargl"
           }
          ],
          "scatterternary": [
           {
            "marker": {
             "colorbar": {
              "outlinewidth": 0,
              "ticks": ""
             }
            },
            "type": "scatterternary"
           }
          ],
          "surface": [
           {
            "colorbar": {
             "outlinewidth": 0,
             "ticks": ""
            },
            "colorscale": [
             [
              0,
              "#0d0887"
             ],
             [
              0.1111111111111111,
              "#46039f"
             ],
             [
              0.2222222222222222,
              "#7201a8"
             ],
             [
              0.3333333333333333,
              "#9c179e"
             ],
             [
              0.4444444444444444,
              "#bd3786"
             ],
             [
              0.5555555555555556,
              "#d8576b"
             ],
             [
              0.6666666666666666,
              "#ed7953"
             ],
             [
              0.7777777777777778,
              "#fb9f3a"
             ],
             [
              0.8888888888888888,
              "#fdca26"
             ],
             [
              1,
              "#f0f921"
             ]
            ],
            "type": "surface"
           }
          ],
          "table": [
           {
            "cells": {
             "fill": {
              "color": "#EBF0F8"
             },
             "line": {
              "color": "white"
             }
            },
            "header": {
             "fill": {
              "color": "#C8D4E3"
             },
             "line": {
              "color": "white"
             }
            },
            "type": "table"
           }
          ]
         },
         "layout": {
          "annotationdefaults": {
           "arrowcolor": "#2a3f5f",
           "arrowhead": 0,
           "arrowwidth": 1
          },
          "autotypenumbers": "strict",
          "coloraxis": {
           "colorbar": {
            "outlinewidth": 0,
            "ticks": ""
           }
          },
          "colorscale": {
           "diverging": [
            [
             0,
             "#8e0152"
            ],
            [
             0.1,
             "#c51b7d"
            ],
            [
             0.2,
             "#de77ae"
            ],
            [
             0.3,
             "#f1b6da"
            ],
            [
             0.4,
             "#fde0ef"
            ],
            [
             0.5,
             "#f7f7f7"
            ],
            [
             0.6,
             "#e6f5d0"
            ],
            [
             0.7,
             "#b8e186"
            ],
            [
             0.8,
             "#7fbc41"
            ],
            [
             0.9,
             "#4d9221"
            ],
            [
             1,
             "#276419"
            ]
           ],
           "sequential": [
            [
             0,
             "#0d0887"
            ],
            [
             0.1111111111111111,
             "#46039f"
            ],
            [
             0.2222222222222222,
             "#7201a8"
            ],
            [
             0.3333333333333333,
             "#9c179e"
            ],
            [
             0.4444444444444444,
             "#bd3786"
            ],
            [
             0.5555555555555556,
             "#d8576b"
            ],
            [
             0.6666666666666666,
             "#ed7953"
            ],
            [
             0.7777777777777778,
             "#fb9f3a"
            ],
            [
             0.8888888888888888,
             "#fdca26"
            ],
            [
             1,
             "#f0f921"
            ]
           ],
           "sequentialminus": [
            [
             0,
             "#0d0887"
            ],
            [
             0.1111111111111111,
             "#46039f"
            ],
            [
             0.2222222222222222,
             "#7201a8"
            ],
            [
             0.3333333333333333,
             "#9c179e"
            ],
            [
             0.4444444444444444,
             "#bd3786"
            ],
            [
             0.5555555555555556,
             "#d8576b"
            ],
            [
             0.6666666666666666,
             "#ed7953"
            ],
            [
             0.7777777777777778,
             "#fb9f3a"
            ],
            [
             0.8888888888888888,
             "#fdca26"
            ],
            [
             1,
             "#f0f921"
            ]
           ]
          },
          "colorway": [
           "#636efa",
           "#EF553B",
           "#00cc96",
           "#ab63fa",
           "#FFA15A",
           "#19d3f3",
           "#FF6692",
           "#B6E880",
           "#FF97FF",
           "#FECB52"
          ],
          "font": {
           "color": "#2a3f5f"
          },
          "geo": {
           "bgcolor": "white",
           "lakecolor": "white",
           "landcolor": "#E5ECF6",
           "showlakes": true,
           "showland": true,
           "subunitcolor": "white"
          },
          "hoverlabel": {
           "align": "left"
          },
          "hovermode": "closest",
          "mapbox": {
           "style": "light"
          },
          "paper_bgcolor": "white",
          "plot_bgcolor": "#E5ECF6",
          "polar": {
           "angularaxis": {
            "gridcolor": "white",
            "linecolor": "white",
            "ticks": ""
           },
           "bgcolor": "#E5ECF6",
           "radialaxis": {
            "gridcolor": "white",
            "linecolor": "white",
            "ticks": ""
           }
          },
          "scene": {
           "xaxis": {
            "backgroundcolor": "#E5ECF6",
            "gridcolor": "white",
            "gridwidth": 2,
            "linecolor": "white",
            "showbackground": true,
            "ticks": "",
            "zerolinecolor": "white"
           },
           "yaxis": {
            "backgroundcolor": "#E5ECF6",
            "gridcolor": "white",
            "gridwidth": 2,
            "linecolor": "white",
            "showbackground": true,
            "ticks": "",
            "zerolinecolor": "white"
           },
           "zaxis": {
            "backgroundcolor": "#E5ECF6",
            "gridcolor": "white",
            "gridwidth": 2,
            "linecolor": "white",
            "showbackground": true,
            "ticks": "",
            "zerolinecolor": "white"
           }
          },
          "shapedefaults": {
           "line": {
            "color": "#2a3f5f"
           }
          },
          "ternary": {
           "aaxis": {
            "gridcolor": "white",
            "linecolor": "white",
            "ticks": ""
           },
           "baxis": {
            "gridcolor": "white",
            "linecolor": "white",
            "ticks": ""
           },
           "bgcolor": "#E5ECF6",
           "caxis": {
            "gridcolor": "white",
            "linecolor": "white",
            "ticks": ""
           }
          },
          "title": {
           "x": 0.05
          },
          "xaxis": {
           "automargin": true,
           "gridcolor": "white",
           "linecolor": "white",
           "ticks": "",
           "title": {
            "standoff": 15
           },
           "zerolinecolor": "white",
           "zerolinewidth": 2
          },
          "yaxis": {
           "automargin": true,
           "gridcolor": "white",
           "linecolor": "white",
           "ticks": "",
           "title": {
            "standoff": 15
           },
           "zerolinecolor": "white",
           "zerolinewidth": 2
          }
         }
        },
        "title": {
         "text": "Word2Vec Embedding Visualization"
        }
       }
      }
     },
     "metadata": {},
     "output_type": "display_data"
    }
   ],
   "source": [
    "display_similar_embeddings('harris')"
   ]
  },
  {
   "cell_type": "code",
   "execution_count": 89,
   "metadata": {},
   "outputs": [
    {
     "data": {
      "application/vnd.plotly.v1+json": {
       "config": {
        "plotlyServerURL": "https://plot.ly"
       },
       "data": [
        {
         "hovertemplate": "Dimension 1=%{x}<br>Dimension 2=%{y}<br>Dimension 3=%{z}<br>word=%{text}<extra></extra>",
         "legendgroup": "",
         "marker": {
          "color": "#636efa",
          "size": 8,
          "symbol": "circle"
         },
         "mode": "markers+text",
         "name": "",
         "scene": "scene",
         "showlegend": false,
         "text": [
          "leading",
          "latest",
          "energy",
          "individual",
          "libertarian",
          "independent",
          "solution",
          "oliver",
          "education",
          "issue",
          "trump"
         ],
         "type": "scatter3d",
         "x": [
          98.24462127685547,
          198.63821411132812,
          -50.848934173583984,
          77.89134979248047,
          -170.49256896972656,
          -127.23575592041016,
          -30.077896118164062,
          178.71910095214844,
          -209.74789428710938,
          -228.4365692138672,
          51.31529998779297
         ],
         "y": [
          -118.10128021240234,
          31.404882431030273,
          -81.17416381835938,
          198.30685424804688,
          -196.28494262695312,
          132.0175323486328,
          93.57893371582031,
          59.66172790527344,
          -134.05543518066406,
          48.38398361206055,
          16.991426467895508
         ],
         "z": [
          12.352612495422363,
          148.5105438232422,
          131.98501586914062,
          103.63296508789062,
          -301.0340881347656,
          80.03044128417969,
          -60.48086929321289,
          -53.81959533691406,
          3.0915188789367676,
          -142.47882080078125,
          58.35749053955078
         ]
        }
       ],
       "layout": {
        "legend": {
         "tracegroupgap": 0
        },
        "scene": {
         "domain": {
          "x": [
           0,
           1
          ],
          "y": [
           0,
           1
          ]
         },
         "xaxis": {
          "title": {
           "text": "Dimension 1"
          }
         },
         "yaxis": {
          "title": {
           "text": "Dimension 2"
          }
         },
         "zaxis": {
          "title": {
           "text": "Dimension 3"
          }
         }
        },
        "template": {
         "data": {
          "bar": [
           {
            "error_x": {
             "color": "#2a3f5f"
            },
            "error_y": {
             "color": "#2a3f5f"
            },
            "marker": {
             "line": {
              "color": "#E5ECF6",
              "width": 0.5
             },
             "pattern": {
              "fillmode": "overlay",
              "size": 10,
              "solidity": 0.2
             }
            },
            "type": "bar"
           }
          ],
          "barpolar": [
           {
            "marker": {
             "line": {
              "color": "#E5ECF6",
              "width": 0.5
             },
             "pattern": {
              "fillmode": "overlay",
              "size": 10,
              "solidity": 0.2
             }
            },
            "type": "barpolar"
           }
          ],
          "carpet": [
           {
            "aaxis": {
             "endlinecolor": "#2a3f5f",
             "gridcolor": "white",
             "linecolor": "white",
             "minorgridcolor": "white",
             "startlinecolor": "#2a3f5f"
            },
            "baxis": {
             "endlinecolor": "#2a3f5f",
             "gridcolor": "white",
             "linecolor": "white",
             "minorgridcolor": "white",
             "startlinecolor": "#2a3f5f"
            },
            "type": "carpet"
           }
          ],
          "choropleth": [
           {
            "colorbar": {
             "outlinewidth": 0,
             "ticks": ""
            },
            "type": "choropleth"
           }
          ],
          "contour": [
           {
            "colorbar": {
             "outlinewidth": 0,
             "ticks": ""
            },
            "colorscale": [
             [
              0,
              "#0d0887"
             ],
             [
              0.1111111111111111,
              "#46039f"
             ],
             [
              0.2222222222222222,
              "#7201a8"
             ],
             [
              0.3333333333333333,
              "#9c179e"
             ],
             [
              0.4444444444444444,
              "#bd3786"
             ],
             [
              0.5555555555555556,
              "#d8576b"
             ],
             [
              0.6666666666666666,
              "#ed7953"
             ],
             [
              0.7777777777777778,
              "#fb9f3a"
             ],
             [
              0.8888888888888888,
              "#fdca26"
             ],
             [
              1,
              "#f0f921"
             ]
            ],
            "type": "contour"
           }
          ],
          "contourcarpet": [
           {
            "colorbar": {
             "outlinewidth": 0,
             "ticks": ""
            },
            "type": "contourcarpet"
           }
          ],
          "heatmap": [
           {
            "colorbar": {
             "outlinewidth": 0,
             "ticks": ""
            },
            "colorscale": [
             [
              0,
              "#0d0887"
             ],
             [
              0.1111111111111111,
              "#46039f"
             ],
             [
              0.2222222222222222,
              "#7201a8"
             ],
             [
              0.3333333333333333,
              "#9c179e"
             ],
             [
              0.4444444444444444,
              "#bd3786"
             ],
             [
              0.5555555555555556,
              "#d8576b"
             ],
             [
              0.6666666666666666,
              "#ed7953"
             ],
             [
              0.7777777777777778,
              "#fb9f3a"
             ],
             [
              0.8888888888888888,
              "#fdca26"
             ],
             [
              1,
              "#f0f921"
             ]
            ],
            "type": "heatmap"
           }
          ],
          "heatmapgl": [
           {
            "colorbar": {
             "outlinewidth": 0,
             "ticks": ""
            },
            "colorscale": [
             [
              0,
              "#0d0887"
             ],
             [
              0.1111111111111111,
              "#46039f"
             ],
             [
              0.2222222222222222,
              "#7201a8"
             ],
             [
              0.3333333333333333,
              "#9c179e"
             ],
             [
              0.4444444444444444,
              "#bd3786"
             ],
             [
              0.5555555555555556,
              "#d8576b"
             ],
             [
              0.6666666666666666,
              "#ed7953"
             ],
             [
              0.7777777777777778,
              "#fb9f3a"
             ],
             [
              0.8888888888888888,
              "#fdca26"
             ],
             [
              1,
              "#f0f921"
             ]
            ],
            "type": "heatmapgl"
           }
          ],
          "histogram": [
           {
            "marker": {
             "pattern": {
              "fillmode": "overlay",
              "size": 10,
              "solidity": 0.2
             }
            },
            "type": "histogram"
           }
          ],
          "histogram2d": [
           {
            "colorbar": {
             "outlinewidth": 0,
             "ticks": ""
            },
            "colorscale": [
             [
              0,
              "#0d0887"
             ],
             [
              0.1111111111111111,
              "#46039f"
             ],
             [
              0.2222222222222222,
              "#7201a8"
             ],
             [
              0.3333333333333333,
              "#9c179e"
             ],
             [
              0.4444444444444444,
              "#bd3786"
             ],
             [
              0.5555555555555556,
              "#d8576b"
             ],
             [
              0.6666666666666666,
              "#ed7953"
             ],
             [
              0.7777777777777778,
              "#fb9f3a"
             ],
             [
              0.8888888888888888,
              "#fdca26"
             ],
             [
              1,
              "#f0f921"
             ]
            ],
            "type": "histogram2d"
           }
          ],
          "histogram2dcontour": [
           {
            "colorbar": {
             "outlinewidth": 0,
             "ticks": ""
            },
            "colorscale": [
             [
              0,
              "#0d0887"
             ],
             [
              0.1111111111111111,
              "#46039f"
             ],
             [
              0.2222222222222222,
              "#7201a8"
             ],
             [
              0.3333333333333333,
              "#9c179e"
             ],
             [
              0.4444444444444444,
              "#bd3786"
             ],
             [
              0.5555555555555556,
              "#d8576b"
             ],
             [
              0.6666666666666666,
              "#ed7953"
             ],
             [
              0.7777777777777778,
              "#fb9f3a"
             ],
             [
              0.8888888888888888,
              "#fdca26"
             ],
             [
              1,
              "#f0f921"
             ]
            ],
            "type": "histogram2dcontour"
           }
          ],
          "mesh3d": [
           {
            "colorbar": {
             "outlinewidth": 0,
             "ticks": ""
            },
            "type": "mesh3d"
           }
          ],
          "parcoords": [
           {
            "line": {
             "colorbar": {
              "outlinewidth": 0,
              "ticks": ""
             }
            },
            "type": "parcoords"
           }
          ],
          "pie": [
           {
            "automargin": true,
            "type": "pie"
           }
          ],
          "scatter": [
           {
            "fillpattern": {
             "fillmode": "overlay",
             "size": 10,
             "solidity": 0.2
            },
            "type": "scatter"
           }
          ],
          "scatter3d": [
           {
            "line": {
             "colorbar": {
              "outlinewidth": 0,
              "ticks": ""
             }
            },
            "marker": {
             "colorbar": {
              "outlinewidth": 0,
              "ticks": ""
             }
            },
            "type": "scatter3d"
           }
          ],
          "scattercarpet": [
           {
            "marker": {
             "colorbar": {
              "outlinewidth": 0,
              "ticks": ""
             }
            },
            "type": "scattercarpet"
           }
          ],
          "scattergeo": [
           {
            "marker": {
             "colorbar": {
              "outlinewidth": 0,
              "ticks": ""
             }
            },
            "type": "scattergeo"
           }
          ],
          "scattergl": [
           {
            "marker": {
             "colorbar": {
              "outlinewidth": 0,
              "ticks": ""
             }
            },
            "type": "scattergl"
           }
          ],
          "scattermapbox": [
           {
            "marker": {
             "colorbar": {
              "outlinewidth": 0,
              "ticks": ""
             }
            },
            "type": "scattermapbox"
           }
          ],
          "scatterpolar": [
           {
            "marker": {
             "colorbar": {
              "outlinewidth": 0,
              "ticks": ""
             }
            },
            "type": "scatterpolar"
           }
          ],
          "scatterpolargl": [
           {
            "marker": {
             "colorbar": {
              "outlinewidth": 0,
              "ticks": ""
             }
            },
            "type": "scatterpolargl"
           }
          ],
          "scatterternary": [
           {
            "marker": {
             "colorbar": {
              "outlinewidth": 0,
              "ticks": ""
             }
            },
            "type": "scatterternary"
           }
          ],
          "surface": [
           {
            "colorbar": {
             "outlinewidth": 0,
             "ticks": ""
            },
            "colorscale": [
             [
              0,
              "#0d0887"
             ],
             [
              0.1111111111111111,
              "#46039f"
             ],
             [
              0.2222222222222222,
              "#7201a8"
             ],
             [
              0.3333333333333333,
              "#9c179e"
             ],
             [
              0.4444444444444444,
              "#bd3786"
             ],
             [
              0.5555555555555556,
              "#d8576b"
             ],
             [
              0.6666666666666666,
              "#ed7953"
             ],
             [
              0.7777777777777778,
              "#fb9f3a"
             ],
             [
              0.8888888888888888,
              "#fdca26"
             ],
             [
              1,
              "#f0f921"
             ]
            ],
            "type": "surface"
           }
          ],
          "table": [
           {
            "cells": {
             "fill": {
              "color": "#EBF0F8"
             },
             "line": {
              "color": "white"
             }
            },
            "header": {
             "fill": {
              "color": "#C8D4E3"
             },
             "line": {
              "color": "white"
             }
            },
            "type": "table"
           }
          ]
         },
         "layout": {
          "annotationdefaults": {
           "arrowcolor": "#2a3f5f",
           "arrowhead": 0,
           "arrowwidth": 1
          },
          "autotypenumbers": "strict",
          "coloraxis": {
           "colorbar": {
            "outlinewidth": 0,
            "ticks": ""
           }
          },
          "colorscale": {
           "diverging": [
            [
             0,
             "#8e0152"
            ],
            [
             0.1,
             "#c51b7d"
            ],
            [
             0.2,
             "#de77ae"
            ],
            [
             0.3,
             "#f1b6da"
            ],
            [
             0.4,
             "#fde0ef"
            ],
            [
             0.5,
             "#f7f7f7"
            ],
            [
             0.6,
             "#e6f5d0"
            ],
            [
             0.7,
             "#b8e186"
            ],
            [
             0.8,
             "#7fbc41"
            ],
            [
             0.9,
             "#4d9221"
            ],
            [
             1,
             "#276419"
            ]
           ],
           "sequential": [
            [
             0,
             "#0d0887"
            ],
            [
             0.1111111111111111,
             "#46039f"
            ],
            [
             0.2222222222222222,
             "#7201a8"
            ],
            [
             0.3333333333333333,
             "#9c179e"
            ],
            [
             0.4444444444444444,
             "#bd3786"
            ],
            [
             0.5555555555555556,
             "#d8576b"
            ],
            [
             0.6666666666666666,
             "#ed7953"
            ],
            [
             0.7777777777777778,
             "#fb9f3a"
            ],
            [
             0.8888888888888888,
             "#fdca26"
            ],
            [
             1,
             "#f0f921"
            ]
           ],
           "sequentialminus": [
            [
             0,
             "#0d0887"
            ],
            [
             0.1111111111111111,
             "#46039f"
            ],
            [
             0.2222222222222222,
             "#7201a8"
            ],
            [
             0.3333333333333333,
             "#9c179e"
            ],
            [
             0.4444444444444444,
             "#bd3786"
            ],
            [
             0.5555555555555556,
             "#d8576b"
            ],
            [
             0.6666666666666666,
             "#ed7953"
            ],
            [
             0.7777777777777778,
             "#fb9f3a"
            ],
            [
             0.8888888888888888,
             "#fdca26"
            ],
            [
             1,
             "#f0f921"
            ]
           ]
          },
          "colorway": [
           "#636efa",
           "#EF553B",
           "#00cc96",
           "#ab63fa",
           "#FFA15A",
           "#19d3f3",
           "#FF6692",
           "#B6E880",
           "#FF97FF",
           "#FECB52"
          ],
          "font": {
           "color": "#2a3f5f"
          },
          "geo": {
           "bgcolor": "white",
           "lakecolor": "white",
           "landcolor": "#E5ECF6",
           "showlakes": true,
           "showland": true,
           "subunitcolor": "white"
          },
          "hoverlabel": {
           "align": "left"
          },
          "hovermode": "closest",
          "mapbox": {
           "style": "light"
          },
          "paper_bgcolor": "white",
          "plot_bgcolor": "#E5ECF6",
          "polar": {
           "angularaxis": {
            "gridcolor": "white",
            "linecolor": "white",
            "ticks": ""
           },
           "bgcolor": "#E5ECF6",
           "radialaxis": {
            "gridcolor": "white",
            "linecolor": "white",
            "ticks": ""
           }
          },
          "scene": {
           "xaxis": {
            "backgroundcolor": "#E5ECF6",
            "gridcolor": "white",
            "gridwidth": 2,
            "linecolor": "white",
            "showbackground": true,
            "ticks": "",
            "zerolinecolor": "white"
           },
           "yaxis": {
            "backgroundcolor": "#E5ECF6",
            "gridcolor": "white",
            "gridwidth": 2,
            "linecolor": "white",
            "showbackground": true,
            "ticks": "",
            "zerolinecolor": "white"
           },
           "zaxis": {
            "backgroundcolor": "#E5ECF6",
            "gridcolor": "white",
            "gridwidth": 2,
            "linecolor": "white",
            "showbackground": true,
            "ticks": "",
            "zerolinecolor": "white"
           }
          },
          "shapedefaults": {
           "line": {
            "color": "#2a3f5f"
           }
          },
          "ternary": {
           "aaxis": {
            "gridcolor": "white",
            "linecolor": "white",
            "ticks": ""
           },
           "baxis": {
            "gridcolor": "white",
            "linecolor": "white",
            "ticks": ""
           },
           "bgcolor": "#E5ECF6",
           "caxis": {
            "gridcolor": "white",
            "linecolor": "white",
            "ticks": ""
           }
          },
          "title": {
           "x": 0.05
          },
          "xaxis": {
           "automargin": true,
           "gridcolor": "white",
           "linecolor": "white",
           "ticks": "",
           "title": {
            "standoff": 15
           },
           "zerolinecolor": "white",
           "zerolinewidth": 2
          },
          "yaxis": {
           "automargin": true,
           "gridcolor": "white",
           "linecolor": "white",
           "ticks": "",
           "title": {
            "standoff": 15
           },
           "zerolinecolor": "white",
           "zerolinewidth": 2
          }
         }
        },
        "title": {
         "text": "Word2Vec Embedding Visualization"
        }
       }
      }
     },
     "metadata": {},
     "output_type": "display_data"
    }
   ],
   "source": [
    "display_similar_embeddings('trump')"
   ]
  },
  {
   "cell_type": "code",
   "execution_count": 91,
   "metadata": {},
   "outputs": [
    {
     "data": {
      "application/vnd.plotly.v1+json": {
       "config": {
        "plotlyServerURL": "https://plot.ly"
       },
       "data": [
        {
         "hovertemplate": "Dimension 1=%{x}<br>Dimension 2=%{y}<br>Dimension 3=%{z}<br>word=%{text}<extra></extra>",
         "legendgroup": "",
         "marker": {
          "color": "#636efa",
          "size": 8,
          "symbol": "circle"
         },
         "mode": "markers+text",
         "name": "",
         "scene": "scene",
         "showlegend": false,
         "text": [
          "advocate",
          "diverse",
          "latest",
          "policy",
          "economic",
          "stance",
          "harris",
          "stein",
          "climate",
          "freedom",
          "healthcare"
         ],
         "type": "scatter3d",
         "x": [
          6.9046101570129395,
          -24.661827087402344,
          -187.36875915527344,
          119.89938354492188,
          -91.0043716430664,
          -3.0241332054138184,
          -20.8016300201416,
          75.19798278808594,
          5.218593597412109,
          103.98738861083984,
          -37.52248764038086
         ],
         "y": [
          -52.42491149902344,
          29.083723068237305,
          87.06590270996094,
          56.36564254760742,
          -25.070829391479492,
          96.9715576171875,
          -65.42877960205078,
          -17.622024536132812,
          -41.87454605102539,
          -100.00560760498047,
          -111.64615631103516
         ],
         "z": [
          80.2693099975586,
          96.20641326904297,
          -8.193836212158203,
          40.70105743408203,
          -57.680450439453125,
          -7.051519393920898,
          190.2397918701172,
          -122.82421112060547,
          -193.8433837890625,
          85.65833282470703,
          35.702125549316406
         ]
        }
       ],
       "layout": {
        "legend": {
         "tracegroupgap": 0
        },
        "scene": {
         "domain": {
          "x": [
           0,
           1
          ],
          "y": [
           0,
           1
          ]
         },
         "xaxis": {
          "title": {
           "text": "Dimension 1"
          }
         },
         "yaxis": {
          "title": {
           "text": "Dimension 2"
          }
         },
         "zaxis": {
          "title": {
           "text": "Dimension 3"
          }
         }
        },
        "template": {
         "data": {
          "bar": [
           {
            "error_x": {
             "color": "#2a3f5f"
            },
            "error_y": {
             "color": "#2a3f5f"
            },
            "marker": {
             "line": {
              "color": "#E5ECF6",
              "width": 0.5
             },
             "pattern": {
              "fillmode": "overlay",
              "size": 10,
              "solidity": 0.2
             }
            },
            "type": "bar"
           }
          ],
          "barpolar": [
           {
            "marker": {
             "line": {
              "color": "#E5ECF6",
              "width": 0.5
             },
             "pattern": {
              "fillmode": "overlay",
              "size": 10,
              "solidity": 0.2
             }
            },
            "type": "barpolar"
           }
          ],
          "carpet": [
           {
            "aaxis": {
             "endlinecolor": "#2a3f5f",
             "gridcolor": "white",
             "linecolor": "white",
             "minorgridcolor": "white",
             "startlinecolor": "#2a3f5f"
            },
            "baxis": {
             "endlinecolor": "#2a3f5f",
             "gridcolor": "white",
             "linecolor": "white",
             "minorgridcolor": "white",
             "startlinecolor": "#2a3f5f"
            },
            "type": "carpet"
           }
          ],
          "choropleth": [
           {
            "colorbar": {
             "outlinewidth": 0,
             "ticks": ""
            },
            "type": "choropleth"
           }
          ],
          "contour": [
           {
            "colorbar": {
             "outlinewidth": 0,
             "ticks": ""
            },
            "colorscale": [
             [
              0,
              "#0d0887"
             ],
             [
              0.1111111111111111,
              "#46039f"
             ],
             [
              0.2222222222222222,
              "#7201a8"
             ],
             [
              0.3333333333333333,
              "#9c179e"
             ],
             [
              0.4444444444444444,
              "#bd3786"
             ],
             [
              0.5555555555555556,
              "#d8576b"
             ],
             [
              0.6666666666666666,
              "#ed7953"
             ],
             [
              0.7777777777777778,
              "#fb9f3a"
             ],
             [
              0.8888888888888888,
              "#fdca26"
             ],
             [
              1,
              "#f0f921"
             ]
            ],
            "type": "contour"
           }
          ],
          "contourcarpet": [
           {
            "colorbar": {
             "outlinewidth": 0,
             "ticks": ""
            },
            "type": "contourcarpet"
           }
          ],
          "heatmap": [
           {
            "colorbar": {
             "outlinewidth": 0,
             "ticks": ""
            },
            "colorscale": [
             [
              0,
              "#0d0887"
             ],
             [
              0.1111111111111111,
              "#46039f"
             ],
             [
              0.2222222222222222,
              "#7201a8"
             ],
             [
              0.3333333333333333,
              "#9c179e"
             ],
             [
              0.4444444444444444,
              "#bd3786"
             ],
             [
              0.5555555555555556,
              "#d8576b"
             ],
             [
              0.6666666666666666,
              "#ed7953"
             ],
             [
              0.7777777777777778,
              "#fb9f3a"
             ],
             [
              0.8888888888888888,
              "#fdca26"
             ],
             [
              1,
              "#f0f921"
             ]
            ],
            "type": "heatmap"
           }
          ],
          "heatmapgl": [
           {
            "colorbar": {
             "outlinewidth": 0,
             "ticks": ""
            },
            "colorscale": [
             [
              0,
              "#0d0887"
             ],
             [
              0.1111111111111111,
              "#46039f"
             ],
             [
              0.2222222222222222,
              "#7201a8"
             ],
             [
              0.3333333333333333,
              "#9c179e"
             ],
             [
              0.4444444444444444,
              "#bd3786"
             ],
             [
              0.5555555555555556,
              "#d8576b"
             ],
             [
              0.6666666666666666,
              "#ed7953"
             ],
             [
              0.7777777777777778,
              "#fb9f3a"
             ],
             [
              0.8888888888888888,
              "#fdca26"
             ],
             [
              1,
              "#f0f921"
             ]
            ],
            "type": "heatmapgl"
           }
          ],
          "histogram": [
           {
            "marker": {
             "pattern": {
              "fillmode": "overlay",
              "size": 10,
              "solidity": 0.2
             }
            },
            "type": "histogram"
           }
          ],
          "histogram2d": [
           {
            "colorbar": {
             "outlinewidth": 0,
             "ticks": ""
            },
            "colorscale": [
             [
              0,
              "#0d0887"
             ],
             [
              0.1111111111111111,
              "#46039f"
             ],
             [
              0.2222222222222222,
              "#7201a8"
             ],
             [
              0.3333333333333333,
              "#9c179e"
             ],
             [
              0.4444444444444444,
              "#bd3786"
             ],
             [
              0.5555555555555556,
              "#d8576b"
             ],
             [
              0.6666666666666666,
              "#ed7953"
             ],
             [
              0.7777777777777778,
              "#fb9f3a"
             ],
             [
              0.8888888888888888,
              "#fdca26"
             ],
             [
              1,
              "#f0f921"
             ]
            ],
            "type": "histogram2d"
           }
          ],
          "histogram2dcontour": [
           {
            "colorbar": {
             "outlinewidth": 0,
             "ticks": ""
            },
            "colorscale": [
             [
              0,
              "#0d0887"
             ],
             [
              0.1111111111111111,
              "#46039f"
             ],
             [
              0.2222222222222222,
              "#7201a8"
             ],
             [
              0.3333333333333333,
              "#9c179e"
             ],
             [
              0.4444444444444444,
              "#bd3786"
             ],
             [
              0.5555555555555556,
              "#d8576b"
             ],
             [
              0.6666666666666666,
              "#ed7953"
             ],
             [
              0.7777777777777778,
              "#fb9f3a"
             ],
             [
              0.8888888888888888,
              "#fdca26"
             ],
             [
              1,
              "#f0f921"
             ]
            ],
            "type": "histogram2dcontour"
           }
          ],
          "mesh3d": [
           {
            "colorbar": {
             "outlinewidth": 0,
             "ticks": ""
            },
            "type": "mesh3d"
           }
          ],
          "parcoords": [
           {
            "line": {
             "colorbar": {
              "outlinewidth": 0,
              "ticks": ""
             }
            },
            "type": "parcoords"
           }
          ],
          "pie": [
           {
            "automargin": true,
            "type": "pie"
           }
          ],
          "scatter": [
           {
            "fillpattern": {
             "fillmode": "overlay",
             "size": 10,
             "solidity": 0.2
            },
            "type": "scatter"
           }
          ],
          "scatter3d": [
           {
            "line": {
             "colorbar": {
              "outlinewidth": 0,
              "ticks": ""
             }
            },
            "marker": {
             "colorbar": {
              "outlinewidth": 0,
              "ticks": ""
             }
            },
            "type": "scatter3d"
           }
          ],
          "scattercarpet": [
           {
            "marker": {
             "colorbar": {
              "outlinewidth": 0,
              "ticks": ""
             }
            },
            "type": "scattercarpet"
           }
          ],
          "scattergeo": [
           {
            "marker": {
             "colorbar": {
              "outlinewidth": 0,
              "ticks": ""
             }
            },
            "type": "scattergeo"
           }
          ],
          "scattergl": [
           {
            "marker": {
             "colorbar": {
              "outlinewidth": 0,
              "ticks": ""
             }
            },
            "type": "scattergl"
           }
          ],
          "scattermapbox": [
           {
            "marker": {
             "colorbar": {
              "outlinewidth": 0,
              "ticks": ""
             }
            },
            "type": "scattermapbox"
           }
          ],
          "scatterpolar": [
           {
            "marker": {
             "colorbar": {
              "outlinewidth": 0,
              "ticks": ""
             }
            },
            "type": "scatterpolar"
           }
          ],
          "scatterpolargl": [
           {
            "marker": {
             "colorbar": {
              "outlinewidth": 0,
              "ticks": ""
             }
            },
            "type": "scatterpolargl"
           }
          ],
          "scatterternary": [
           {
            "marker": {
             "colorbar": {
              "outlinewidth": 0,
              "ticks": ""
             }
            },
            "type": "scatterternary"
           }
          ],
          "surface": [
           {
            "colorbar": {
             "outlinewidth": 0,
             "ticks": ""
            },
            "colorscale": [
             [
              0,
              "#0d0887"
             ],
             [
              0.1111111111111111,
              "#46039f"
             ],
             [
              0.2222222222222222,
              "#7201a8"
             ],
             [
              0.3333333333333333,
              "#9c179e"
             ],
             [
              0.4444444444444444,
              "#bd3786"
             ],
             [
              0.5555555555555556,
              "#d8576b"
             ],
             [
              0.6666666666666666,
              "#ed7953"
             ],
             [
              0.7777777777777778,
              "#fb9f3a"
             ],
             [
              0.8888888888888888,
              "#fdca26"
             ],
             [
              1,
              "#f0f921"
             ]
            ],
            "type": "surface"
           }
          ],
          "table": [
           {
            "cells": {
             "fill": {
              "color": "#EBF0F8"
             },
             "line": {
              "color": "white"
             }
            },
            "header": {
             "fill": {
              "color": "#C8D4E3"
             },
             "line": {
              "color": "white"
             }
            },
            "type": "table"
           }
          ]
         },
         "layout": {
          "annotationdefaults": {
           "arrowcolor": "#2a3f5f",
           "arrowhead": 0,
           "arrowwidth": 1
          },
          "autotypenumbers": "strict",
          "coloraxis": {
           "colorbar": {
            "outlinewidth": 0,
            "ticks": ""
           }
          },
          "colorscale": {
           "diverging": [
            [
             0,
             "#8e0152"
            ],
            [
             0.1,
             "#c51b7d"
            ],
            [
             0.2,
             "#de77ae"
            ],
            [
             0.3,
             "#f1b6da"
            ],
            [
             0.4,
             "#fde0ef"
            ],
            [
             0.5,
             "#f7f7f7"
            ],
            [
             0.6,
             "#e6f5d0"
            ],
            [
             0.7,
             "#b8e186"
            ],
            [
             0.8,
             "#7fbc41"
            ],
            [
             0.9,
             "#4d9221"
            ],
            [
             1,
             "#276419"
            ]
           ],
           "sequential": [
            [
             0,
             "#0d0887"
            ],
            [
             0.1111111111111111,
             "#46039f"
            ],
            [
             0.2222222222222222,
             "#7201a8"
            ],
            [
             0.3333333333333333,
             "#9c179e"
            ],
            [
             0.4444444444444444,
             "#bd3786"
            ],
            [
             0.5555555555555556,
             "#d8576b"
            ],
            [
             0.6666666666666666,
             "#ed7953"
            ],
            [
             0.7777777777777778,
             "#fb9f3a"
            ],
            [
             0.8888888888888888,
             "#fdca26"
            ],
            [
             1,
             "#f0f921"
            ]
           ],
           "sequentialminus": [
            [
             0,
             "#0d0887"
            ],
            [
             0.1111111111111111,
             "#46039f"
            ],
            [
             0.2222222222222222,
             "#7201a8"
            ],
            [
             0.3333333333333333,
             "#9c179e"
            ],
            [
             0.4444444444444444,
             "#bd3786"
            ],
            [
             0.5555555555555556,
             "#d8576b"
            ],
            [
             0.6666666666666666,
             "#ed7953"
            ],
            [
             0.7777777777777778,
             "#fb9f3a"
            ],
            [
             0.8888888888888888,
             "#fdca26"
            ],
            [
             1,
             "#f0f921"
            ]
           ]
          },
          "colorway": [
           "#636efa",
           "#EF553B",
           "#00cc96",
           "#ab63fa",
           "#FFA15A",
           "#19d3f3",
           "#FF6692",
           "#B6E880",
           "#FF97FF",
           "#FECB52"
          ],
          "font": {
           "color": "#2a3f5f"
          },
          "geo": {
           "bgcolor": "white",
           "lakecolor": "white",
           "landcolor": "#E5ECF6",
           "showlakes": true,
           "showland": true,
           "subunitcolor": "white"
          },
          "hoverlabel": {
           "align": "left"
          },
          "hovermode": "closest",
          "mapbox": {
           "style": "light"
          },
          "paper_bgcolor": "white",
          "plot_bgcolor": "#E5ECF6",
          "polar": {
           "angularaxis": {
            "gridcolor": "white",
            "linecolor": "white",
            "ticks": ""
           },
           "bgcolor": "#E5ECF6",
           "radialaxis": {
            "gridcolor": "white",
            "linecolor": "white",
            "ticks": ""
           }
          },
          "scene": {
           "xaxis": {
            "backgroundcolor": "#E5ECF6",
            "gridcolor": "white",
            "gridwidth": 2,
            "linecolor": "white",
            "showbackground": true,
            "ticks": "",
            "zerolinecolor": "white"
           },
           "yaxis": {
            "backgroundcolor": "#E5ECF6",
            "gridcolor": "white",
            "gridwidth": 2,
            "linecolor": "white",
            "showbackground": true,
            "ticks": "",
            "zerolinecolor": "white"
           },
           "zaxis": {
            "backgroundcolor": "#E5ECF6",
            "gridcolor": "white",
            "gridwidth": 2,
            "linecolor": "white",
            "showbackground": true,
            "ticks": "",
            "zerolinecolor": "white"
           }
          },
          "shapedefaults": {
           "line": {
            "color": "#2a3f5f"
           }
          },
          "ternary": {
           "aaxis": {
            "gridcolor": "white",
            "linecolor": "white",
            "ticks": ""
           },
           "baxis": {
            "gridcolor": "white",
            "linecolor": "white",
            "ticks": ""
           },
           "bgcolor": "#E5ECF6",
           "caxis": {
            "gridcolor": "white",
            "linecolor": "white",
            "ticks": ""
           }
          },
          "title": {
           "x": 0.05
          },
          "xaxis": {
           "automargin": true,
           "gridcolor": "white",
           "linecolor": "white",
           "ticks": "",
           "title": {
            "standoff": 15
           },
           "zerolinecolor": "white",
           "zerolinewidth": 2
          },
          "yaxis": {
           "automargin": true,
           "gridcolor": "white",
           "linecolor": "white",
           "ticks": "",
           "title": {
            "standoff": 15
           },
           "zerolinecolor": "white",
           "zerolinewidth": 2
          }
         }
        },
        "title": {
         "text": "Word2Vec Embedding Visualization"
        }
       }
      }
     },
     "metadata": {},
     "output_type": "display_data"
    }
   ],
   "source": [
    "display_similar_embeddings('healthcare')"
   ]
  },
  {
   "cell_type": "code",
   "execution_count": null,
   "metadata": {},
   "outputs": [],
   "source": [
    "# Other example embeddings\n",
    "# display_similar_embeddings('oliver')\n",
    "# display_similar_embeddings('tax')\n",
    "# display_similar_embeddings('diverse')"
   ]
  }
 ],
 "metadata": {
  "kernelspec": {
   "display_name": ".venv",
   "language": "python",
   "name": "python3"
  },
  "language_info": {
   "codemirror_mode": {
    "name": "ipython",
    "version": 3
   },
   "file_extension": ".py",
   "mimetype": "text/x-python",
   "name": "python",
   "nbconvert_exporter": "python",
   "pygments_lexer": "ipython3",
   "version": "3.12.3"
  }
 },
 "nbformat": 4,
 "nbformat_minor": 2
}
